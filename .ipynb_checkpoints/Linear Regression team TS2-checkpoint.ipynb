{
 "cells": [
  {
   "cell_type": "markdown",
   "metadata": {},
   "source": [
    "# Regression Model that Predicts Apple Prices Based on Historical Data"
   ]
  },
  {
   "cell_type": "markdown",
   "metadata": {},
   "source": [
    "<img src=\"predict.jpeg\" height=400>"
   ]
  },
  {
   "cell_type": "markdown",
   "metadata": {},
   "source": [
    "# Table Of Contents\n",
    "### 1. [Introduction](#introduction)\n",
    "\n",
    "    1. Objective\n",
    "    2. Parameters\n",
    "    3. Outline\n",
    "    \n",
    "### 2. [Importing Data and Plotting](#import)\n",
    "\n",
    "    1. Import necessary packages\n",
    "    2. Import the data into a Pandas Dataframe\n",
    "    3. Show the data\n",
    "    4. Make ean initial plot of the data\n",
    "\n",
    "### 3. [Exploratory Data Analysis](#explore)\n",
    "### 4. [Split Data: Testing and training](#split)\n",
    "### 5. [Outliers](#outliers)\n",
    "### 6. [Regression Model](#regress)\n",
    "    1. Taking estimates\n",
    "    2. Least squares\n",
    "    3. sklearn\n",
    "### 7. [Conclusion](#conclude)"
   ]
  },
  {
   "cell_type": "markdown",
   "metadata": {},
   "source": [
    "## 1. Introduction <a name=\"introduction\"></a>"
   ]
  },
  {
   "cell_type": "markdown",
   "metadata": {},
   "source": [
    "### 1.1. Objective \n",
    "Our objective with this notebook is to design various multivariate regression models using different machine learning techniques to predict the cost of apples based on given historical data. Our objective is further to train our models with the data, to assess our models with training as well as unseen testing data, and to choose the model that best predicts the prices of apples. We also finally need to communicate our findings to an assessment board and to the world."
   ]
  },
  {
   "cell_type": "markdown",
   "metadata": {},
   "source": [
    "### 1.2. Use \n",
    "This forms part of a Kaggle competition and is also a team assessment for the students at Explore Data Science Academy.\n",
    "We hope that our research invested might also be used to further predictions of the prices of commodities and thereby help business in decision making."
   ]
  },
  {
   "cell_type": "markdown",
   "metadata": {},
   "source": [
    "### 1.3. Team members\n",
    "The team consists of five full-time students from Explore Data Science Academy who come from all walks of life and have been placed in a team for about 4 weeks under the supervision of Trevor Senyane.\n",
    "1. Jacques Stander - group coordinator\n",
    "2. Khomotso Maake\n",
    "3. Keletso Pule\n",
    "4. Harrison Hlongwane\n",
    "5. Bhalisa Sodo"
   ]
  },
  {
   "cell_type": "markdown",
   "metadata": {},
   "source": [
    "### 1.4. Data source and descriptions\n",
    "The data is provided for us on Kaggle in the form of a CSV file which is available to download. The data consists of 10 columns and is described as follows:\n",
    "1. Province - Which province the produce was grown\n",
    "2. Container - The code for the type of container\n",
    "3. Size_Grade - The class of the produce according to their quality\n",
    "4. Weight_Kg - The total weight in kilograms\n",
    "5. Commodities - The type of produce, e.g. Golden Delicious Apples\n",
    "6. Date - The date of the sale\n",
    "7. Sales_Total - The total sales price\n",
    "8. Total_Qty_Sold - The number of produce sold\n",
    "9. Total_Kg_Sold - The total weight of the produce sold in kilograms\n",
    "10. Stock_On_Hand - The amount of produce the store has`"
   ]
  },
  {
   "cell_type": "markdown",
   "metadata": {},
   "source": [
    "### 1.5. Submission format"
   ]
  },
  {
   "cell_type": "markdown",
   "metadata": {},
   "source": [
    "The following table indicates the format in which we need to structure our final answer in submitting onto Kaggle. "
   ]
  },
  {
   "cell_type": "code",
   "execution_count": 1,
   "metadata": {
    "scrolled": false
   },
   "outputs": [
    {
     "data": {
      "text/html": [
       "<div>\n",
       "<style scoped>\n",
       "    .dataframe tbody tr th:only-of-type {\n",
       "        vertical-align: middle;\n",
       "    }\n",
       "\n",
       "    .dataframe tbody tr th {\n",
       "        vertical-align: top;\n",
       "    }\n",
       "\n",
       "    .dataframe thead th {\n",
       "        text-align: right;\n",
       "    }\n",
       "</style>\n",
       "<table border=\"1\" class=\"dataframe\">\n",
       "  <thead>\n",
       "    <tr style=\"text-align: right;\">\n",
       "      <th></th>\n",
       "      <th>Index</th>\n",
       "      <th>avg_price_per_kg</th>\n",
       "    </tr>\n",
       "  </thead>\n",
       "  <tbody>\n",
       "    <tr>\n",
       "      <th>0</th>\n",
       "      <td>1</td>\n",
       "      <td>13.94</td>\n",
       "    </tr>\n",
       "    <tr>\n",
       "      <th>1</th>\n",
       "      <td>2</td>\n",
       "      <td>1.30</td>\n",
       "    </tr>\n",
       "  </tbody>\n",
       "</table>\n",
       "</div>"
      ],
      "text/plain": [
       "   Index  avg_price_per_kg\n",
       "0      1             13.94\n",
       "1      2              1.30"
      ]
     },
     "execution_count": 1,
     "metadata": {},
     "output_type": "execute_result"
    }
   ],
   "source": [
    "import pandas as pd\n",
    "sample_submission = pd.DataFrame(pd.read_csv(\"sample_submission.csv\"))\n",
    "sample_submission.head()"
   ]
  },
  {
   "cell_type": "markdown",
   "metadata": {},
   "source": [
    "## 2. Exploratory Data Analysis <a name=\"import\"></a>"
   ]
  },
  {
   "cell_type": "markdown",
   "metadata": {},
   "source": [
    "### 2.1. Importing the necessary packages"
   ]
  },
  {
   "cell_type": "code",
   "execution_count": 2,
   "metadata": {},
   "outputs": [],
   "source": [
    "# These packages will be mainly used for data wrangling. Pandas is already imported.\n",
    "import numpy as np\n",
    "\n",
    "# These packages will be mostly used for plotting the data\n",
    "from matplotlib import pyplot as plt\n",
    "import seaborn as sns\n",
    "\n",
    "# These packages will be mostly used to build our linear regression model so that we can make predictions from it.\n",
    "import statsmodels as sm\n",
    "import sklearn as skl"
   ]
  },
  {
   "cell_type": "markdown",
   "metadata": {},
   "source": [
    "### 2.2. Importing the data into a Pandas Dataframe"
   ]
  },
  {
   "cell_type": "code",
   "execution_count": 3,
   "metadata": {},
   "outputs": [],
   "source": [
    "#import train and test sets into DataFrames\n",
    "sample_submission = pd.DataFrame(pd.read_csv(\"sample_submission.csv\"))\n",
    "test_set = pd.DataFrame(pd.read_csv(\"df-test_set.csv\"))\n",
    "train_set = pd.DataFrame(pd.read_csv(\"df-train_set.csv\"))"
   ]
  },
  {
   "cell_type": "markdown",
   "metadata": {},
   "source": [
    "### 2.3. Showing the table head filtered for Apple Golden Delicious\n",
    "We filter for Apple Golden Delicious, becuase we noted that out testing data only considers this commodity."
   ]
  },
  {
   "cell_type": "code",
   "execution_count": 4,
   "metadata": {},
   "outputs": [],
   "source": [
    "#Filter for Commodity of interest in train set\n",
    "train_set = train_set[train_set[\"Commodities\"]==\"APPLE GOLDEN DELICIOUS\"]"
   ]
  },
  {
   "cell_type": "code",
   "execution_count": 5,
   "metadata": {
    "scrolled": true
   },
   "outputs": [
    {
     "data": {
      "text/html": [
       "<div>\n",
       "<style scoped>\n",
       "    .dataframe tbody tr th:only-of-type {\n",
       "        vertical-align: middle;\n",
       "    }\n",
       "\n",
       "    .dataframe tbody tr th {\n",
       "        vertical-align: top;\n",
       "    }\n",
       "\n",
       "    .dataframe thead th {\n",
       "        text-align: right;\n",
       "    }\n",
       "</style>\n",
       "<table border=\"1\" class=\"dataframe\">\n",
       "  <thead>\n",
       "    <tr style=\"text-align: right;\">\n",
       "      <th></th>\n",
       "      <th>Province</th>\n",
       "      <th>Container</th>\n",
       "      <th>Size_Grade</th>\n",
       "      <th>Weight_Kg</th>\n",
       "      <th>Commodities</th>\n",
       "      <th>Date</th>\n",
       "      <th>Low_Price</th>\n",
       "      <th>High_Price</th>\n",
       "      <th>Sales_Total</th>\n",
       "      <th>Total_Qty_Sold</th>\n",
       "      <th>Total_Kg_Sold</th>\n",
       "      <th>Stock_On_Hand</th>\n",
       "      <th>avg_price_per_kg</th>\n",
       "    </tr>\n",
       "  </thead>\n",
       "  <tbody>\n",
       "    <tr>\n",
       "      <th>1</th>\n",
       "      <td>CAPE</td>\n",
       "      <td>M4183</td>\n",
       "      <td>1L</td>\n",
       "      <td>18.3</td>\n",
       "      <td>APPLE GOLDEN DELICIOUS</td>\n",
       "      <td>2020-09-09</td>\n",
       "      <td>150.0</td>\n",
       "      <td>170.0</td>\n",
       "      <td>51710.0</td>\n",
       "      <td>332</td>\n",
       "      <td>6075.6</td>\n",
       "      <td>822</td>\n",
       "      <td>8.51</td>\n",
       "    </tr>\n",
       "    <tr>\n",
       "      <th>7</th>\n",
       "      <td>CAPE</td>\n",
       "      <td>JG110</td>\n",
       "      <td>2M</td>\n",
       "      <td>11.0</td>\n",
       "      <td>APPLE GOLDEN DELICIOUS</td>\n",
       "      <td>2020-04-14</td>\n",
       "      <td>50.0</td>\n",
       "      <td>50.0</td>\n",
       "      <td>16000.0</td>\n",
       "      <td>320</td>\n",
       "      <td>3520.0</td>\n",
       "      <td>0</td>\n",
       "      <td>4.55</td>\n",
       "    </tr>\n",
       "    <tr>\n",
       "      <th>24</th>\n",
       "      <td>W.CAPE-BERGRIVER ETC</td>\n",
       "      <td>JE090</td>\n",
       "      <td>2S</td>\n",
       "      <td>9.0</td>\n",
       "      <td>APPLE GOLDEN DELICIOUS</td>\n",
       "      <td>2020-04-16</td>\n",
       "      <td>55.0</td>\n",
       "      <td>55.0</td>\n",
       "      <td>990.0</td>\n",
       "      <td>18</td>\n",
       "      <td>162.0</td>\n",
       "      <td>1506</td>\n",
       "      <td>6.11</td>\n",
       "    </tr>\n",
       "    <tr>\n",
       "      <th>40</th>\n",
       "      <td>CAPE</td>\n",
       "      <td>M4183</td>\n",
       "      <td>1S</td>\n",
       "      <td>18.3</td>\n",
       "      <td>APPLE GOLDEN DELICIOUS</td>\n",
       "      <td>2020-05-04</td>\n",
       "      <td>80.0</td>\n",
       "      <td>120.0</td>\n",
       "      <td>32020.0</td>\n",
       "      <td>388</td>\n",
       "      <td>7100.4</td>\n",
       "      <td>443</td>\n",
       "      <td>4.51</td>\n",
       "    </tr>\n",
       "    <tr>\n",
       "      <th>69</th>\n",
       "      <td>EASTERN CAPE</td>\n",
       "      <td>IA400</td>\n",
       "      <td>1S</td>\n",
       "      <td>400.0</td>\n",
       "      <td>APPLE GOLDEN DELICIOUS</td>\n",
       "      <td>2020-09-28</td>\n",
       "      <td>1800.0</td>\n",
       "      <td>1800.0</td>\n",
       "      <td>1800.0</td>\n",
       "      <td>1</td>\n",
       "      <td>400.0</td>\n",
       "      <td>2</td>\n",
       "      <td>4.50</td>\n",
       "    </tr>\n",
       "  </tbody>\n",
       "</table>\n",
       "</div>"
      ],
      "text/plain": [
       "                Province Container Size_Grade  Weight_Kg  \\\n",
       "1                   CAPE     M4183         1L       18.3   \n",
       "7                   CAPE     JG110         2M       11.0   \n",
       "24  W.CAPE-BERGRIVER ETC     JE090         2S        9.0   \n",
       "40                  CAPE     M4183         1S       18.3   \n",
       "69          EASTERN CAPE     IA400         1S      400.0   \n",
       "\n",
       "               Commodities        Date  Low_Price  High_Price  Sales_Total  \\\n",
       "1   APPLE GOLDEN DELICIOUS  2020-09-09      150.0       170.0      51710.0   \n",
       "7   APPLE GOLDEN DELICIOUS  2020-04-14       50.0        50.0      16000.0   \n",
       "24  APPLE GOLDEN DELICIOUS  2020-04-16       55.0        55.0        990.0   \n",
       "40  APPLE GOLDEN DELICIOUS  2020-05-04       80.0       120.0      32020.0   \n",
       "69  APPLE GOLDEN DELICIOUS  2020-09-28     1800.0      1800.0       1800.0   \n",
       "\n",
       "    Total_Qty_Sold  Total_Kg_Sold  Stock_On_Hand  avg_price_per_kg  \n",
       "1              332         6075.6            822              8.51  \n",
       "7              320         3520.0              0              4.55  \n",
       "24              18          162.0           1506              6.11  \n",
       "40             388         7100.4            443              4.51  \n",
       "69               1          400.0              2              4.50  "
      ]
     },
     "execution_count": 5,
     "metadata": {},
     "output_type": "execute_result"
    }
   ],
   "source": [
    "#Viewing the first five rows of our train_set dataframe.\n",
    "train_set.head() "
   ]
  },
  {
   "cell_type": "code",
   "execution_count": 6,
   "metadata": {},
   "outputs": [
    {
     "data": {
      "text/html": [
       "<div>\n",
       "<style scoped>\n",
       "    .dataframe tbody tr th:only-of-type {\n",
       "        vertical-align: middle;\n",
       "    }\n",
       "\n",
       "    .dataframe tbody tr th {\n",
       "        vertical-align: top;\n",
       "    }\n",
       "\n",
       "    .dataframe thead th {\n",
       "        text-align: right;\n",
       "    }\n",
       "</style>\n",
       "<table border=\"1\" class=\"dataframe\">\n",
       "  <thead>\n",
       "    <tr style=\"text-align: right;\">\n",
       "      <th></th>\n",
       "      <th>Index</th>\n",
       "      <th>Province</th>\n",
       "      <th>Container</th>\n",
       "      <th>Size_Grade</th>\n",
       "      <th>Weight_Kg</th>\n",
       "      <th>Commodities</th>\n",
       "      <th>Date</th>\n",
       "      <th>Low_Price</th>\n",
       "      <th>High_Price</th>\n",
       "      <th>Sales_Total</th>\n",
       "      <th>Total_Qty_Sold</th>\n",
       "      <th>Total_Kg_Sold</th>\n",
       "      <th>Stock_On_Hand</th>\n",
       "    </tr>\n",
       "  </thead>\n",
       "  <tbody>\n",
       "    <tr>\n",
       "      <th>581</th>\n",
       "      <td>582</td>\n",
       "      <td>CAPE</td>\n",
       "      <td>M9125</td>\n",
       "      <td>1X</td>\n",
       "      <td>12.5</td>\n",
       "      <td>APPLE GOLDEN DELICIOUS</td>\n",
       "      <td>2020-05-26</td>\n",
       "      <td>65.0</td>\n",
       "      <td>65.0</td>\n",
       "      <td>4225.0</td>\n",
       "      <td>65</td>\n",
       "      <td>812.5</td>\n",
       "      <td>0</td>\n",
       "    </tr>\n",
       "  </tbody>\n",
       "</table>\n",
       "</div>"
      ],
      "text/plain": [
       "     Index Province Container Size_Grade  Weight_Kg             Commodities  \\\n",
       "581    582     CAPE     M9125         1X       12.5  APPLE GOLDEN DELICIOUS   \n",
       "\n",
       "           Date  Low_Price  High_Price  Sales_Total  Total_Qty_Sold  \\\n",
       "581  2020-05-26       65.0        65.0       4225.0              65   \n",
       "\n",
       "     Total_Kg_Sold  Stock_On_Hand  \n",
       "581          812.5              0  "
      ]
     },
     "execution_count": 6,
     "metadata": {},
     "output_type": "execute_result"
    }
   ],
   "source": [
    "test_set.iloc[581:582,:]"
   ]
  },
  {
   "cell_type": "code",
   "execution_count": 7,
   "metadata": {},
   "outputs": [
    {
     "data": {
      "text/html": [
       "<div>\n",
       "<style scoped>\n",
       "    .dataframe tbody tr th:only-of-type {\n",
       "        vertical-align: middle;\n",
       "    }\n",
       "\n",
       "    .dataframe tbody tr th {\n",
       "        vertical-align: top;\n",
       "    }\n",
       "\n",
       "    .dataframe thead th {\n",
       "        text-align: right;\n",
       "    }\n",
       "</style>\n",
       "<table border=\"1\" class=\"dataframe\">\n",
       "  <thead>\n",
       "    <tr style=\"text-align: right;\">\n",
       "      <th></th>\n",
       "      <th>Index</th>\n",
       "      <th>Province</th>\n",
       "      <th>Container</th>\n",
       "      <th>Size_Grade</th>\n",
       "      <th>Weight_Kg</th>\n",
       "      <th>Commodities</th>\n",
       "      <th>Date</th>\n",
       "      <th>Low_Price</th>\n",
       "      <th>High_Price</th>\n",
       "      <th>Sales_Total</th>\n",
       "      <th>Total_Qty_Sold</th>\n",
       "      <th>Total_Kg_Sold</th>\n",
       "      <th>Stock_On_Hand</th>\n",
       "    </tr>\n",
       "  </thead>\n",
       "  <tbody>\n",
       "    <tr>\n",
       "      <th>186</th>\n",
       "      <td>187</td>\n",
       "      <td>EASTERN CAPE</td>\n",
       "      <td>DT063</td>\n",
       "      <td>2M</td>\n",
       "      <td>6.3</td>\n",
       "      <td>APPLE GOLDEN DELICIOUS</td>\n",
       "      <td>2020-09-28</td>\n",
       "      <td>40.0</td>\n",
       "      <td>40.0</td>\n",
       "      <td>1880.0</td>\n",
       "      <td>47</td>\n",
       "      <td>296.1</td>\n",
       "      <td>14</td>\n",
       "    </tr>\n",
       "  </tbody>\n",
       "</table>\n",
       "</div>"
      ],
      "text/plain": [
       "     Index      Province Container Size_Grade  Weight_Kg  \\\n",
       "186    187  EASTERN CAPE     DT063         2M        6.3   \n",
       "\n",
       "                Commodities        Date  Low_Price  High_Price  Sales_Total  \\\n",
       "186  APPLE GOLDEN DELICIOUS  2020-09-28       40.0        40.0       1880.0   \n",
       "\n",
       "     Total_Qty_Sold  Total_Kg_Sold  Stock_On_Hand  \n",
       "186              47          296.1             14  "
      ]
     },
     "execution_count": 7,
     "metadata": {},
     "output_type": "execute_result"
    }
   ],
   "source": [
    "test_set.iloc[186:187,:]"
   ]
  },
  {
   "cell_type": "code",
   "execution_count": 8,
   "metadata": {},
   "outputs": [
    {
     "data": {
      "text/html": [
       "<div>\n",
       "<style scoped>\n",
       "    .dataframe tbody tr th:only-of-type {\n",
       "        vertical-align: middle;\n",
       "    }\n",
       "\n",
       "    .dataframe tbody tr th {\n",
       "        vertical-align: top;\n",
       "    }\n",
       "\n",
       "    .dataframe thead th {\n",
       "        text-align: right;\n",
       "    }\n",
       "</style>\n",
       "<table border=\"1\" class=\"dataframe\">\n",
       "  <thead>\n",
       "    <tr style=\"text-align: right;\">\n",
       "      <th></th>\n",
       "      <th>Index</th>\n",
       "      <th>Province</th>\n",
       "      <th>Container</th>\n",
       "      <th>Size_Grade</th>\n",
       "      <th>Weight_Kg</th>\n",
       "      <th>Commodities</th>\n",
       "      <th>Date</th>\n",
       "      <th>Low_Price</th>\n",
       "      <th>High_Price</th>\n",
       "      <th>Sales_Total</th>\n",
       "      <th>Total_Qty_Sold</th>\n",
       "      <th>Total_Kg_Sold</th>\n",
       "      <th>Stock_On_Hand</th>\n",
       "    </tr>\n",
       "  </thead>\n",
       "  <tbody>\n",
       "    <tr>\n",
       "      <th>663</th>\n",
       "      <td>664</td>\n",
       "      <td>NATAL</td>\n",
       "      <td>DT063</td>\n",
       "      <td>2S</td>\n",
       "      <td>6.3</td>\n",
       "      <td>APPLE GOLDEN DELICIOUS</td>\n",
       "      <td>2020-01-14</td>\n",
       "      <td>10.0</td>\n",
       "      <td>10.0</td>\n",
       "      <td>10.0</td>\n",
       "      <td>1</td>\n",
       "      <td>6.3</td>\n",
       "      <td>0</td>\n",
       "    </tr>\n",
       "  </tbody>\n",
       "</table>\n",
       "</div>"
      ],
      "text/plain": [
       "     Index Province Container Size_Grade  Weight_Kg             Commodities  \\\n",
       "663    664    NATAL     DT063         2S        6.3  APPLE GOLDEN DELICIOUS   \n",
       "\n",
       "           Date  Low_Price  High_Price  Sales_Total  Total_Qty_Sold  \\\n",
       "663  2020-01-14       10.0        10.0         10.0               1   \n",
       "\n",
       "     Total_Kg_Sold  Stock_On_Hand  \n",
       "663            6.3              0  "
      ]
     },
     "execution_count": 8,
     "metadata": {},
     "output_type": "execute_result"
    }
   ],
   "source": [
    "test_set.iloc[663:664,:]"
   ]
  },
  {
   "cell_type": "markdown",
   "metadata": {},
   "source": [
    "### 2.4. Making initial plots of the data to learn more of the data"
   ]
  },
  {
   "cell_type": "code",
   "execution_count": 9,
   "metadata": {},
   "outputs": [
    {
     "data": {
      "image/png": "[encoded data removed]",
      "text/plain": [
       "<Figure size 432x288 with 1 Axes>"
      ]
     },
     "metadata": {
      "needs_background": "light"
     },
     "output_type": "display_data"
    }
   ],
   "source": [
    "plt.scatter(train_set[\"avg_price_per_kg\"], train_set['Weight_Kg'])\n",
    "plt.ylabel(\"Weight(Kg)\")\n",
    "plt.xlabel(\"avg_price_per_kg\")\n",
    "plt.show()"
   ]
  },
  {
   "cell_type": "markdown",
   "metadata": {},
   "source": [
    "We note that most of the apples have a weight lower than 25 kilogram and a few have a high weight of exactly 400 kilogram with no values inbetween. Apples at exactly 400 kg are considerable lower priced. We also note one outlier where an apple was sold for near R25."
   ]
  },
  {
   "cell_type": "code",
   "execution_count": 10,
   "metadata": {},
   "outputs": [
    {
     "data": {
      "image/png": "[encoded data removed]",
      "text/plain": [
       "<Figure size 432x288 with 1 Axes>"
      ]
     },
     "metadata": {
      "needs_background": "light"
     },
     "output_type": "display_data"
    }
   ],
   "source": [
    "plt.scatter(train_set['avg_price_per_kg'], train_set['Total_Qty_Sold'])\n",
    "plt.ylabel(\"Total_Qty_Sold\")\n",
    "plt.xlabel(\"avg_price_per_kg\")\n",
    "plt.show()"
   ]
  },
  {
   "cell_type": "markdown",
   "metadata": {},
   "source": [
    "We observe that for most of the average prices of apples per kilogram the total quantity sold is densley populated between 0-2000 apples with prices between R0-R15. There are a few outliers including one Total Quintity Sold of above 4000 apples."
   ]
  },
  {
   "cell_type": "code",
   "execution_count": 11,
   "metadata": {},
   "outputs": [
    {
     "data": {
      "image/png": "[encoded data removed]",
      "text/plain": [
       "<Figure size 432x288 with 1 Axes>"
      ]
     },
     "metadata": {
      "needs_background": "light"
     },
     "output_type": "display_data"
    }
   ],
   "source": [
    "plt.scatter(train_set['avg_price_per_kg'], train_set['Sales_Total'])\n",
    "plt.ylabel(\"Sales Total\")\n",
    "plt.xlabel(\"avg_price_per_kg\")\n",
    "plt.show()"
   ]
  },
  {
   "cell_type": "markdown",
   "metadata": {},
   "source": [
    "We observe that for most of the average prices the total sales is densley populated between R0-R200000. There are a few outliers once again of above R350 000."
   ]
  },
  {
   "cell_type": "markdown",
   "metadata": {},
   "source": [
    "### 2.5. Exploring the data shape, types and testing for null values"
   ]
  },
  {
   "cell_type": "code",
   "execution_count": 12,
   "metadata": {},
   "outputs": [
    {
     "data": {
      "text/plain": [
       "(1952, 13)"
      ]
     },
     "execution_count": 12,
     "metadata": {},
     "output_type": "execute_result"
    }
   ],
   "source": [
    "#The dataframe has 1952 rows and 13 columns.\n",
    "train_set.shape"
   ]
  },
  {
   "cell_type": "code",
   "execution_count": 13,
   "metadata": {
    "scrolled": true
   },
   "outputs": [
    {
     "name": "stdout",
     "output_type": "stream",
     "text": [
      "<class 'pandas.core.frame.DataFrame'>\n",
      "Int64Index: 1952 entries, 1 to 64310\n",
      "Data columns (total 13 columns):\n",
      " #   Column            Non-Null Count  Dtype  \n",
      "---  ------            --------------  -----  \n",
      " 0   Province          1952 non-null   object \n",
      " 1   Container         1952 non-null   object \n",
      " 2   Size_Grade        1952 non-null   object \n",
      " 3   Weight_Kg         1952 non-null   float64\n",
      " 4   Commodities       1952 non-null   object \n",
      " 5   Date              1952 non-null   object \n",
      " 6   Low_Price         1952 non-null   float64\n",
      " 7   High_Price        1952 non-null   float64\n",
      " 8   Sales_Total       1952 non-null   float64\n",
      " 9   Total_Qty_Sold    1952 non-null   int64  \n",
      " 10  Total_Kg_Sold     1952 non-null   float64\n",
      " 11  Stock_On_Hand     1952 non-null   int64  \n",
      " 12  avg_price_per_kg  1952 non-null   float64\n",
      "dtypes: float64(6), int64(2), object(5)\n",
      "memory usage: 213.5+ KB\n"
     ]
    }
   ],
   "source": [
    "#The info method displays the nature of our data i.e datatypes and non-null count.\n",
    "train_set.info()"
   ]
  },
  {
   "cell_type": "markdown",
   "metadata": {},
   "source": [
    "The info summary above shows 1952 entries and it has the following data types: six float type data, two integer type data, five object type data with no null values."
   ]
  },
  {
   "cell_type": "markdown",
   "metadata": {},
   "source": [
    "### 2.6. How the  testing data differs from training data"
   ]
  },
  {
   "cell_type": "markdown",
   "metadata": {},
   "source": [
    "Our Test_set data has 685 rows and 13 columns, our rows are smaller than the train data as expected since the bulk of our data will go into training our model.\n",
    "\n",
    "The data types also differ in our test data, we have five float type data, three integer type data, five object type data. All columns showing zero null values. In the training data there are six float type and two integer type data.\n",
    "\n",
    "Test_set statistics vary from train_set ones as we are working with a smaller data set in our test data."
   ]
  },
  {
   "cell_type": "markdown",
   "metadata": {},
   "source": [
    "### 2.7. Descriptive statistics of each feature:"
   ]
  },
  {
   "cell_type": "code",
   "execution_count": 14,
   "metadata": {},
   "outputs": [
    {
     "data": {
      "text/html": [
       "<div>\n",
       "<style scoped>\n",
       "    .dataframe tbody tr th:only-of-type {\n",
       "        vertical-align: middle;\n",
       "    }\n",
       "\n",
       "    .dataframe tbody tr th {\n",
       "        vertical-align: top;\n",
       "    }\n",
       "\n",
       "    .dataframe thead th {\n",
       "        text-align: right;\n",
       "    }\n",
       "</style>\n",
       "<table border=\"1\" class=\"dataframe\">\n",
       "  <thead>\n",
       "    <tr style=\"text-align: right;\">\n",
       "      <th></th>\n",
       "      <th>Weight_Kg</th>\n",
       "      <th>Low_Price</th>\n",
       "      <th>High_Price</th>\n",
       "      <th>Sales_Total</th>\n",
       "      <th>Total_Qty_Sold</th>\n",
       "      <th>Total_Kg_Sold</th>\n",
       "      <th>Stock_On_Hand</th>\n",
       "      <th>avg_price_per_kg</th>\n",
       "    </tr>\n",
       "  </thead>\n",
       "  <tbody>\n",
       "    <tr>\n",
       "      <th>count</th>\n",
       "      <td>1952.000000</td>\n",
       "      <td>1952.000000</td>\n",
       "      <td>1952.000000</td>\n",
       "      <td>1952.000000</td>\n",
       "      <td>1952.000000</td>\n",
       "      <td>1952.000000</td>\n",
       "      <td>1952.000000</td>\n",
       "      <td>1952.000000</td>\n",
       "    </tr>\n",
       "    <tr>\n",
       "      <th>mean</th>\n",
       "      <td>40.460912</td>\n",
       "      <td>174.307377</td>\n",
       "      <td>215.648053</td>\n",
       "      <td>20053.533811</td>\n",
       "      <td>174.510758</td>\n",
       "      <td>2960.176332</td>\n",
       "      <td>408.393955</td>\n",
       "      <td>6.778893</td>\n",
       "    </tr>\n",
       "    <tr>\n",
       "      <th>std</th>\n",
       "      <td>99.655169</td>\n",
       "      <td>373.553578</td>\n",
       "      <td>433.546159</td>\n",
       "      <td>39005.069445</td>\n",
       "      <td>308.810797</td>\n",
       "      <td>6097.416527</td>\n",
       "      <td>724.450582</td>\n",
       "      <td>2.248744</td>\n",
       "    </tr>\n",
       "    <tr>\n",
       "      <th>min</th>\n",
       "      <td>3.000000</td>\n",
       "      <td>2.000000</td>\n",
       "      <td>5.000000</td>\n",
       "      <td>5.000000</td>\n",
       "      <td>1.000000</td>\n",
       "      <td>3.000000</td>\n",
       "      <td>0.000000</td>\n",
       "      <td>0.250000</td>\n",
       "    </tr>\n",
       "    <tr>\n",
       "      <th>25%</th>\n",
       "      <td>9.000000</td>\n",
       "      <td>50.000000</td>\n",
       "      <td>60.000000</td>\n",
       "      <td>1325.000000</td>\n",
       "      <td>12.000000</td>\n",
       "      <td>219.600000</td>\n",
       "      <td>9.000000</td>\n",
       "      <td>5.460000</td>\n",
       "    </tr>\n",
       "    <tr>\n",
       "      <th>50%</th>\n",
       "      <td>12.000000</td>\n",
       "      <td>80.000000</td>\n",
       "      <td>108.000000</td>\n",
       "      <td>5495.000000</td>\n",
       "      <td>64.000000</td>\n",
       "      <td>853.500000</td>\n",
       "      <td>126.500000</td>\n",
       "      <td>6.670000</td>\n",
       "    </tr>\n",
       "    <tr>\n",
       "      <th>75%</th>\n",
       "      <td>18.300000</td>\n",
       "      <td>127.250000</td>\n",
       "      <td>160.000000</td>\n",
       "      <td>21082.500000</td>\n",
       "      <td>200.000000</td>\n",
       "      <td>3093.525000</td>\n",
       "      <td>468.000000</td>\n",
       "      <td>8.280000</td>\n",
       "    </tr>\n",
       "    <tr>\n",
       "      <th>max</th>\n",
       "      <td>400.000000</td>\n",
       "      <td>2300.000000</td>\n",
       "      <td>3300.000000</td>\n",
       "      <td>369464.000000</td>\n",
       "      <td>4237.000000</td>\n",
       "      <td>74000.000000</td>\n",
       "      <td>6400.000000</td>\n",
       "      <td>21.240000</td>\n",
       "    </tr>\n",
       "  </tbody>\n",
       "</table>\n",
       "</div>"
      ],
      "text/plain": [
       "         Weight_Kg    Low_Price   High_Price    Sales_Total  Total_Qty_Sold  \\\n",
       "count  1952.000000  1952.000000  1952.000000    1952.000000     1952.000000   \n",
       "mean     40.460912   174.307377   215.648053   20053.533811      174.510758   \n",
       "std      99.655169   373.553578   433.546159   39005.069445      308.810797   \n",
       "min       3.000000     2.000000     5.000000       5.000000        1.000000   \n",
       "25%       9.000000    50.000000    60.000000    1325.000000       12.000000   \n",
       "50%      12.000000    80.000000   108.000000    5495.000000       64.000000   \n",
       "75%      18.300000   127.250000   160.000000   21082.500000      200.000000   \n",
       "max     400.000000  2300.000000  3300.000000  369464.000000     4237.000000   \n",
       "\n",
       "       Total_Kg_Sold  Stock_On_Hand  avg_price_per_kg  \n",
       "count    1952.000000    1952.000000       1952.000000  \n",
       "mean     2960.176332     408.393955          6.778893  \n",
       "std      6097.416527     724.450582          2.248744  \n",
       "min         3.000000       0.000000          0.250000  \n",
       "25%       219.600000       9.000000          5.460000  \n",
       "50%       853.500000     126.500000          6.670000  \n",
       "75%      3093.525000     468.000000          8.280000  \n",
       "max     74000.000000    6400.000000         21.240000  "
      ]
     },
     "execution_count": 14,
     "metadata": {},
     "output_type": "execute_result"
    }
   ],
   "source": [
    "train_set.describe()"
   ]
  },
  {
   "cell_type": "markdown",
   "metadata": {},
   "source": [
    "### 2.8. Calculating the kurtosis and skew of the data:"
   ]
  },
  {
   "cell_type": "code",
   "execution_count": 15,
   "metadata": {},
   "outputs": [
    {
     "data": {
      "text/plain": [
       "Weight_Kg           3.328254\n",
       "Low_Price           4.222672\n",
       "High_Price          3.828819\n",
       "Sales_Total         4.250317\n",
       "Total_Qty_Sold      4.445169\n",
       "Total_Kg_Sold       5.529586\n",
       "Stock_On_Hand       3.391815\n",
       "avg_price_per_kg    0.082452\n",
       "dtype: float64"
      ]
     },
     "execution_count": 15,
     "metadata": {},
     "output_type": "execute_result"
    }
   ],
   "source": [
    "train_set.skew()"
   ]
  },
  {
   "cell_type": "markdown",
   "metadata": {},
   "source": [
    "We observe that all the feautures are highly skewed in the positive direction except for the average price per kg (which is moderately skewed in a positive direction). For the high positive skewed feautures we have that mode < median < mean."
   ]
  },
  {
   "cell_type": "code",
   "execution_count": 16,
   "metadata": {},
   "outputs": [
    {
     "data": {
      "text/plain": [
       "Weight_Kg            9.109698\n",
       "Low_Price           17.073369\n",
       "High_Price          13.630768\n",
       "Sales_Total         24.200524\n",
       "Total_Qty_Sold      32.338123\n",
       "Total_Kg_Sold       45.153801\n",
       "Stock_On_Hand       14.671224\n",
       "avg_price_per_kg     1.042921\n",
       "dtype: float64"
      ]
     },
     "execution_count": 16,
     "metadata": {},
     "output_type": "execute_result"
    }
   ],
   "source": [
    "train_set.kurtosis()"
   ]
  },
  {
   "cell_type": "markdown",
   "metadata": {},
   "source": [
    "From the above, we observe that all the feautures have a high kurtosis besides the average price per kg. This indicates that all the feautures have a large number of outliers except for the average price."
   ]
  },
  {
   "cell_type": "markdown",
   "metadata": {},
   "source": [
    "### 2.9. More univariate graphical analysis\n"
   ]
  },
  {
   "cell_type": "code",
   "execution_count": 17,
   "metadata": {},
   "outputs": [
    {
     "data": {
      "text/plain": [
       "array([[<AxesSubplot:title={'center':'Weight_Kg'}>,\n",
       "        <AxesSubplot:title={'center':'Sales_Total'}>]], dtype=object)"
      ]
     },
     "execution_count": 17,
     "metadata": {},
     "output_type": "execute_result"
    },
    {
     "data": {
      "image/png": "[encoded data removed]",
      "text/plain": [
       "<Figure size 432x216 with 2 Axes>"
      ]
     },
     "metadata": {
      "needs_background": "light"
     },
     "output_type": "display_data"
    }
   ],
   "source": [
    "features = ['Weight_Kg', 'Sales_Total'] # create a list of all numerical features\n",
    "train_set[features].hist(figsize=(6,3))"
   ]
  },
  {
   "cell_type": "code",
   "execution_count": 18,
   "metadata": {},
   "outputs": [
    {
     "data": {
      "text/plain": [
       "<AxesSubplot:xlabel='High_Price'>"
      ]
     },
     "execution_count": 18,
     "metadata": {},
     "output_type": "execute_result"
    },
    {
     "data": {
      "image/png": "[encoded data removed]",
      "text/plain": [
       "<Figure size 432x288 with 1 Axes>"
      ]
     },
     "metadata": {
      "needs_background": "light"
     },
     "output_type": "display_data"
    }
   ],
   "source": [
    "sns.boxplot(x='High_Price', data=train_set)"
   ]
  },
  {
   "cell_type": "code",
   "execution_count": 19,
   "metadata": {},
   "outputs": [
    {
     "data": {
      "text/plain": [
       "<AxesSubplot:xlabel='Low_Price'>"
      ]
     },
     "execution_count": 19,
     "metadata": {},
     "output_type": "execute_result"
    },
    {
     "data": {
      "image/png": "[encoded data removed]",
      "text/plain": [
       "<Figure size 432x288 with 1 Axes>"
      ]
     },
     "metadata": {
      "needs_background": "light"
     },
     "output_type": "display_data"
    }
   ],
   "source": [
    "plt.subplot(sns.boxplot(x='Low_Price', data=train_set))"
   ]
  },
  {
   "cell_type": "code",
   "execution_count": 20,
   "metadata": {},
   "outputs": [
    {
     "data": {
      "image/png": "[encoded data removed]",
      "text/plain": [
       "<Figure size 432x288 with 1 Axes>"
      ]
     },
     "metadata": {
      "needs_background": "light"
     },
     "output_type": "display_data"
    }
   ],
   "source": [
    "sns.boxplot(x='avg_price_per_kg', data=train_set);"
   ]
  },
  {
   "cell_type": "code",
   "execution_count": 21,
   "metadata": {},
   "outputs": [
    {
     "data": {
      "image/png": "[encoded data removed]",
      "text/plain": [
       "<Figure size 432x288 with 1 Axes>"
      ]
     },
     "metadata": {
      "needs_background": "light"
     },
     "output_type": "display_data"
    }
   ],
   "source": [
    "sns.violinplot(x='Total_Qty_Sold', data=train_set);"
   ]
  },
  {
   "cell_type": "markdown",
   "metadata": {},
   "source": [
    "As expected, we observe that all the feautures are highly skewed to the right except for the average price per kg where outliers are taken into consideration."
   ]
  },
  {
   "cell_type": "code",
   "execution_count": 22,
   "metadata": {},
   "outputs": [
    {
     "data": {
      "image/png": "[encoded data removed]",
      "text/plain": [
       "<Figure size 432x288 with 1 Axes>"
      ]
     },
     "metadata": {
      "needs_background": "light"
     },
     "output_type": "display_data"
    }
   ],
   "source": [
    "sns.countplot(x = 'Size_Grade', data = train_set, palette=\"hls\")\n",
    "plt.title(\"Number of apples sold per grade\");"
   ]
  },
  {
   "cell_type": "markdown",
   "metadata": {},
   "source": [
    "We see that the 1S size_Grade is the most sold."
   ]
  },
  {
   "cell_type": "markdown",
   "metadata": {},
   "source": [
    "### 2.10. Considering correlation between parameters \n",
    "We now examine the Pearson correlation between two variables:"
   ]
  },
  {
   "cell_type": "code",
   "execution_count": 23,
   "metadata": {},
   "outputs": [
    {
     "data": {
      "text/html": [
       "<div>\n",
       "<style scoped>\n",
       "    .dataframe tbody tr th:only-of-type {\n",
       "        vertical-align: middle;\n",
       "    }\n",
       "\n",
       "    .dataframe tbody tr th {\n",
       "        vertical-align: top;\n",
       "    }\n",
       "\n",
       "    .dataframe thead th {\n",
       "        text-align: right;\n",
       "    }\n",
       "</style>\n",
       "<table border=\"1\" class=\"dataframe\">\n",
       "  <thead>\n",
       "    <tr style=\"text-align: right;\">\n",
       "      <th></th>\n",
       "      <th>Weight_Kg</th>\n",
       "      <th>Low_Price</th>\n",
       "      <th>High_Price</th>\n",
       "      <th>Sales_Total</th>\n",
       "      <th>Total_Qty_Sold</th>\n",
       "      <th>Total_Kg_Sold</th>\n",
       "      <th>Stock_On_Hand</th>\n",
       "      <th>avg_price_per_kg</th>\n",
       "    </tr>\n",
       "  </thead>\n",
       "  <tbody>\n",
       "    <tr>\n",
       "      <th>Weight_Kg</th>\n",
       "      <td>1.000000</td>\n",
       "      <td>0.863182</td>\n",
       "      <td>0.905852</td>\n",
       "      <td>0.180518</td>\n",
       "      <td>-0.133317</td>\n",
       "      <td>0.294117</td>\n",
       "      <td>-0.144105</td>\n",
       "      <td>-0.337886</td>\n",
       "    </tr>\n",
       "    <tr>\n",
       "      <th>Low_Price</th>\n",
       "      <td>0.863182</td>\n",
       "      <td>1.000000</td>\n",
       "      <td>0.938140</td>\n",
       "      <td>0.183230</td>\n",
       "      <td>-0.122823</td>\n",
       "      <td>0.269744</td>\n",
       "      <td>-0.127677</td>\n",
       "      <td>-0.141740</td>\n",
       "    </tr>\n",
       "    <tr>\n",
       "      <th>High_Price</th>\n",
       "      <td>0.905852</td>\n",
       "      <td>0.938140</td>\n",
       "      <td>1.000000</td>\n",
       "      <td>0.265672</td>\n",
       "      <td>-0.096456</td>\n",
       "      <td>0.372282</td>\n",
       "      <td>-0.094174</td>\n",
       "      <td>-0.164496</td>\n",
       "    </tr>\n",
       "    <tr>\n",
       "      <th>Sales_Total</th>\n",
       "      <td>0.180518</td>\n",
       "      <td>0.183230</td>\n",
       "      <td>0.265672</td>\n",
       "      <td>1.000000</td>\n",
       "      <td>0.771865</td>\n",
       "      <td>0.962338</td>\n",
       "      <td>0.284693</td>\n",
       "      <td>0.108473</td>\n",
       "    </tr>\n",
       "    <tr>\n",
       "      <th>Total_Qty_Sold</th>\n",
       "      <td>-0.133317</td>\n",
       "      <td>-0.122823</td>\n",
       "      <td>-0.096456</td>\n",
       "      <td>0.771865</td>\n",
       "      <td>1.000000</td>\n",
       "      <td>0.651440</td>\n",
       "      <td>0.390168</td>\n",
       "      <td>0.087536</td>\n",
       "    </tr>\n",
       "    <tr>\n",
       "      <th>Total_Kg_Sold</th>\n",
       "      <td>0.294117</td>\n",
       "      <td>0.269744</td>\n",
       "      <td>0.372282</td>\n",
       "      <td>0.962338</td>\n",
       "      <td>0.651440</td>\n",
       "      <td>1.000000</td>\n",
       "      <td>0.229062</td>\n",
       "      <td>-0.001007</td>\n",
       "    </tr>\n",
       "    <tr>\n",
       "      <th>Stock_On_Hand</th>\n",
       "      <td>-0.144105</td>\n",
       "      <td>-0.127677</td>\n",
       "      <td>-0.094174</td>\n",
       "      <td>0.284693</td>\n",
       "      <td>0.390168</td>\n",
       "      <td>0.229062</td>\n",
       "      <td>1.000000</td>\n",
       "      <td>0.105028</td>\n",
       "    </tr>\n",
       "    <tr>\n",
       "      <th>avg_price_per_kg</th>\n",
       "      <td>-0.337886</td>\n",
       "      <td>-0.141740</td>\n",
       "      <td>-0.164496</td>\n",
       "      <td>0.108473</td>\n",
       "      <td>0.087536</td>\n",
       "      <td>-0.001007</td>\n",
       "      <td>0.105028</td>\n",
       "      <td>1.000000</td>\n",
       "    </tr>\n",
       "  </tbody>\n",
       "</table>\n",
       "</div>"
      ],
      "text/plain": [
       "                  Weight_Kg  Low_Price  High_Price  Sales_Total  \\\n",
       "Weight_Kg          1.000000   0.863182    0.905852     0.180518   \n",
       "Low_Price          0.863182   1.000000    0.938140     0.183230   \n",
       "High_Price         0.905852   0.938140    1.000000     0.265672   \n",
       "Sales_Total        0.180518   0.183230    0.265672     1.000000   \n",
       "Total_Qty_Sold    -0.133317  -0.122823   -0.096456     0.771865   \n",
       "Total_Kg_Sold      0.294117   0.269744    0.372282     0.962338   \n",
       "Stock_On_Hand     -0.144105  -0.127677   -0.094174     0.284693   \n",
       "avg_price_per_kg  -0.337886  -0.141740   -0.164496     0.108473   \n",
       "\n",
       "                  Total_Qty_Sold  Total_Kg_Sold  Stock_On_Hand  \\\n",
       "Weight_Kg              -0.133317       0.294117      -0.144105   \n",
       "Low_Price              -0.122823       0.269744      -0.127677   \n",
       "High_Price             -0.096456       0.372282      -0.094174   \n",
       "Sales_Total             0.771865       0.962338       0.284693   \n",
       "Total_Qty_Sold          1.000000       0.651440       0.390168   \n",
       "Total_Kg_Sold           0.651440       1.000000       0.229062   \n",
       "Stock_On_Hand           0.390168       0.229062       1.000000   \n",
       "avg_price_per_kg        0.087536      -0.001007       0.105028   \n",
       "\n",
       "                  avg_price_per_kg  \n",
       "Weight_Kg                -0.337886  \n",
       "Low_Price                -0.141740  \n",
       "High_Price               -0.164496  \n",
       "Sales_Total               0.108473  \n",
       "Total_Qty_Sold            0.087536  \n",
       "Total_Kg_Sold            -0.001007  \n",
       "Stock_On_Hand             0.105028  \n",
       "avg_price_per_kg          1.000000  "
      ]
     },
     "execution_count": 23,
     "metadata": {},
     "output_type": "execute_result"
    }
   ],
   "source": [
    "train_set.corr()"
   ]
  },
  {
   "cell_type": "markdown",
   "metadata": {},
   "source": [
    "We observe that there is a strong relationship (Strong Positive Correlation) between the following variables only:\n",
    "1. Weight and High price\n",
    "2. Total Sales and Total Kg Sold \n",
    "3. Weight and Low Price\n",
    "\n"
   ]
  },
  {
   "cell_type": "markdown",
   "metadata": {},
   "source": [
    "We can also show the Correlation between two variables using a heatmap and derive the same insights as above:"
   ]
  },
  {
   "cell_type": "code",
   "execution_count": 24,
   "metadata": {},
   "outputs": [
    {
     "data": {
      "image/png": "[encoded data removed]",
      "text/plain": [
       "<Figure size 432x288 with 2 Axes>"
      ]
     },
     "metadata": {
      "needs_background": "light"
     },
     "output_type": "display_data"
    }
   ],
   "source": [
    "heatmap = sns.heatmap(train_set.corr(), vmin=-1, vmax=1, annot=True)\n",
    "heatmap.set_title('Correlation Heatmap', fontdict={'fontsize':12}, pad=12);"
   ]
  },
  {
   "cell_type": "code",
   "execution_count": 25,
   "metadata": {},
   "outputs": [],
   "source": [
    "train1 = train_set.copy()"
   ]
  },
  {
   "cell_type": "markdown",
   "metadata": {
    "scrolled": true
   },
   "source": [
    "g = pairplot(train1.drop('avg_price_per_kg', axis='columns'))\n",
    "g.fig.set_size_inches(9,9)"
   ]
  },
  {
   "cell_type": "markdown",
   "metadata": {},
   "source": [
    "### 2.11 Insights from an in-colour scatter plot"
   ]
  },
  {
   "cell_type": "code",
   "execution_count": 26,
   "metadata": {
    "scrolled": true
   },
   "outputs": [
    {
     "data": {
      "image/png": "[encoded data removed]",
      "text/plain": [
       "<Figure size 432x288 with 1 Axes>"
      ]
     },
     "metadata": {
      "needs_background": "light"
     },
     "output_type": "display_data"
    }
   ],
   "source": [
    "sns.scatterplot(x='avg_price_per_kg',y='Sales_Total',hue='Weight_Kg', data=train_set);"
   ]
  },
  {
   "cell_type": "markdown",
   "metadata": {},
   "source": [
    "We observe that apples with a lower average price has a higher weight. We also observe that a lot of the apples which are sold have a low weight."
   ]
  },
  {
   "cell_type": "markdown",
   "metadata": {},
   "source": [
    "### 2.12. Testing for linearity"
   ]
  },
  {
   "cell_type": "code",
   "execution_count": 27,
   "metadata": {},
   "outputs": [],
   "source": [
    "# Import Neccessary Packages\n",
    "from seaborn import pairplot\n",
    "from statsmodels.graphics.correlation import plot_corr"
   ]
  },
  {
   "cell_type": "code",
   "execution_count": 28,
   "metadata": {},
   "outputs": [
    {
     "data": {
      "image/png": "[encoded data removed]",
      "text/plain": [
       "<Figure size 1008x432 with 10 Axes>"
      ]
     },
     "metadata": {
      "needs_background": "light"
     },
     "output_type": "display_data"
    }
   ],
   "source": [
    "fig, axs = plt.subplots(2,5, figsize=(14,6),)\n",
    "fig.subplots_adjust(hspace = 0.5, wspace=.2)\n",
    "axs = axs.ravel()\n",
    "\n",
    "for index, column in enumerate(train_set.columns):\n",
    "    if(index<=10):\n",
    "        axs[index-1].set_title(\"{} vs. avg_price\".format(column),fontsize=16)\n",
    "        axs[index-1].scatter(x=train_set[column],y=train_set['avg_price_per_kg'],color='blue',edgecolor='k')\n",
    "    \n",
    "fig.tight_layout(pad=1)"
   ]
  },
  {
   "cell_type": "markdown",
   "metadata": {},
   "source": [
    "We observe that there exists a linear relationship between each predictor varible and avg_price_per_kg except Low_Price and High_Price and commoditites that was filtered for Apple Golden Delicious in the beginning. Thus all values can be used. Low_Price and High_Price are correlated with each other."
   ]
  },
  {
   "cell_type": "markdown",
   "metadata": {},
   "source": [
    "### 3. Data pre-processing"
   ]
  },
  {
   "cell_type": "markdown",
   "metadata": {},
   "source": [
    "### 3.1. Transforming categorical data to numerical data "
   ]
  },
  {
   "cell_type": "code",
   "execution_count": 29,
   "metadata": {},
   "outputs": [],
   "source": [
    "#Convert categorical data to numerical data\n",
    "train=train_set.copy()\n",
    "for i in train.index:\n",
    "    train.loc[i,\"Date\"]=train.loc[i,\"Date\"][:7]\n",
    "train=pd.get_dummies(train,drop_first=True)\n",
    "\n",
    "#Replace spaces in column names with underscores\n",
    "train.columns = train.columns.str.replace(' ','_')"
   ]
  },
  {
   "cell_type": "code",
   "execution_count": 30,
   "metadata": {
    "scrolled": true
   },
   "outputs": [
    {
     "data": {
      "text/html": [
       "<div>\n",
       "<style scoped>\n",
       "    .dataframe tbody tr th:only-of-type {\n",
       "        vertical-align: middle;\n",
       "    }\n",
       "\n",
       "    .dataframe tbody tr th {\n",
       "        vertical-align: top;\n",
       "    }\n",
       "\n",
       "    .dataframe thead th {\n",
       "        text-align: right;\n",
       "    }\n",
       "</style>\n",
       "<table border=\"1\" class=\"dataframe\">\n",
       "  <thead>\n",
       "    <tr style=\"text-align: right;\">\n",
       "      <th></th>\n",
       "      <th>Weight_Kg</th>\n",
       "      <th>Low_Price</th>\n",
       "      <th>High_Price</th>\n",
       "      <th>Sales_Total</th>\n",
       "      <th>Total_Qty_Sold</th>\n",
       "      <th>Total_Kg_Sold</th>\n",
       "      <th>Stock_On_Hand</th>\n",
       "      <th>avg_price_per_kg</th>\n",
       "      <th>Province_EASTERN_CAPE</th>\n",
       "      <th>Province_NATAL</th>\n",
       "      <th>...</th>\n",
       "      <th>Date_2020-01</th>\n",
       "      <th>Date_2020-02</th>\n",
       "      <th>Date_2020-03</th>\n",
       "      <th>Date_2020-04</th>\n",
       "      <th>Date_2020-05</th>\n",
       "      <th>Date_2020-06</th>\n",
       "      <th>Date_2020-07</th>\n",
       "      <th>Date_2020-08</th>\n",
       "      <th>Date_2020-09</th>\n",
       "      <th>Date_2020-10</th>\n",
       "    </tr>\n",
       "  </thead>\n",
       "  <tbody>\n",
       "    <tr>\n",
       "      <th>1</th>\n",
       "      <td>18.3</td>\n",
       "      <td>150.0</td>\n",
       "      <td>170.0</td>\n",
       "      <td>51710.0</td>\n",
       "      <td>332</td>\n",
       "      <td>6075.6</td>\n",
       "      <td>822</td>\n",
       "      <td>8.51</td>\n",
       "      <td>0</td>\n",
       "      <td>0</td>\n",
       "      <td>...</td>\n",
       "      <td>0</td>\n",
       "      <td>0</td>\n",
       "      <td>0</td>\n",
       "      <td>0</td>\n",
       "      <td>0</td>\n",
       "      <td>0</td>\n",
       "      <td>0</td>\n",
       "      <td>0</td>\n",
       "      <td>1</td>\n",
       "      <td>0</td>\n",
       "    </tr>\n",
       "    <tr>\n",
       "      <th>7</th>\n",
       "      <td>11.0</td>\n",
       "      <td>50.0</td>\n",
       "      <td>50.0</td>\n",
       "      <td>16000.0</td>\n",
       "      <td>320</td>\n",
       "      <td>3520.0</td>\n",
       "      <td>0</td>\n",
       "      <td>4.55</td>\n",
       "      <td>0</td>\n",
       "      <td>0</td>\n",
       "      <td>...</td>\n",
       "      <td>0</td>\n",
       "      <td>0</td>\n",
       "      <td>0</td>\n",
       "      <td>1</td>\n",
       "      <td>0</td>\n",
       "      <td>0</td>\n",
       "      <td>0</td>\n",
       "      <td>0</td>\n",
       "      <td>0</td>\n",
       "      <td>0</td>\n",
       "    </tr>\n",
       "    <tr>\n",
       "      <th>24</th>\n",
       "      <td>9.0</td>\n",
       "      <td>55.0</td>\n",
       "      <td>55.0</td>\n",
       "      <td>990.0</td>\n",
       "      <td>18</td>\n",
       "      <td>162.0</td>\n",
       "      <td>1506</td>\n",
       "      <td>6.11</td>\n",
       "      <td>0</td>\n",
       "      <td>0</td>\n",
       "      <td>...</td>\n",
       "      <td>0</td>\n",
       "      <td>0</td>\n",
       "      <td>0</td>\n",
       "      <td>1</td>\n",
       "      <td>0</td>\n",
       "      <td>0</td>\n",
       "      <td>0</td>\n",
       "      <td>0</td>\n",
       "      <td>0</td>\n",
       "      <td>0</td>\n",
       "    </tr>\n",
       "    <tr>\n",
       "      <th>40</th>\n",
       "      <td>18.3</td>\n",
       "      <td>80.0</td>\n",
       "      <td>120.0</td>\n",
       "      <td>32020.0</td>\n",
       "      <td>388</td>\n",
       "      <td>7100.4</td>\n",
       "      <td>443</td>\n",
       "      <td>4.51</td>\n",
       "      <td>0</td>\n",
       "      <td>0</td>\n",
       "      <td>...</td>\n",
       "      <td>0</td>\n",
       "      <td>0</td>\n",
       "      <td>0</td>\n",
       "      <td>0</td>\n",
       "      <td>1</td>\n",
       "      <td>0</td>\n",
       "      <td>0</td>\n",
       "      <td>0</td>\n",
       "      <td>0</td>\n",
       "      <td>0</td>\n",
       "    </tr>\n",
       "    <tr>\n",
       "      <th>69</th>\n",
       "      <td>400.0</td>\n",
       "      <td>1800.0</td>\n",
       "      <td>1800.0</td>\n",
       "      <td>1800.0</td>\n",
       "      <td>1</td>\n",
       "      <td>400.0</td>\n",
       "      <td>2</td>\n",
       "      <td>4.50</td>\n",
       "      <td>1</td>\n",
       "      <td>0</td>\n",
       "      <td>...</td>\n",
       "      <td>0</td>\n",
       "      <td>0</td>\n",
       "      <td>0</td>\n",
       "      <td>0</td>\n",
       "      <td>0</td>\n",
       "      <td>0</td>\n",
       "      <td>0</td>\n",
       "      <td>0</td>\n",
       "      <td>1</td>\n",
       "      <td>0</td>\n",
       "    </tr>\n",
       "  </tbody>\n",
       "</table>\n",
       "<p>5 rows × 43 columns</p>\n",
       "</div>"
      ],
      "text/plain": [
       "    Weight_Kg  Low_Price  High_Price  Sales_Total  Total_Qty_Sold  \\\n",
       "1        18.3      150.0       170.0      51710.0             332   \n",
       "7        11.0       50.0        50.0      16000.0             320   \n",
       "24        9.0       55.0        55.0        990.0              18   \n",
       "40       18.3       80.0       120.0      32020.0             388   \n",
       "69      400.0     1800.0      1800.0       1800.0               1   \n",
       "\n",
       "    Total_Kg_Sold  Stock_On_Hand  avg_price_per_kg  Province_EASTERN_CAPE  \\\n",
       "1          6075.6            822              8.51                      0   \n",
       "7          3520.0              0              4.55                      0   \n",
       "24          162.0           1506              6.11                      0   \n",
       "40         7100.4            443              4.51                      0   \n",
       "69          400.0              2              4.50                      1   \n",
       "\n",
       "    Province_NATAL  ...  Date_2020-01  Date_2020-02  Date_2020-03  \\\n",
       "1                0  ...             0             0             0   \n",
       "7                0  ...             0             0             0   \n",
       "24               0  ...             0             0             0   \n",
       "40               0  ...             0             0             0   \n",
       "69               0  ...             0             0             0   \n",
       "\n",
       "    Date_2020-04  Date_2020-05  Date_2020-06  Date_2020-07  Date_2020-08  \\\n",
       "1              0             0             0             0             0   \n",
       "7              1             0             0             0             0   \n",
       "24             1             0             0             0             0   \n",
       "40             0             1             0             0             0   \n",
       "69             0             0             0             0             0   \n",
       "\n",
       "    Date_2020-09  Date_2020-10  \n",
       "1              1             0  \n",
       "7              0             0  \n",
       "24             0             0  \n",
       "40             0             0  \n",
       "69             1             0  \n",
       "\n",
       "[5 rows x 43 columns]"
      ]
     },
     "execution_count": 30,
     "metadata": {},
     "output_type": "execute_result"
    }
   ],
   "source": [
    "train.head()"
   ]
  },
  {
   "cell_type": "code",
   "execution_count": 31,
   "metadata": {},
   "outputs": [
    {
     "data": {
      "text/plain": [
       "(1952, 43)"
      ]
     },
     "execution_count": 31,
     "metadata": {},
     "output_type": "execute_result"
    }
   ],
   "source": [
    "train.shape"
   ]
  },
  {
   "cell_type": "code",
   "execution_count": 32,
   "metadata": {},
   "outputs": [],
   "source": [
    "cols = list(train)\n",
    "#Move column to last index\n",
    "cols.insert(len(cols)-1,cols.pop(cols.index(\"avg_price_per_kg\")))\n",
    "\n",
    "#Update column names\n",
    "train = train.loc[:, cols]"
   ]
  },
  {
   "cell_type": "code",
   "execution_count": 33,
   "metadata": {},
   "outputs": [
    {
     "data": {
      "text/html": [
       "<div>\n",
       "<style scoped>\n",
       "    .dataframe tbody tr th:only-of-type {\n",
       "        vertical-align: middle;\n",
       "    }\n",
       "\n",
       "    .dataframe tbody tr th {\n",
       "        vertical-align: top;\n",
       "    }\n",
       "\n",
       "    .dataframe thead th {\n",
       "        text-align: right;\n",
       "    }\n",
       "</style>\n",
       "<table border=\"1\" class=\"dataframe\">\n",
       "  <thead>\n",
       "    <tr style=\"text-align: right;\">\n",
       "      <th></th>\n",
       "      <th>Weight_Kg</th>\n",
       "      <th>Low_Price</th>\n",
       "      <th>High_Price</th>\n",
       "      <th>Sales_Total</th>\n",
       "      <th>Total_Qty_Sold</th>\n",
       "      <th>Total_Kg_Sold</th>\n",
       "      <th>Stock_On_Hand</th>\n",
       "      <th>Province_EASTERN_CAPE</th>\n",
       "      <th>Province_NATAL</th>\n",
       "      <th>Province_ORANGE_FREE_STATE</th>\n",
       "      <th>...</th>\n",
       "      <th>Date_2020-01</th>\n",
       "      <th>Date_2020-02</th>\n",
       "      <th>Date_2020-03</th>\n",
       "      <th>Date_2020-04</th>\n",
       "      <th>Date_2020-05</th>\n",
       "      <th>Date_2020-06</th>\n",
       "      <th>Date_2020-07</th>\n",
       "      <th>Date_2020-08</th>\n",
       "      <th>Date_2020-09</th>\n",
       "      <th>Date_2020-10</th>\n",
       "    </tr>\n",
       "  </thead>\n",
       "  <tbody>\n",
       "    <tr>\n",
       "      <th>0</th>\n",
       "      <td>12.0</td>\n",
       "      <td>128.0</td>\n",
       "      <td>136.0</td>\n",
       "      <td>5008.0</td>\n",
       "      <td>38</td>\n",
       "      <td>456.0</td>\n",
       "      <td>0</td>\n",
       "      <td>0</td>\n",
       "      <td>0</td>\n",
       "      <td>0</td>\n",
       "      <td>...</td>\n",
       "      <td>0</td>\n",
       "      <td>0</td>\n",
       "      <td>0</td>\n",
       "      <td>0</td>\n",
       "      <td>0</td>\n",
       "      <td>0</td>\n",
       "      <td>1</td>\n",
       "      <td>0</td>\n",
       "      <td>0</td>\n",
       "      <td>0</td>\n",
       "    </tr>\n",
       "    <tr>\n",
       "      <th>1</th>\n",
       "      <td>18.3</td>\n",
       "      <td>220.0</td>\n",
       "      <td>220.0</td>\n",
       "      <td>1760.0</td>\n",
       "      <td>8</td>\n",
       "      <td>146.4</td>\n",
       "      <td>2</td>\n",
       "      <td>0</td>\n",
       "      <td>0</td>\n",
       "      <td>0</td>\n",
       "      <td>...</td>\n",
       "      <td>1</td>\n",
       "      <td>0</td>\n",
       "      <td>0</td>\n",
       "      <td>0</td>\n",
       "      <td>0</td>\n",
       "      <td>0</td>\n",
       "      <td>0</td>\n",
       "      <td>0</td>\n",
       "      <td>0</td>\n",
       "      <td>0</td>\n",
       "    </tr>\n",
       "    <tr>\n",
       "      <th>2</th>\n",
       "      <td>12.0</td>\n",
       "      <td>120.0</td>\n",
       "      <td>120.0</td>\n",
       "      <td>720.0</td>\n",
       "      <td>6</td>\n",
       "      <td>72.0</td>\n",
       "      <td>45</td>\n",
       "      <td>0</td>\n",
       "      <td>0</td>\n",
       "      <td>0</td>\n",
       "      <td>...</td>\n",
       "      <td>0</td>\n",
       "      <td>0</td>\n",
       "      <td>0</td>\n",
       "      <td>0</td>\n",
       "      <td>0</td>\n",
       "      <td>0</td>\n",
       "      <td>0</td>\n",
       "      <td>1</td>\n",
       "      <td>0</td>\n",
       "      <td>0</td>\n",
       "    </tr>\n",
       "    <tr>\n",
       "      <th>3</th>\n",
       "      <td>18.3</td>\n",
       "      <td>160.0</td>\n",
       "      <td>160.0</td>\n",
       "      <td>160.0</td>\n",
       "      <td>1</td>\n",
       "      <td>18.3</td>\n",
       "      <td>8</td>\n",
       "      <td>0</td>\n",
       "      <td>0</td>\n",
       "      <td>0</td>\n",
       "      <td>...</td>\n",
       "      <td>0</td>\n",
       "      <td>0</td>\n",
       "      <td>0</td>\n",
       "      <td>0</td>\n",
       "      <td>1</td>\n",
       "      <td>0</td>\n",
       "      <td>0</td>\n",
       "      <td>0</td>\n",
       "      <td>0</td>\n",
       "      <td>0</td>\n",
       "    </tr>\n",
       "    <tr>\n",
       "      <th>4</th>\n",
       "      <td>18.3</td>\n",
       "      <td>140.0</td>\n",
       "      <td>160.0</td>\n",
       "      <td>14140.0</td>\n",
       "      <td>100</td>\n",
       "      <td>1830.0</td>\n",
       "      <td>19</td>\n",
       "      <td>0</td>\n",
       "      <td>0</td>\n",
       "      <td>0</td>\n",
       "      <td>...</td>\n",
       "      <td>0</td>\n",
       "      <td>0</td>\n",
       "      <td>0</td>\n",
       "      <td>0</td>\n",
       "      <td>1</td>\n",
       "      <td>0</td>\n",
       "      <td>0</td>\n",
       "      <td>0</td>\n",
       "      <td>0</td>\n",
       "      <td>0</td>\n",
       "    </tr>\n",
       "  </tbody>\n",
       "</table>\n",
       "<p>5 rows × 42 columns</p>\n",
       "</div>"
      ],
      "text/plain": [
       "   Weight_Kg  Low_Price  High_Price  Sales_Total  Total_Qty_Sold  \\\n",
       "0       12.0      128.0       136.0       5008.0              38   \n",
       "1       18.3      220.0       220.0       1760.0               8   \n",
       "2       12.0      120.0       120.0        720.0               6   \n",
       "3       18.3      160.0       160.0        160.0               1   \n",
       "4       18.3      140.0       160.0      14140.0             100   \n",
       "\n",
       "   Total_Kg_Sold  Stock_On_Hand  Province_EASTERN_CAPE  Province_NATAL  \\\n",
       "0          456.0              0                      0               0   \n",
       "1          146.4              2                      0               0   \n",
       "2           72.0             45                      0               0   \n",
       "3           18.3              8                      0               0   \n",
       "4         1830.0             19                      0               0   \n",
       "\n",
       "   Province_ORANGE_FREE_STATE  ...  Date_2020-01  Date_2020-02  Date_2020-03  \\\n",
       "0                           0  ...             0             0             0   \n",
       "1                           0  ...             1             0             0   \n",
       "2                           0  ...             0             0             0   \n",
       "3                           0  ...             0             0             0   \n",
       "4                           0  ...             0             0             0   \n",
       "\n",
       "   Date_2020-04  Date_2020-05  Date_2020-06  Date_2020-07  Date_2020-08  \\\n",
       "0             0             0             0             1             0   \n",
       "1             0             0             0             0             0   \n",
       "2             0             0             0             0             1   \n",
       "3             0             1             0             0             0   \n",
       "4             0             1             0             0             0   \n",
       "\n",
       "   Date_2020-09  Date_2020-10  \n",
       "0             0             0  \n",
       "1             0             0  \n",
       "2             0             0  \n",
       "3             0             0  \n",
       "4             0             0  \n",
       "\n",
       "[5 rows x 42 columns]"
      ]
     },
     "execution_count": 33,
     "metadata": {},
     "output_type": "execute_result"
    }
   ],
   "source": [
    "#Convert categorical data to numerical data\n",
    "test_submission_set = test_set.copy()\n",
    "for i in test_submission_set.index:\n",
    "    test_submission_set.loc[i,\"Date\"]=test_submission_set.loc[i,\"Date\"][:7]\n",
    "test_submission_set=pd.get_dummies(test_submission_set,drop_first=True)\n",
    "\n",
    "#Replace spaces in column names with underscores\n",
    "test_submission_set.columns = test_submission_set.columns.str.replace(' ','_')\n",
    "test_submission_set.drop('Index', inplace = True, axis = 1)\n",
    "\n",
    "#Showing the values\n",
    "test_submission_set.head()"
   ]
  },
  {
   "cell_type": "markdown",
   "metadata": {},
   "source": [
    "### 3.2. Dropping highly correlated columns"
   ]
  },
  {
   "cell_type": "code",
   "execution_count": 34,
   "metadata": {},
   "outputs": [],
   "source": [
    "#Drop columns becasue of high correlations - see 2.????\n",
    "train.drop(columns=[\"Sales_Total\", \"Total_Kg_Sold\",\"Low_Price\",\"High_Price\"],inplace=True,axis=1)\n",
    "\n"
   ]
  },
  {
   "cell_type": "code",
   "execution_count": 35,
   "metadata": {
    "scrolled": false
   },
   "outputs": [
    {
     "data": {
      "text/html": [
       "<div>\n",
       "<style scoped>\n",
       "    .dataframe tbody tr th:only-of-type {\n",
       "        vertical-align: middle;\n",
       "    }\n",
       "\n",
       "    .dataframe tbody tr th {\n",
       "        vertical-align: top;\n",
       "    }\n",
       "\n",
       "    .dataframe thead th {\n",
       "        text-align: right;\n",
       "    }\n",
       "</style>\n",
       "<table border=\"1\" class=\"dataframe\">\n",
       "  <thead>\n",
       "    <tr style=\"text-align: right;\">\n",
       "      <th></th>\n",
       "      <th>Weight_Kg</th>\n",
       "      <th>Total_Qty_Sold</th>\n",
       "      <th>Stock_On_Hand</th>\n",
       "      <th>Province_EASTERN_CAPE</th>\n",
       "      <th>Province_NATAL</th>\n",
       "      <th>Province_ORANGE_FREE_STATE</th>\n",
       "      <th>Province_TRANSVAAL</th>\n",
       "      <th>Province_W.CAPE-BERGRIVER_ETC</th>\n",
       "      <th>Province_WEST_COAST</th>\n",
       "      <th>Container_DT063</th>\n",
       "      <th>...</th>\n",
       "      <th>Date_2020-02</th>\n",
       "      <th>Date_2020-03</th>\n",
       "      <th>Date_2020-04</th>\n",
       "      <th>Date_2020-05</th>\n",
       "      <th>Date_2020-06</th>\n",
       "      <th>Date_2020-07</th>\n",
       "      <th>Date_2020-08</th>\n",
       "      <th>Date_2020-09</th>\n",
       "      <th>Date_2020-10</th>\n",
       "      <th>avg_price_per_kg</th>\n",
       "    </tr>\n",
       "  </thead>\n",
       "  <tbody>\n",
       "    <tr>\n",
       "      <th>1</th>\n",
       "      <td>18.3</td>\n",
       "      <td>332</td>\n",
       "      <td>822</td>\n",
       "      <td>0</td>\n",
       "      <td>0</td>\n",
       "      <td>0</td>\n",
       "      <td>0</td>\n",
       "      <td>0</td>\n",
       "      <td>0</td>\n",
       "      <td>0</td>\n",
       "      <td>...</td>\n",
       "      <td>0</td>\n",
       "      <td>0</td>\n",
       "      <td>0</td>\n",
       "      <td>0</td>\n",
       "      <td>0</td>\n",
       "      <td>0</td>\n",
       "      <td>0</td>\n",
       "      <td>1</td>\n",
       "      <td>0</td>\n",
       "      <td>8.51</td>\n",
       "    </tr>\n",
       "    <tr>\n",
       "      <th>7</th>\n",
       "      <td>11.0</td>\n",
       "      <td>320</td>\n",
       "      <td>0</td>\n",
       "      <td>0</td>\n",
       "      <td>0</td>\n",
       "      <td>0</td>\n",
       "      <td>0</td>\n",
       "      <td>0</td>\n",
       "      <td>0</td>\n",
       "      <td>0</td>\n",
       "      <td>...</td>\n",
       "      <td>0</td>\n",
       "      <td>0</td>\n",
       "      <td>1</td>\n",
       "      <td>0</td>\n",
       "      <td>0</td>\n",
       "      <td>0</td>\n",
       "      <td>0</td>\n",
       "      <td>0</td>\n",
       "      <td>0</td>\n",
       "      <td>4.55</td>\n",
       "    </tr>\n",
       "    <tr>\n",
       "      <th>24</th>\n",
       "      <td>9.0</td>\n",
       "      <td>18</td>\n",
       "      <td>1506</td>\n",
       "      <td>0</td>\n",
       "      <td>0</td>\n",
       "      <td>0</td>\n",
       "      <td>0</td>\n",
       "      <td>1</td>\n",
       "      <td>0</td>\n",
       "      <td>0</td>\n",
       "      <td>...</td>\n",
       "      <td>0</td>\n",
       "      <td>0</td>\n",
       "      <td>1</td>\n",
       "      <td>0</td>\n",
       "      <td>0</td>\n",
       "      <td>0</td>\n",
       "      <td>0</td>\n",
       "      <td>0</td>\n",
       "      <td>0</td>\n",
       "      <td>6.11</td>\n",
       "    </tr>\n",
       "    <tr>\n",
       "      <th>40</th>\n",
       "      <td>18.3</td>\n",
       "      <td>388</td>\n",
       "      <td>443</td>\n",
       "      <td>0</td>\n",
       "      <td>0</td>\n",
       "      <td>0</td>\n",
       "      <td>0</td>\n",
       "      <td>0</td>\n",
       "      <td>0</td>\n",
       "      <td>0</td>\n",
       "      <td>...</td>\n",
       "      <td>0</td>\n",
       "      <td>0</td>\n",
       "      <td>0</td>\n",
       "      <td>1</td>\n",
       "      <td>0</td>\n",
       "      <td>0</td>\n",
       "      <td>0</td>\n",
       "      <td>0</td>\n",
       "      <td>0</td>\n",
       "      <td>4.51</td>\n",
       "    </tr>\n",
       "    <tr>\n",
       "      <th>69</th>\n",
       "      <td>400.0</td>\n",
       "      <td>1</td>\n",
       "      <td>2</td>\n",
       "      <td>1</td>\n",
       "      <td>0</td>\n",
       "      <td>0</td>\n",
       "      <td>0</td>\n",
       "      <td>0</td>\n",
       "      <td>0</td>\n",
       "      <td>0</td>\n",
       "      <td>...</td>\n",
       "      <td>0</td>\n",
       "      <td>0</td>\n",
       "      <td>0</td>\n",
       "      <td>0</td>\n",
       "      <td>0</td>\n",
       "      <td>0</td>\n",
       "      <td>0</td>\n",
       "      <td>1</td>\n",
       "      <td>0</td>\n",
       "      <td>4.50</td>\n",
       "    </tr>\n",
       "  </tbody>\n",
       "</table>\n",
       "<p>5 rows × 39 columns</p>\n",
       "</div>"
      ],
      "text/plain": [
       "    Weight_Kg  Total_Qty_Sold  Stock_On_Hand  Province_EASTERN_CAPE  \\\n",
       "1        18.3             332            822                      0   \n",
       "7        11.0             320              0                      0   \n",
       "24        9.0              18           1506                      0   \n",
       "40       18.3             388            443                      0   \n",
       "69      400.0               1              2                      1   \n",
       "\n",
       "    Province_NATAL  Province_ORANGE_FREE_STATE  Province_TRANSVAAL  \\\n",
       "1                0                           0                   0   \n",
       "7                0                           0                   0   \n",
       "24               0                           0                   0   \n",
       "40               0                           0                   0   \n",
       "69               0                           0                   0   \n",
       "\n",
       "    Province_W.CAPE-BERGRIVER_ETC  Province_WEST_COAST  Container_DT063  ...  \\\n",
       "1                               0                    0                0  ...   \n",
       "7                               0                    0                0  ...   \n",
       "24                              1                    0                0  ...   \n",
       "40                              0                    0                0  ...   \n",
       "69                              0                    0                0  ...   \n",
       "\n",
       "    Date_2020-02  Date_2020-03  Date_2020-04  Date_2020-05  Date_2020-06  \\\n",
       "1              0             0             0             0             0   \n",
       "7              0             0             1             0             0   \n",
       "24             0             0             1             0             0   \n",
       "40             0             0             0             1             0   \n",
       "69             0             0             0             0             0   \n",
       "\n",
       "    Date_2020-07  Date_2020-08  Date_2020-09  Date_2020-10  avg_price_per_kg  \n",
       "1              0             0             1             0              8.51  \n",
       "7              0             0             0             0              4.55  \n",
       "24             0             0             0             0              6.11  \n",
       "40             0             0             0             0              4.51  \n",
       "69             0             0             1             0              4.50  \n",
       "\n",
       "[5 rows x 39 columns]"
      ]
     },
     "execution_count": 35,
     "metadata": {},
     "output_type": "execute_result"
    }
   ],
   "source": [
    "train.head()"
   ]
  },
  {
   "cell_type": "code",
   "execution_count": 36,
   "metadata": {},
   "outputs": [
    {
     "data": {
      "text/plain": [
       "(1952, 39)"
      ]
     },
     "execution_count": 36,
     "metadata": {},
     "output_type": "execute_result"
    }
   ],
   "source": [
    "train.shape"
   ]
  },
  {
   "cell_type": "code",
   "execution_count": 37,
   "metadata": {
    "scrolled": false
   },
   "outputs": [
    {
     "data": {
      "text/html": [
       "<div>\n",
       "<style scoped>\n",
       "    .dataframe tbody tr th:only-of-type {\n",
       "        vertical-align: middle;\n",
       "    }\n",
       "\n",
       "    .dataframe tbody tr th {\n",
       "        vertical-align: top;\n",
       "    }\n",
       "\n",
       "    .dataframe thead th {\n",
       "        text-align: right;\n",
       "    }\n",
       "</style>\n",
       "<table border=\"1\" class=\"dataframe\">\n",
       "  <thead>\n",
       "    <tr style=\"text-align: right;\">\n",
       "      <th></th>\n",
       "      <th>Weight_Kg</th>\n",
       "      <th>Total_Qty_Sold</th>\n",
       "      <th>Stock_On_Hand</th>\n",
       "      <th>Province_EASTERN_CAPE</th>\n",
       "      <th>Province_NATAL</th>\n",
       "      <th>Province_ORANGE_FREE_STATE</th>\n",
       "      <th>Province_TRANSVAAL</th>\n",
       "      <th>Province_W.CAPE-BERGRIVER_ETC</th>\n",
       "      <th>Province_WEST_COAST</th>\n",
       "      <th>Container_DT063</th>\n",
       "      <th>...</th>\n",
       "      <th>Date_2020-01</th>\n",
       "      <th>Date_2020-02</th>\n",
       "      <th>Date_2020-03</th>\n",
       "      <th>Date_2020-04</th>\n",
       "      <th>Date_2020-05</th>\n",
       "      <th>Date_2020-06</th>\n",
       "      <th>Date_2020-07</th>\n",
       "      <th>Date_2020-08</th>\n",
       "      <th>Date_2020-09</th>\n",
       "      <th>Date_2020-10</th>\n",
       "    </tr>\n",
       "  </thead>\n",
       "  <tbody>\n",
       "    <tr>\n",
       "      <th>0</th>\n",
       "      <td>12.0</td>\n",
       "      <td>38</td>\n",
       "      <td>0</td>\n",
       "      <td>0</td>\n",
       "      <td>0</td>\n",
       "      <td>0</td>\n",
       "      <td>0</td>\n",
       "      <td>1</td>\n",
       "      <td>0</td>\n",
       "      <td>0</td>\n",
       "      <td>...</td>\n",
       "      <td>0</td>\n",
       "      <td>0</td>\n",
       "      <td>0</td>\n",
       "      <td>0</td>\n",
       "      <td>0</td>\n",
       "      <td>0</td>\n",
       "      <td>1</td>\n",
       "      <td>0</td>\n",
       "      <td>0</td>\n",
       "      <td>0</td>\n",
       "    </tr>\n",
       "    <tr>\n",
       "      <th>1</th>\n",
       "      <td>18.3</td>\n",
       "      <td>8</td>\n",
       "      <td>2</td>\n",
       "      <td>0</td>\n",
       "      <td>0</td>\n",
       "      <td>0</td>\n",
       "      <td>0</td>\n",
       "      <td>1</td>\n",
       "      <td>0</td>\n",
       "      <td>0</td>\n",
       "      <td>...</td>\n",
       "      <td>1</td>\n",
       "      <td>0</td>\n",
       "      <td>0</td>\n",
       "      <td>0</td>\n",
       "      <td>0</td>\n",
       "      <td>0</td>\n",
       "      <td>0</td>\n",
       "      <td>0</td>\n",
       "      <td>0</td>\n",
       "      <td>0</td>\n",
       "    </tr>\n",
       "    <tr>\n",
       "      <th>2</th>\n",
       "      <td>12.0</td>\n",
       "      <td>6</td>\n",
       "      <td>45</td>\n",
       "      <td>0</td>\n",
       "      <td>0</td>\n",
       "      <td>0</td>\n",
       "      <td>0</td>\n",
       "      <td>1</td>\n",
       "      <td>0</td>\n",
       "      <td>0</td>\n",
       "      <td>...</td>\n",
       "      <td>0</td>\n",
       "      <td>0</td>\n",
       "      <td>0</td>\n",
       "      <td>0</td>\n",
       "      <td>0</td>\n",
       "      <td>0</td>\n",
       "      <td>0</td>\n",
       "      <td>1</td>\n",
       "      <td>0</td>\n",
       "      <td>0</td>\n",
       "    </tr>\n",
       "    <tr>\n",
       "      <th>3</th>\n",
       "      <td>18.3</td>\n",
       "      <td>1</td>\n",
       "      <td>8</td>\n",
       "      <td>0</td>\n",
       "      <td>0</td>\n",
       "      <td>0</td>\n",
       "      <td>0</td>\n",
       "      <td>1</td>\n",
       "      <td>0</td>\n",
       "      <td>0</td>\n",
       "      <td>...</td>\n",
       "      <td>0</td>\n",
       "      <td>0</td>\n",
       "      <td>0</td>\n",
       "      <td>0</td>\n",
       "      <td>1</td>\n",
       "      <td>0</td>\n",
       "      <td>0</td>\n",
       "      <td>0</td>\n",
       "      <td>0</td>\n",
       "      <td>0</td>\n",
       "    </tr>\n",
       "    <tr>\n",
       "      <th>4</th>\n",
       "      <td>18.3</td>\n",
       "      <td>100</td>\n",
       "      <td>19</td>\n",
       "      <td>0</td>\n",
       "      <td>0</td>\n",
       "      <td>0</td>\n",
       "      <td>0</td>\n",
       "      <td>1</td>\n",
       "      <td>0</td>\n",
       "      <td>0</td>\n",
       "      <td>...</td>\n",
       "      <td>0</td>\n",
       "      <td>0</td>\n",
       "      <td>0</td>\n",
       "      <td>0</td>\n",
       "      <td>1</td>\n",
       "      <td>0</td>\n",
       "      <td>0</td>\n",
       "      <td>0</td>\n",
       "      <td>0</td>\n",
       "      <td>0</td>\n",
       "    </tr>\n",
       "  </tbody>\n",
       "</table>\n",
       "<p>5 rows × 38 columns</p>\n",
       "</div>"
      ],
      "text/plain": [
       "   Weight_Kg  Total_Qty_Sold  Stock_On_Hand  Province_EASTERN_CAPE  \\\n",
       "0       12.0              38              0                      0   \n",
       "1       18.3               8              2                      0   \n",
       "2       12.0               6             45                      0   \n",
       "3       18.3               1              8                      0   \n",
       "4       18.3             100             19                      0   \n",
       "\n",
       "   Province_NATAL  Province_ORANGE_FREE_STATE  Province_TRANSVAAL  \\\n",
       "0               0                           0                   0   \n",
       "1               0                           0                   0   \n",
       "2               0                           0                   0   \n",
       "3               0                           0                   0   \n",
       "4               0                           0                   0   \n",
       "\n",
       "   Province_W.CAPE-BERGRIVER_ETC  Province_WEST_COAST  Container_DT063  ...  \\\n",
       "0                              1                    0                0  ...   \n",
       "1                              1                    0                0  ...   \n",
       "2                              1                    0                0  ...   \n",
       "3                              1                    0                0  ...   \n",
       "4                              1                    0                0  ...   \n",
       "\n",
       "   Date_2020-01  Date_2020-02  Date_2020-03  Date_2020-04  Date_2020-05  \\\n",
       "0             0             0             0             0             0   \n",
       "1             1             0             0             0             0   \n",
       "2             0             0             0             0             0   \n",
       "3             0             0             0             0             1   \n",
       "4             0             0             0             0             1   \n",
       "\n",
       "   Date_2020-06  Date_2020-07  Date_2020-08  Date_2020-09  Date_2020-10  \n",
       "0             0             1             0             0             0  \n",
       "1             0             0             0             0             0  \n",
       "2             0             0             1             0             0  \n",
       "3             0             0             0             0             0  \n",
       "4             0             0             0             0             0  \n",
       "\n",
       "[5 rows x 38 columns]"
      ]
     },
     "execution_count": 37,
     "metadata": {},
     "output_type": "execute_result"
    }
   ],
   "source": [
    "test_submission_set.drop(columns=[\"Sales_Total\", \"Total_Kg_Sold\",\"Low_Price\",\"High_Price\"],inplace=True,axis=1)\n",
    "test_submission_set.head()"
   ]
  },
  {
   "cell_type": "code",
   "execution_count": 38,
   "metadata": {},
   "outputs": [
    {
     "data": {
      "text/plain": [
       "(685, 38)"
      ]
     },
     "execution_count": 38,
     "metadata": {},
     "output_type": "execute_result"
    }
   ],
   "source": [
    "test_submission_set.shape"
   ]
  },
  {
   "cell_type": "markdown",
   "metadata": {},
   "source": [
    "## 4. Data Splitting "
   ]
  },
  {
   "cell_type": "code",
   "execution_count": 39,
   "metadata": {},
   "outputs": [],
   "source": [
    "# Import the split function from sklearn\n",
    "from sklearn.model_selection import train_test_split"
   ]
  },
  {
   "cell_type": "code",
   "execution_count": 40,
   "metadata": {},
   "outputs": [],
   "source": [
    "train_pre=train.copy()\n",
    "y=train_pre[\"avg_price_per_kg\"]    \n",
    "X = train_pre.drop(\"avg_price_per_kg\", axis=1)"
   ]
  },
  {
   "cell_type": "code",
   "execution_count": 41,
   "metadata": {
    "scrolled": false
   },
   "outputs": [
    {
     "name": "stderr",
     "output_type": "stream",
     "text": [
      "<ipython-input-41-da48a4e6a78f>:1: VisibleDeprecationWarning: Creating an ndarray from ragged nested sequences (which is a list-or-tuple of lists-or-tuples-or ndarrays with different lengths or shapes) is deprecated. If you meant to do this, you must specify 'dtype=object' when creating the ndarray\n",
      "  X_train, X_test, y_train, y_test = np.array(train_test_split(X, y, test_size=0.2, random_state=50))\n"
     ]
    }
   ],
   "source": [
    "X_train, X_test, y_train, y_test = np.array(train_test_split(X, y, test_size=0.2, random_state=50))"
   ]
  },
  {
   "cell_type": "markdown",
   "metadata": {},
   "source": [
    "## 5. Building the regression models <a name=\"regress\"></a>\n",
    "### 5.1. Method 1: A simple linear reggression model following the Least Squares Method\n",
    "#### 5.1.1. Calculating the slope and the intercept "
   ]
  },
  {
   "cell_type": "code",
   "execution_count": 42,
   "metadata": {},
   "outputs": [
    {
     "name": "stdout",
     "output_type": "stream",
     "text": [
      "Slope = -0.0076244934807224145\n",
      "Intercept = 7.0873874015160885\n"
     ]
    }
   ],
   "source": [
    "#Split predictors and response\n",
    "X = train['Weight_Kg']\n",
    "Y = train['avg_price_per_kg']\n",
    "\n",
    "#Calculating x bar, y bar\n",
    "x_bar = np.mean(X)\n",
    "y_bar = np.mean(Y)\n",
    "\n",
    "#Calculating Slope\n",
    "b = sum((X-x_bar) * (Y-y_bar)) / sum((X-x_bar)**2)\n",
    "\n",
    "#Calculating intercept\n",
    "a = y_bar - b*x_bar\n",
    "\n",
    "print(\"Slope = \" + str(b))\n",
    "print(\"Intercept = \" + str(a))"
   ]
  },
  {
   "cell_type": "markdown",
   "metadata": {},
   "source": [
    "#### 5.1.2. Plotting our regression line on a scatter plot"
   ]
  },
  {
   "cell_type": "code",
   "execution_count": 43,
   "metadata": {},
   "outputs": [
    {
     "data": {
      "image/png": "[encoded data removed]",
      "text/plain": [
       "<Figure size 432x288 with 1 Axes>"
      ]
     },
     "metadata": {
      "needs_background": "light"
     },
     "output_type": "display_data"
    }
   ],
   "source": [
    "# Define a function to generate values of y from a list of x, \n",
    "# Given parameters a and b\n",
    "\n",
    "def gen_y(x_list, a, b):\n",
    "    y_gen = []\n",
    "    for x_i in x_list:\n",
    "        y_i = a + b*x_i\n",
    "        y_gen.append(y_i)\n",
    "\n",
    "    return(y_gen)\n",
    "\n",
    "#Generates y-values for given x-values based on parameters a, b\n",
    "y_gen2 = gen_y(X, a, b)\n",
    "\n",
    "#Plot the graph\n",
    "plt.scatter(X, Y)\n",
    "plt.plot(X, y_gen2, color='red')\n",
    "plt.show()"
   ]
  },
  {
   "cell_type": "markdown",
   "metadata": {},
   "source": [
    "#### Regression for least squres with best fit line"
   ]
  },
  {
   "cell_type": "markdown",
   "metadata": {},
   "source": [
    "#### 5.1.3. Assessing our results"
   ]
  },
  {
   "cell_type": "code",
   "execution_count": 44,
   "metadata": {},
   "outputs": [
    {
     "data": {
      "text/plain": [
       "array([ 1.56, -2.45, -0.91, ..., -1.35, -4.22,  0.61])"
      ]
     },
     "execution_count": 44,
     "metadata": {},
     "output_type": "execute_result"
    }
   ],
   "source": [
    "errors = np.array(Y - y_gen2)\n",
    "np.round(errors, 2)"
   ]
  },
  {
   "cell_type": "code",
   "execution_count": 45,
   "metadata": {},
   "outputs": [
    {
     "data": {
      "image/png": "[encoded data removed]",
      "text/plain": [
       "<Figure size 432x288 with 1 Axes>"
      ]
     },
     "metadata": {
      "needs_background": "light"
     },
     "output_type": "display_data"
    }
   ],
   "source": [
    "plt.hist(errors)\n",
    "plt.show()"
   ]
  },
  {
   "cell_type": "markdown",
   "metadata": {},
   "source": [
    "It seems that our prediction is quote accurate only considering the training data and only considering the weight column as an independent variable. This however is not satisfactory since our model is univariate and multiple conditions need to be taken into account."
   ]
  },
  {
   "cell_type": "code",
   "execution_count": 46,
   "metadata": {},
   "outputs": [
    {
     "name": "stdout",
     "output_type": "stream",
     "text": [
      "Residual Sum of Squares: 8739.552582265216\n"
     ]
    }
   ],
   "source": [
    "# Overall error of the fit\n",
    "print('Residual Sum of Squares:', (errors ** 2).sum())"
   ]
  },
  {
   "cell_type": "code",
   "execution_count": 47,
   "metadata": {},
   "outputs": [
    {
     "name": "stdout",
     "output_type": "stream",
     "text": [
      "MSE: 4.477229806488328\n"
     ]
    }
   ],
   "source": [
    "#Mean Squared Error to assess fit of model\n",
    "print('MSE:', (1/len(X))*(errors ** 2).sum())"
   ]
  },
  {
   "cell_type": "markdown",
   "metadata": {},
   "source": [
    "There is no 'correct' Mean Squared Error. The model's MSE is ~ 4.5 units from a perfect fit (MSE=0)"
   ]
  },
  {
   "cell_type": "code",
   "execution_count": 48,
   "metadata": {},
   "outputs": [
    {
     "name": "stdout",
     "output_type": "stream",
     "text": [
      "R^2: 0.11416723112994909\n"
     ]
    }
   ],
   "source": [
    "# R Squared method to assess fit of model\n",
    "print(\"R^2:\", 1 - (errors**2).sum()/((Y - y_bar)**2).sum())"
   ]
  },
  {
   "cell_type": "markdown",
   "metadata": {},
   "source": [
    "R Squared is closer to 0 than it is to 1. This indicates that the regression does not explain much of the variability in the response."
   ]
  },
  {
   "cell_type": "markdown",
   "metadata": {},
   "source": [
    "### 5.2. Method 2: A multivariate linear regression model using sklearn Linear Regression"
   ]
  },
  {
   "cell_type": "markdown",
   "metadata": {},
   "source": [
    "#### Building and fitting the model"
   ]
  },
  {
   "cell_type": "code",
   "execution_count": 49,
   "metadata": {},
   "outputs": [],
   "source": [
    "# import linear regression model\n",
    "from sklearn.linear_model import LinearRegression"
   ]
  },
  {
   "cell_type": "code",
   "execution_count": 50,
   "metadata": {},
   "outputs": [],
   "source": [
    "# create model object\n",
    "LR_train = LinearRegression()\n",
    "LR_test = LinearRegression()"
   ]
  },
  {
   "cell_type": "code",
   "execution_count": 51,
   "metadata": {
    "scrolled": true
   },
   "outputs": [
    {
     "data": {
      "text/plain": [
       "LinearRegression()"
      ]
     },
     "execution_count": 51,
     "metadata": {},
     "output_type": "execute_result"
    }
   ],
   "source": [
    "# train model\n",
    "LR_train.fit(X_train, y_train)\n",
    "LR_test.fit(X_test, y_test)"
   ]
  },
  {
   "cell_type": "code",
   "execution_count": 52,
   "metadata": {},
   "outputs": [
    {
     "name": "stdout",
     "output_type": "stream",
     "text": [
      "Intercept: 5498773182.541316\n"
     ]
    }
   ],
   "source": [
    "# extract model intercept\n",
    "beta_0 = float(LR_train.intercept_)\n",
    "print(\"Intercept:\", beta_0)"
   ]
  },
  {
   "cell_type": "code",
   "execution_count": 53,
   "metadata": {},
   "outputs": [
    {
     "data": {
      "text/html": [
       "<div>\n",
       "<style scoped>\n",
       "    .dataframe tbody tr th:only-of-type {\n",
       "        vertical-align: middle;\n",
       "    }\n",
       "\n",
       "    .dataframe tbody tr th {\n",
       "        vertical-align: top;\n",
       "    }\n",
       "\n",
       "    .dataframe thead th {\n",
       "        text-align: right;\n",
       "    }\n",
       "</style>\n",
       "<table border=\"1\" class=\"dataframe\">\n",
       "  <thead>\n",
       "    <tr style=\"text-align: right;\">\n",
       "      <th></th>\n",
       "      <th>Coefficient</th>\n",
       "    </tr>\n",
       "  </thead>\n",
       "  <tbody>\n",
       "    <tr>\n",
       "      <th>Weight_Kg</th>\n",
       "      <td>-1.832924e+09</td>\n",
       "    </tr>\n",
       "    <tr>\n",
       "      <th>Total_Qty_Sold</th>\n",
       "      <td>-1.133617e-04</td>\n",
       "    </tr>\n",
       "    <tr>\n",
       "      <th>Stock_On_Hand</th>\n",
       "      <td>-6.009841e-05</td>\n",
       "    </tr>\n",
       "    <tr>\n",
       "      <th>Province_EASTERN_CAPE</th>\n",
       "      <td>-1.472254e+00</td>\n",
       "    </tr>\n",
       "    <tr>\n",
       "      <th>Province_NATAL</th>\n",
       "      <td>-2.551041e+00</td>\n",
       "    </tr>\n",
       "    <tr>\n",
       "      <th>Province_ORANGE_FREE_STATE</th>\n",
       "      <td>-2.082859e+00</td>\n",
       "    </tr>\n",
       "    <tr>\n",
       "      <th>Province_TRANSVAAL</th>\n",
       "      <td>-1.095201e+00</td>\n",
       "    </tr>\n",
       "  </tbody>\n",
       "</table>\n",
       "</div>"
      ],
      "text/plain": [
       "                             Coefficient\n",
       "Weight_Kg                  -1.832924e+09\n",
       "Total_Qty_Sold             -1.133617e-04\n",
       "Stock_On_Hand              -6.009841e-05\n",
       "Province_EASTERN_CAPE      -1.472254e+00\n",
       "Province_NATAL             -2.551041e+00\n",
       "Province_ORANGE_FREE_STATE -2.082859e+00\n",
       "Province_TRANSVAAL         -1.095201e+00"
      ]
     },
     "execution_count": 53,
     "metadata": {},
     "output_type": "execute_result"
    }
   ],
   "source": [
    "# extract and show model coeffs\n",
    "beta_js = pd.DataFrame(LR_train.coef_, X_train.columns, columns=['Coefficient'])\n",
    "beta_js.head(7)"
   ]
  },
  {
   "cell_type": "markdown",
   "metadata": {},
   "source": [
    "#### Assess our results"
   ]
  },
  {
   "cell_type": "code",
   "execution_count": 54,
   "metadata": {},
   "outputs": [],
   "source": [
    "#Importing the necessary packages\n",
    "from sklearn import metrics\n",
    "import math"
   ]
  },
  {
   "cell_type": "code",
   "execution_count": 55,
   "metadata": {},
   "outputs": [
    {
     "name": "stdout",
     "output_type": "stream",
     "text": [
      "The RMSE of the test data is: 1.4054023129024198\n"
     ]
    }
   ],
   "source": [
    "#Working out the RMSE of the test data\n",
    "RMSE = math.sqrt(metrics.mean_squared_error(y_test, LR_test.predict(X_test)))\n",
    "print('The RMSE of the test data is: ' + str(RMSE))"
   ]
  },
  {
   "cell_type": "markdown",
   "metadata": {},
   "source": [
    "#### Making predictions on the test data"
   ]
  },
  {
   "cell_type": "code",
   "execution_count": 56,
   "metadata": {},
   "outputs": [],
   "source": [
    "# Making the prediction\n",
    "y_submission = LR_test.predict(test_submission_set)"
   ]
  },
  {
   "cell_type": "code",
   "execution_count": 57,
   "metadata": {},
   "outputs": [
    {
     "data": {
      "text/plain": [
       "array([ 8.95091438e+00,  9.35885429e+00,  8.63492060e+00,  7.71084881e+00,\n",
       "        8.60420942e+00,  4.34429598e+00,  4.98928452e+00,  7.50391769e+00,\n",
       "        8.61286068e+00,  8.73244286e+00,  5.85805416e+00,  4.83166933e+00,\n",
       "        8.85975075e+00,  4.47167015e+00,  2.61309433e+00,  6.03893852e+00,\n",
       "        9.60189724e+00,  4.44649887e+00,  9.49829245e+00,  6.14979744e+00,\n",
       "        5.31949377e+00,  4.40055513e+00,  7.39756107e+00,  6.51818848e+00,\n",
       "        3.85358810e+00,  6.68431854e+00,  7.60480452e+00,  8.17936945e+00,\n",
       "        8.03355885e+00,  6.10549212e+00,  8.43536091e+00,  4.63448811e+00,\n",
       "        9.07767773e+00,  7.70602846e+00,  4.30273867e+00,  8.61876583e+00,\n",
       "        9.87137365e+00,  1.03249145e+01,  6.59292603e+00,  6.81185579e+00,\n",
       "        9.93714905e+00,  8.40009356e+00,  9.16769314e+00,  4.47109985e+00,\n",
       "        5.64680958e+00,  5.60137367e+00,  5.02777243e+00,  6.57114315e+00,\n",
       "        6.08387899e+00,  5.24994421e+00,  1.36639833e+00,  4.72935390e+00,\n",
       "        8.73380852e+00,  9.91832113e+00,  7.77028322e+00,  6.79956007e+00,\n",
       "        8.83314657e+00,  8.42781115e+00,  8.96306896e+00,  8.42596865e+00,\n",
       "        8.62561321e+00,  9.17649794e+00,  4.25620842e+00,  7.56263733e+00,\n",
       "        8.46459246e+00,  5.22424412e+00,  4.10072422e+00,  4.80185699e+00,\n",
       "        4.58398771e+00,  6.76518297e+00,  8.67870283e+00,  5.61008644e+00,\n",
       "        6.69619751e+00,  6.66790533e+00,  5.67976379e+00,  5.39690208e+00,\n",
       "        6.06251287e+00,  9.06714153e+00,  9.01391649e+00,  6.00670958e+00,\n",
       "        8.25053978e+00,  3.97631788e+00,  6.08914757e+00,  5.64145565e+00,\n",
       "        2.17021370e+00,  6.70174599e+00,  7.84254837e+00,  9.29387856e+00,\n",
       "        3.89063358e+00,  5.96724319e+00,  8.42250681e+00,  9.10087490e+00,\n",
       "        7.68006563e+00,  5.55822372e+00,  7.04402637e+00,  7.43975735e+00,\n",
       "        8.40013933e+00,  8.22352791e+00,  4.24366760e+00,  5.93573189e+00,\n",
       "        8.35910892e+00,  7.23355770e+00,  5.24119949e+00,  7.54038048e+00,\n",
       "        6.54912138e+00,  7.56606293e+00,  7.62517977e+00,  6.64582443e+00,\n",
       "        9.46861982e+00,  4.39310884e+00,  4.45928764e+00,  5.84864140e+00,\n",
       "        5.03678131e+00,  6.32242632e+00,  7.74374199e+00,  8.56717491e+00,\n",
       "        6.30696106e+00,  9.42205429e+00,  6.08986664e+00,  7.12373304e+00,\n",
       "        4.99062538e+00,  6.58157873e+00,  8.58792925e+00,  4.78872299e+00,\n",
       "        8.56094646e+00,  6.77834272e+00,  6.00395298e+00,  8.42655230e+00,\n",
       "        9.04851580e+00,  6.72709084e+00,  8.04447222e+00,  6.72038841e+00,\n",
       "        9.08248425e+00,  8.38628960e+00,  1.74614334e+00,  6.26218987e+00,\n",
       "        5.95253611e+00,  8.34792805e+00,  7.90111208e+00,  6.05086517e+00,\n",
       "        8.16728830e+00,  4.59283781e+00,  8.91164541e+00,  4.80857944e+00,\n",
       "        8.60976458e+00,  6.99967098e+00,  6.29771233e+00,  8.51560879e+00,\n",
       "        7.03418922e+00,  7.84575939e+00,  8.51536942e+00,  7.84472513e+00,\n",
       "        4.89291048e+00,  7.55318213e+00,  7.51214409e+00,  9.94917679e+00,\n",
       "        6.60830164e+00,  6.23951626e+00,  8.05886889e+00,  7.17436171e+00,\n",
       "        8.84616852e+00,  8.73613930e+00,  7.24164820e+00,  8.21072435e+00,\n",
       "        7.59845114e+00,  8.66889095e+00,  5.39220905e+00,  6.92140007e+00,\n",
       "        7.07695293e+00,  7.77360773e+00,  9.50987768e+00,  8.04713917e+00,\n",
       "        6.71017790e+00,  8.79463911e+00,  4.25278664e+00,  4.66603756e+00,\n",
       "        8.61128664e+00,  5.77353191e+00,  5.28193378e+00,  5.48373985e+00,\n",
       "        6.74840355e+00, -2.11290836e+00,  9.44647980e+00,  7.85741234e+00,\n",
       "        7.01336718e+00, -2.11321354e+00,  4.00232714e+09,  7.71143246e+00,\n",
       "        7.13967419e+00,  7.18580914e+00,  6.01110411e+00,  9.93805313e+00,\n",
       "        4.82934999e+00,  2.60842896e+00,  8.45212746e+00,  8.11423159e+00,\n",
       "        6.57500410e+00,  6.39775562e+00,  5.91438389e+00,  8.40389681e+00,\n",
       "        4.49097061e+00,  5.26526403e+00,  7.98878717e+00,  2.95815372e+00,\n",
       "        6.76598167e+00,  4.33623934e+00,  8.36432838e+00,  6.51818848e+00,\n",
       "        6.86059380e+00,  9.66538143e+00,  7.93071318e+00,  9.82173920e+00,\n",
       "        6.38117838e+00,  8.01645374e+00,  8.90692329e+00,  6.58573246e+00,\n",
       "        6.49124813e+00,  6.67089272e+00,  6.47202253e+00,  7.23185873e+00,\n",
       "        4.61612606e+00,  3.90688324e+00,  8.32368088e+00,  9.07859707e+00,\n",
       "        9.34440422e+00,  6.44444656e+00,  7.37912273e+00,  4.14296627e+00,\n",
       "        7.70640326e+00,  5.62513638e+00,  6.31752825e+00,  9.81262350e+00,\n",
       "        8.08827209e+00,  4.19297504e+00,  5.66651535e+00,  5.39378738e+00,\n",
       "        8.41820097e+00,  9.00616646e+00,  4.82974052e+00,  6.07943153e+00,\n",
       "        6.12117386e+00,  5.79346132e+00,  8.22591925e+00,  9.32441378e+00,\n",
       "        8.09371185e+00,  6.70800209e+00,  5.25534105e+00,  6.85811901e+00,\n",
       "        6.66755438e+00,  9.47705460e+00,  8.36595201e+00,  9.16522884e+00,\n",
       "        5.61933994e+00,  7.64235258e+00,  7.40861416e+00,  4.35363436e+00,\n",
       "        9.71301985e+00,  8.28216600e+00,  7.69930172e+00,  8.50677538e+00,\n",
       "        4.72348547e+00,  9.50394964e+00,  6.47995186e+00,  5.61748600e+00,\n",
       "        3.82372665e+00,  7.17663813e+00,  4.35892868e+00,  6.00862694e+00,\n",
       "        6.74658394e+00,  6.52742386e+00,  8.54617214e+00,  6.14672995e+00,\n",
       "        8.70888090e+00,  2.68110847e+00,  8.54358578e+00,  8.51238298e+00,\n",
       "        5.68145895e+00,  6.29377174e+00,  4.61072731e+00,  7.50047302e+00,\n",
       "        7.07632542e+00,  6.93667269e+00,  5.59288073e+00,  5.36050415e+00,\n",
       "        7.91532040e+00,  8.67438316e-01,  5.93027258e+00,  6.18859100e+00,\n",
       "        8.56080389e+00,  8.25270891e+00,  5.65677977e+00,  5.67697525e+00,\n",
       "        5.24339581e+00,  4.73887253e+00,  7.65864182e+00,  7.97954512e+00,\n",
       "        8.54883862e+00,  8.07104826e+00,  8.16529036e+00,  5.45750141e+00,\n",
       "        6.17367744e+00,  4.25852394e+00,  5.50977135e+00,  6.71882820e+00,\n",
       "        9.39600229e+00,  9.03405428e+00,  6.08287621e+00,  5.47739792e+00,\n",
       "        7.45820999e+00,  5.62918282e+00,  7.93988848e+00,  6.99053240e+00,\n",
       "        6.25577164e+00,  8.36506271e+00,  8.92777586e+00,  7.55948591e+00,\n",
       "        6.06700659e+00,  6.47675610e+00,  5.94473028e+00,  5.90230894e+00,\n",
       "        6.24559593e+00,  5.24831057e+00,  7.19952869e+00,  7.76614809e+00,\n",
       "        4.83258486e+00,  5.93076992e+00,  9.40401602e+00,  5.70217896e+00,\n",
       "        8.95455742e+00,  7.68388081e+00,  6.24907684e+00,  5.41390419e+00,\n",
       "        7.93066168e+00,  7.00651979e+00,  8.67025328e+00,  7.90170908e+00,\n",
       "        8.02860212e+00,  4.25798035e+00,  9.45945215e+00,  4.85607338e+00,\n",
       "        8.00345469e+00,  6.70932198e+00,  8.44416094e+00,  6.36985064e+00,\n",
       "        8.90442038e+00,  8.77161694e+00,  9.59127760e+00,  5.25969553e+00,\n",
       "        7.78497314e+00,  8.31805992e+00,  7.46300077e+00,  8.58249950e+00,\n",
       "        8.42430544e+00,  7.69211483e+00,  8.23514748e+00,  6.53883743e+00,\n",
       "        6.06733465e+00,  1.03157210e+01,  8.82733727e+00,  7.56288862e+00,\n",
       "        8.02863026e+00,  6.48651123e+00,  8.47793484e+00,  8.68490934e+00,\n",
       "        7.92830896e+00,  7.47975206e+00,  7.84540796e+00,  7.86089897e+00,\n",
       "        8.73979902e+00,  8.26697969e+00,  4.73752975e+00,  4.81678486e+00,\n",
       "        6.56987000e+00,  8.70231581e+00,  6.77752399e+00,  7.99124384e+00,\n",
       "        4.68333006e+00,  6.96478558e+00,  8.42430544e+00,  4.25566101e+00,\n",
       "        9.38625097e+00,  7.56664610e+00,  6.66505098e+00,  6.99962664e+00,\n",
       "        6.69715500e+00,  7.45202017e+00,  5.27574730e+00,  7.93981886e+00,\n",
       "        5.78737879e+00,  9.32694387e+00,  8.19152641e+00,  7.04670048e+00,\n",
       "        9.04385662e+00,  7.70008612e+00,  4.59784269e+00,  7.06014776e+00,\n",
       "        5.85271549e+00,  7.06002522e+00,  7.78734493e+00,  6.51661539e+00,\n",
       "        6.20911407e+00,  5.52697182e+00,  8.37150955e+00,  5.46747017e+00,\n",
       "        6.03241158e+00,  9.00255299e+00,  6.27798319e+00,  7.86004972e+00,\n",
       "        8.66827965e-01,  8.37424326e+00,  8.66921520e+00,  6.32242632e+00,\n",
       "        6.36108446e+00,  7.46930075e+00,  8.23137283e+00,  5.79708338e+00,\n",
       "        7.74858761e+00,  7.30900717e+00,  9.00537682e+00,  4.46207047e+00,\n",
       "        8.80742216e+00,  5.50841331e+00,  6.90969038e+00,  4.83327103e+00,\n",
       "        5.82627201e+00,  7.69616461e+00,  7.86240292e+00,  6.52789688e+00,\n",
       "        7.38085794e+00,  7.87195063e+00,  8.93143845e+00,  6.94544125e+00,\n",
       "        6.98378658e+00,  8.07045126e+00,  5.90252829e+00,  7.96342039e+00,\n",
       "        4.99053955e+00,  6.58166218e+00,  6.62631416e+00,  5.85521412e+00,\n",
       "        8.49212933e+00,  7.90530968e+00,  9.01296806e+00,  9.73332930e+00,\n",
       "        8.62686443e+00,  9.11763906e+00,  6.91996479e+00,  7.45806503e+00,\n",
       "        8.88591051e+00,  7.38571167e+00,  8.57830477e+00,  7.07605791e+00,\n",
       "        8.47911882e+00,  8.59263182e+00,  7.02128792e+00,  8.29136086e+00,\n",
       "        8.62384748e+00,  9.78107595e+00,  5.40715218e+00,  7.32935667e+00,\n",
       "        4.58614826e+00,  8.84438801e+00,  4.47412109e+00,  3.86811829e+00,\n",
       "        7.86719799e+00,  5.54868126e+00,  5.47178268e+00,  6.68044233e+00,\n",
       "        5.47738361e+00,  8.32555962e+00,  7.46458769e+00,  8.54664516e+00,\n",
       "        6.14474869e+00,  5.87663078e+00,  4.60029125e+00,  8.32264090e+00,\n",
       "        8.55316830e+00,  5.27297592e+00,  6.12900734e+00,  6.48099995e+00,\n",
       "        5.26923084e+00,  8.33236599e+00,  1.03370810e+01,  6.81596041e+00,\n",
       "        9.34506798e+00,  8.56725645e+00,  8.96651363e+00,  6.24627972e+00,\n",
       "        8.20383263e+00,  5.27309799e+00,  4.59197521e+00,  7.49412060e+00,\n",
       "        6.75243425e+00,  8.25393105e+00,  8.92675591e+00,  7.03664875e+00,\n",
       "        6.27721834e+00,  8.67766142e+00,  8.53093767e+00,  7.57698441e+00,\n",
       "        8.91486740e+00,  5.40136147e+00,  8.31474543e+00,  8.59708548e+00,\n",
       "        7.93475294e+00,  8.61759233e+00,  7.85030985e+00,  4.52798462e+00,\n",
       "        8.48274994e+00,  6.29050684e+00,  7.56606293e+00,  6.85804272e+00,\n",
       "        5.45761299e+00,  6.12117386e+00,  8.67445946e+00,  8.71586037e+00,\n",
       "        7.86758375e+00,  6.75804329e+00,  8.14613485e+00,  7.30566931e+00,\n",
       "        8.78771305e+00,  6.67470312e+00,  6.52556849e+00,  5.82923222e+00,\n",
       "        6.99937725e+00,  6.44443035e+00,  8.08827209e+00,  4.35808992e+00,\n",
       "        5.40715218e+00,  8.36798143e+00,  8.68196774e+00,  5.44525146e+00,\n",
       "        8.61303616e+00,  8.43856907e+00,  8.35780907e+00,  7.56606293e+00,\n",
       "        6.98087358e+00,  6.80893278e+00,  5.50574827e+00,  7.59132385e+00,\n",
       "        7.69557619e+00,  4.32458925e+00,  8.58948469e+00,  9.62082243e+00,\n",
       "        6.68579483e+00,  6.87084103e+00,  8.80204201e+00,  5.30805111e+00,\n",
       "        8.67339230e+00,  7.72835970e+00,  5.71999454e+00,  6.38882494e+00,\n",
       "        6.12351799e+00,  4.33447695e+00,  6.35508823e+00,  4.09683275e+00,\n",
       "        9.00010872e+00,  7.97015858e+00,  5.45876122e+00,  5.99874306e+00,\n",
       "        9.27699804e+00,  3.80688334e+00,  3.84903526e+00,  4.66666698e+00,\n",
       "        7.09813595e+00,  4.37200975e+00,  7.99230480e+00,  4.49097061e+00,\n",
       "        8.35080194e+00,  8.53504992e+00,  8.67438316e-01,  5.64716530e+00,\n",
       "        8.57951403e+00,  8.02050257e+00,  6.17103767e+00,  6.15161610e+00,\n",
       "        6.15773964e+00,  5.27648830e+00,  7.25527239e+00,  8.09328461e+00,\n",
       "        6.49156094e+00,  1.15218509e+10,  5.65086699e+00,  7.81974268e+00,\n",
       "        8.49772978e+00,  7.52244520e+00,  7.86983728e+00,  9.19222164e+00,\n",
       "        6.14298630e+00,  6.81421328e+00,  7.86254025e+00,  6.45247221e+00,\n",
       "        5.68730736e+00,  4.67769146e+00,  8.83273506e+00,  6.45467138e+00,\n",
       "        5.94439888e+00,  5.72236443e+00,  7.23166513e+00,  4.40081310e+00,\n",
       "        7.56606245e+00,  6.08216667e+00,  8.94017982e+00,  4.89602709e+00,\n",
       "        8.88681602e+00,  2.95846653e+00,  8.77176714e+00,  1.80544662e+00,\n",
       "        7.46991968e+00,  9.60464096e+00,  8.42619705e+00,  8.31461525e+00,\n",
       "        7.51436377e+00,  4.88554001e+00,  8.93688202e+00,  4.56340504e+00,\n",
       "        6.55496740e+00,  9.48437262e+00,  4.56603527e+00,  8.98869991e+00,\n",
       "        8.59947538e+00,  8.74334669e+00,  8.14195681e+00,  4.46476936e+00,\n",
       "        6.83866978e+00,  9.16769314e+00,  5.58495331e+00,  4.19638157e+00,\n",
       "        8.03644419e+00,  7.18109798e+00,  4.66621876e+00,  6.21409035e+00,\n",
       "        5.83575058e+00,  5.20835400e+00,  5.95222330e+00,  6.04499245e+00,\n",
       "        8.95690584e+00,  6.17646217e+00,  3.89435196e+00,  5.15679026e+00,\n",
       "        5.38412094e+00,  4.34528017e+00,  9.34506798e+00,  3.90881729e+00,\n",
       "        8.96247578e+00,  4.32715416e+00,  7.90042019e+00,  5.54793262e+00,\n",
       "        9.15317822e+00,  6.95005465e+00,  5.89085197e+00,  7.28039217e+00,\n",
       "        6.80492449e+00,  7.51231575e+00,  3.92462540e+00,  7.84540796e+00,\n",
       "        5.58634949e+00,  4.44322777e+00,  7.84123850e+00,  8.40552711e+00,\n",
       "        5.85502768e+00,  7.40006542e+00,  6.00831318e+00,  4.00232714e+09,\n",
       "        7.74911404e+00,  7.55907393e+00,  8.42011261e+00,  4.37925386e+00,\n",
       "        1.03249145e+01,  6.65878248e+00,  9.10755587e+00,  5.38009262e+00,\n",
       "        5.25263977e+00,  7.40153408e+00,  8.55080748e+00,  9.80225849e+00,\n",
       "       -3.53446484e-01,  8.11269331e+00,  7.97517347e+00,  6.33210945e+00,\n",
       "        5.68801403e+00,  8.62276745e+00,  6.76515150e+00,  8.53344870e+00,\n",
       "        7.07717943e+00])"
      ]
     },
     "execution_count": 57,
     "metadata": {},
     "output_type": "execute_result"
    }
   ],
   "source": [
    "y_submission"
   ]
  },
  {
   "cell_type": "code",
   "execution_count": 58,
   "metadata": {},
   "outputs": [
    {
     "name": "stdout",
     "output_type": "stream",
     "text": [
      "7.0760579109191895\n",
      "7.0760579109191895\n",
      "7.0760579109191895\n",
      "7.0760579109191895\n",
      "7.0760579109191895\n",
      "7.0760579109191895\n"
     ]
    },
    {
     "data": {
      "text/plain": [
       "array([ 8.95091438,  9.35885429,  8.6349206 ,  7.71084881,  8.60420942,\n",
       "        4.34429598,  4.98928452,  7.50391769,  8.61286068,  8.73244286,\n",
       "        5.85805416,  4.83166933,  8.85975075,  4.47167015,  2.61309433,\n",
       "        6.03893852,  9.60189724,  4.44649887,  9.49829245,  6.14979744,\n",
       "        5.31949377,  4.40055513,  7.39756107,  6.51818848,  3.8535881 ,\n",
       "        6.68431854,  7.60480452,  8.17936945,  8.03355885,  6.10549212,\n",
       "        8.43536091,  4.63448811,  9.07767773,  7.70602846,  4.30273867,\n",
       "        8.61876583,  9.87137365, 10.32491446,  6.59292603,  6.81185579,\n",
       "        9.93714905,  8.40009356,  9.16769314,  4.47109985,  5.64680958,\n",
       "        5.60137367,  5.02777243,  6.57114315,  6.08387899,  5.24994421,\n",
       "        1.36639833,  4.7293539 ,  8.73380852,  9.91832113,  7.77028322,\n",
       "        6.79956007,  8.83314657,  8.42781115,  8.96306896,  8.42596865,\n",
       "        8.62561321,  9.17649794,  4.25620842,  7.56263733,  8.46459246,\n",
       "        5.22424412,  4.10072422,  4.80185699,  4.58398771,  6.76518297,\n",
       "        8.67870283,  5.61008644,  6.69619751,  6.66790533,  5.67976379,\n",
       "        5.39690208,  6.06251287,  9.06714153,  9.01391649,  6.00670958,\n",
       "        8.25053978,  3.97631788,  6.08914757,  5.64145565,  2.1702137 ,\n",
       "        6.70174599,  7.84254837,  9.29387856,  3.89063358,  5.96724319,\n",
       "        8.42250681,  9.1008749 ,  7.68006563,  5.55822372,  7.04402637,\n",
       "        7.43975735,  8.40013933,  8.22352791,  4.2436676 ,  5.93573189,\n",
       "        8.35910892,  7.2335577 ,  5.24119949,  7.54038048,  6.54912138,\n",
       "        7.56606293,  7.62517977,  6.64582443,  9.46861982,  4.39310884,\n",
       "        4.45928764,  5.8486414 ,  5.03678131,  6.32242632,  7.74374199,\n",
       "        8.56717491,  6.30696106,  9.42205429,  6.08986664,  7.12373304,\n",
       "        4.99062538,  6.58157873,  8.58792925,  4.78872299,  8.56094646,\n",
       "        6.77834272,  6.00395298,  8.4265523 ,  9.0485158 ,  6.72709084,\n",
       "        8.04447222,  6.72038841,  9.08248425,  8.3862896 ,  1.74614334,\n",
       "        6.26218987,  5.95253611,  8.34792805,  7.90111208,  6.05086517,\n",
       "        8.1672883 ,  4.59283781,  8.91164541,  4.80857944,  8.60976458,\n",
       "        6.99967098,  6.29771233,  8.51560879,  7.03418922,  7.84575939,\n",
       "        8.51536942,  7.84472513,  4.89291048,  7.55318213,  7.51214409,\n",
       "        9.94917679,  6.60830164,  6.23951626,  8.05886889,  7.17436171,\n",
       "        8.84616852,  8.7361393 ,  7.2416482 ,  8.21072435,  7.59845114,\n",
       "        8.66889095,  5.39220905,  6.92140007,  7.07695293,  7.77360773,\n",
       "        9.50987768,  8.04713917,  6.7101779 ,  8.79463911,  4.25278664,\n",
       "        4.66603756,  8.61128664,  5.77353191,  5.28193378,  5.48373985,\n",
       "        6.74840355,  7.07605791,  9.4464798 ,  7.85741234,  7.01336718,\n",
       "        7.07605791,  7.07605791,  7.71143246,  7.13967419,  7.18580914,\n",
       "        6.01110411,  9.93805313,  4.82934999,  2.60842896,  8.45212746,\n",
       "        8.11423159,  6.5750041 ,  6.39775562,  5.91438389,  8.40389681,\n",
       "        4.49097061,  5.26526403,  7.98878717,  2.95815372,  6.76598167,\n",
       "        4.33623934,  8.36432838,  6.51818848,  6.8605938 ,  9.66538143,\n",
       "        7.93071318,  9.8217392 ,  6.38117838,  8.01645374,  8.90692329,\n",
       "        6.58573246,  6.49124813,  6.67089272,  6.47202253,  7.23185873,\n",
       "        4.61612606,  3.90688324,  8.32368088,  9.07859707,  9.34440422,\n",
       "        6.44444656,  7.37912273,  4.14296627,  7.70640326,  5.62513638,\n",
       "        6.31752825,  9.8126235 ,  8.08827209,  4.19297504,  5.66651535,\n",
       "        5.39378738,  8.41820097,  9.00616646,  4.82974052,  6.07943153,\n",
       "        6.12117386,  5.79346132,  8.22591925,  9.32441378,  8.09371185,\n",
       "        6.70800209,  5.25534105,  6.85811901,  6.66755438,  9.4770546 ,\n",
       "        8.36595201,  9.16522884,  5.61933994,  7.64235258,  7.40861416,\n",
       "        4.35363436,  9.71301985,  8.282166  ,  7.69930172,  8.50677538,\n",
       "        4.72348547,  9.50394964,  6.47995186,  5.617486  ,  3.82372665,\n",
       "        7.17663813,  4.35892868,  6.00862694,  6.74658394,  6.52742386,\n",
       "        8.54617214,  6.14672995,  8.7088809 ,  2.68110847,  8.54358578,\n",
       "        8.51238298,  5.68145895,  6.29377174,  4.61072731,  7.50047302,\n",
       "        7.07632542,  6.93667269,  5.59288073,  5.36050415,  7.9153204 ,\n",
       "        0.86743832,  5.93027258,  6.188591  ,  8.56080389,  8.25270891,\n",
       "        5.65677977,  5.67697525,  5.24339581,  4.73887253,  7.65864182,\n",
       "        7.97954512,  8.54883862,  8.07104826,  8.16529036,  5.45750141,\n",
       "        6.17367744,  4.25852394,  5.50977135,  6.7188282 ,  9.39600229,\n",
       "        9.03405428,  6.08287621,  5.47739792,  7.45820999,  5.62918282,\n",
       "        7.93988848,  6.9905324 ,  6.25577164,  8.36506271,  8.92777586,\n",
       "        7.55948591,  6.06700659,  6.4767561 ,  5.94473028,  5.90230894,\n",
       "        6.24559593,  5.24831057,  7.19952869,  7.76614809,  4.83258486,\n",
       "        5.93076992,  9.40401602,  5.70217896,  8.95455742,  7.68388081,\n",
       "        6.24907684,  5.41390419,  7.93066168,  7.00651979,  8.67025328,\n",
       "        7.90170908,  8.02860212,  4.25798035,  9.45945215,  4.85607338,\n",
       "        8.00345469,  6.70932198,  8.44416094,  6.36985064,  8.90442038,\n",
       "        8.77161694,  9.5912776 ,  5.25969553,  7.78497314,  8.31805992,\n",
       "        7.46300077,  8.5824995 ,  8.42430544,  7.69211483,  8.23514748,\n",
       "        6.53883743,  6.06733465, 10.31572104,  8.82733727,  7.56288862,\n",
       "        8.02863026,  6.48651123,  8.47793484,  8.68490934,  7.92830896,\n",
       "        7.47975206,  7.84540796,  7.86089897,  8.73979902,  8.26697969,\n",
       "        4.73752975,  4.81678486,  6.56987   ,  8.70231581,  6.77752399,\n",
       "        7.99124384,  4.68333006,  6.96478558,  8.42430544,  4.25566101,\n",
       "        9.38625097,  7.5666461 ,  6.66505098,  6.99962664,  6.697155  ,\n",
       "        7.45202017,  5.2757473 ,  7.93981886,  5.78737879,  9.32694387,\n",
       "        8.19152641,  7.04670048,  9.04385662,  7.70008612,  4.59784269,\n",
       "        7.06014776,  5.85271549,  7.06002522,  7.78734493,  6.51661539,\n",
       "        6.20911407,  5.52697182,  8.37150955,  5.46747017,  6.03241158,\n",
       "        9.00255299,  6.27798319,  7.86004972,  0.86682796,  8.37424326,\n",
       "        8.6692152 ,  6.32242632,  6.36108446,  7.46930075,  8.23137283,\n",
       "        5.79708338,  7.74858761,  7.30900717,  9.00537682,  4.46207047,\n",
       "        8.80742216,  5.50841331,  6.90969038,  4.83327103,  5.82627201,\n",
       "        7.69616461,  7.86240292,  6.52789688,  7.38085794,  7.87195063,\n",
       "        8.93143845,  6.94544125,  6.98378658,  8.07045126,  5.90252829,\n",
       "        7.96342039,  4.99053955,  6.58166218,  6.62631416,  5.85521412,\n",
       "        8.49212933,  7.90530968,  9.01296806,  9.7333293 ,  8.62686443,\n",
       "        9.11763906,  6.91996479,  7.45806503,  8.88591051,  7.38571167,\n",
       "        8.57830477,  7.07605791,  8.47911882,  8.59263182,  7.02128792,\n",
       "        8.29136086,  8.62384748,  9.78107595,  5.40715218,  7.32935667,\n",
       "        4.58614826,  8.84438801,  4.47412109,  3.86811829,  7.86719799,\n",
       "        5.54868126,  5.47178268,  6.68044233,  5.47738361,  8.32555962,\n",
       "        7.46458769,  8.54664516,  6.14474869,  5.87663078,  4.60029125,\n",
       "        8.3226409 ,  8.5531683 ,  5.27297592,  6.12900734,  6.48099995,\n",
       "        5.26923084,  8.33236599, 10.33708096,  6.81596041,  9.34506798,\n",
       "        8.56725645,  8.96651363,  6.24627972,  8.20383263,  5.27309799,\n",
       "        4.59197521,  7.4941206 ,  6.75243425,  8.25393105,  8.92675591,\n",
       "        7.03664875,  6.27721834,  8.67766142,  8.53093767,  7.57698441,\n",
       "        8.9148674 ,  5.40136147,  8.31474543,  8.59708548,  7.93475294,\n",
       "        8.61759233,  7.85030985,  4.52798462,  8.48274994,  6.29050684,\n",
       "        7.56606293,  6.85804272,  5.45761299,  6.12117386,  8.67445946,\n",
       "        8.71586037,  7.86758375,  6.75804329,  8.14613485,  7.30566931,\n",
       "        8.78771305,  6.67470312,  6.52556849,  5.82923222,  6.99937725,\n",
       "        6.44443035,  8.08827209,  4.35808992,  5.40715218,  8.36798143,\n",
       "        8.68196774,  5.44525146,  8.61303616,  8.43856907,  8.35780907,\n",
       "        7.56606293,  6.98087358,  6.80893278,  5.50574827,  7.59132385,\n",
       "        7.69557619,  4.32458925,  8.58948469,  9.62082243,  6.68579483,\n",
       "        6.87084103,  8.80204201,  5.30805111,  8.6733923 ,  7.7283597 ,\n",
       "        5.71999454,  6.38882494,  6.12351799,  4.33447695,  6.35508823,\n",
       "        4.09683275,  9.00010872,  7.97015858,  5.45876122,  5.99874306,\n",
       "        9.27699804,  3.80688334,  3.84903526,  4.66666698,  7.09813595,\n",
       "        4.37200975,  7.9923048 ,  4.49097061,  8.35080194,  8.53504992,\n",
       "        0.86743832,  5.6471653 ,  8.57951403,  8.02050257,  6.17103767,\n",
       "        6.1516161 ,  6.15773964,  5.2764883 ,  7.25527239,  8.09328461,\n",
       "        6.49156094,  7.07605791,  5.65086699,  7.81974268,  8.49772978,\n",
       "        7.5224452 ,  7.86983728,  9.19222164,  6.1429863 ,  6.81421328,\n",
       "        7.86254025,  6.45247221,  5.68730736,  4.67769146,  8.83273506,\n",
       "        6.45467138,  5.94439888,  5.72236443,  7.23166513,  4.4008131 ,\n",
       "        7.56606245,  6.08216667,  8.94017982,  4.89602709,  8.88681602,\n",
       "        2.95846653,  8.77176714,  1.80544662,  7.46991968,  9.60464096,\n",
       "        8.42619705,  8.31461525,  7.51436377,  4.88554001,  8.93688202,\n",
       "        4.56340504,  6.5549674 ,  9.48437262,  4.56603527,  8.98869991,\n",
       "        8.59947538,  8.74334669,  8.14195681,  4.46476936,  6.83866978,\n",
       "        9.16769314,  5.58495331,  4.19638157,  8.03644419,  7.18109798,\n",
       "        4.66621876,  6.21409035,  5.83575058,  5.208354  ,  5.9522233 ,\n",
       "        6.04499245,  8.95690584,  6.17646217,  3.89435196,  5.15679026,\n",
       "        5.38412094,  4.34528017,  9.34506798,  3.90881729,  8.96247578,\n",
       "        4.32715416,  7.90042019,  5.54793262,  9.15317822,  6.95005465,\n",
       "        5.89085197,  7.28039217,  6.80492449,  7.51231575,  3.9246254 ,\n",
       "        7.84540796,  5.58634949,  4.44322777,  7.8412385 ,  8.40552711,\n",
       "        5.85502768,  7.40006542,  6.00831318,  7.07605791,  7.74911404,\n",
       "        7.55907393,  8.42011261,  4.37925386, 10.32491446,  6.65878248,\n",
       "        9.10755587,  5.38009262,  5.25263977,  7.40153408,  8.55080748,\n",
       "        9.80225849,  7.07605791,  8.11269331,  7.97517347,  6.33210945,\n",
       "        5.68801403,  8.62276745,  6.7651515 ,  8.5334487 ,  7.07717943])"
      ]
     },
     "execution_count": 58,
     "metadata": {},
     "output_type": "execute_result"
    }
   ],
   "source": [
    "#Replacing outliers with the median\n",
    "y_submission_median = np.median(y_submission)\n",
    "i = 0\n",
    "for prediction in y_submission:\n",
    "    if prediction > 20.0 or prediction < 0.0:\n",
    "        y_submission[i] = y_submission_median\n",
    "        print(y_submission[i])\n",
    "    i += 1\n",
    "y_submission"
   ]
  },
  {
   "cell_type": "code",
   "execution_count": 59,
   "metadata": {},
   "outputs": [],
   "source": [
    "#Creating an index list\n",
    "index_list = []\n",
    "for i in range(1,686):\n",
    "    index_list.append(i)"
   ]
  },
  {
   "cell_type": "code",
   "execution_count": 60,
   "metadata": {},
   "outputs": [],
   "source": [
    "#Putting the predictions with the index in a DataFrame\n",
    "LR_submission_DF = pd.DataFrame({'Index':index_list, 'avg_price_per_kg': y_submission})"
   ]
  },
  {
   "cell_type": "code",
   "execution_count": 61,
   "metadata": {},
   "outputs": [
    {
     "data": {
      "text/html": [
       "<div>\n",
       "<style scoped>\n",
       "    .dataframe tbody tr th:only-of-type {\n",
       "        vertical-align: middle;\n",
       "    }\n",
       "\n",
       "    .dataframe tbody tr th {\n",
       "        vertical-align: top;\n",
       "    }\n",
       "\n",
       "    .dataframe thead th {\n",
       "        text-align: right;\n",
       "    }\n",
       "</style>\n",
       "<table border=\"1\" class=\"dataframe\">\n",
       "  <thead>\n",
       "    <tr style=\"text-align: right;\">\n",
       "      <th></th>\n",
       "      <th>Index</th>\n",
       "      <th>avg_price_per_kg</th>\n",
       "    </tr>\n",
       "  </thead>\n",
       "  <tbody>\n",
       "    <tr>\n",
       "      <th>0</th>\n",
       "      <td>1</td>\n",
       "      <td>8.950914</td>\n",
       "    </tr>\n",
       "    <tr>\n",
       "      <th>1</th>\n",
       "      <td>2</td>\n",
       "      <td>9.358854</td>\n",
       "    </tr>\n",
       "    <tr>\n",
       "      <th>2</th>\n",
       "      <td>3</td>\n",
       "      <td>8.634921</td>\n",
       "    </tr>\n",
       "    <tr>\n",
       "      <th>3</th>\n",
       "      <td>4</td>\n",
       "      <td>7.710849</td>\n",
       "    </tr>\n",
       "    <tr>\n",
       "      <th>4</th>\n",
       "      <td>5</td>\n",
       "      <td>8.604209</td>\n",
       "    </tr>\n",
       "  </tbody>\n",
       "</table>\n",
       "</div>"
      ],
      "text/plain": [
       "   Index  avg_price_per_kg\n",
       "0      1          8.950914\n",
       "1      2          9.358854\n",
       "2      3          8.634921\n",
       "3      4          7.710849\n",
       "4      5          8.604209"
      ]
     },
     "execution_count": 61,
     "metadata": {},
     "output_type": "execute_result"
    }
   ],
   "source": [
    "LR_submission_DF.head()"
   ]
  },
  {
   "cell_type": "code",
   "execution_count": 62,
   "metadata": {},
   "outputs": [],
   "source": [
    "#Saving the DataFrame as as csv\n",
    "LR_submission_DF.to_csv(r'C:\\Users\\stanj\\Documents\\GitHub\\regression-apples-predict-api-template\\LR_submission_DF.csv', index = False)"
   ]
  },
  {
   "cell_type": "markdown",
   "metadata": {},
   "source": [
    "### 5.3. Method 3: A multivariate linear regression model using statsmodels"
   ]
  },
  {
   "cell_type": "markdown",
   "metadata": {},
   "source": [
    "#### Build and train the model"
   ]
  },
  {
   "cell_type": "code",
   "execution_count": 63,
   "metadata": {},
   "outputs": [],
   "source": [
    "#Importing the statsmodels package\n",
    "import statsmodels.formula.api as sm"
   ]
  },
  {
   "cell_type": "markdown",
   "metadata": {},
   "source": [
    "The Date is still giving us the same error even though we removed the day:\"PatsyError:numbers besides '0' and '1' are only allowed with**\".It was then left out of our stats models. It also stated that \"Province_W.CAPE-BERGRIVER_ETC\" was not defined,we dropped that column as well."
   ]
  },
  {
   "cell_type": "code",
   "execution_count": 64,
   "metadata": {},
   "outputs": [],
   "source": [
    "#Creating a copy of the train to work on, so any changes we make do not affect the original dataframe\n",
    "train2 = train.copy()"
   ]
  },
  {
   "cell_type": "code",
   "execution_count": 65,
   "metadata": {},
   "outputs": [],
   "source": [
    "#Droping the column from our copy of the train dataframe. \n",
    "train2 = train2[train2[\"Province_W.CAPE-BERGRIVER_ETC\"] == 1]\n",
    "train2 = train2.drop([\"Province_W.CAPE-BERGRIVER_ETC\"], axis=1)"
   ]
  },
  {
   "cell_type": "code",
   "execution_count": 66,
   "metadata": {},
   "outputs": [
    {
     "data": {
      "text/html": [
       "<div>\n",
       "<style scoped>\n",
       "    .dataframe tbody tr th:only-of-type {\n",
       "        vertical-align: middle;\n",
       "    }\n",
       "\n",
       "    .dataframe tbody tr th {\n",
       "        vertical-align: top;\n",
       "    }\n",
       "\n",
       "    .dataframe thead th {\n",
       "        text-align: right;\n",
       "    }\n",
       "</style>\n",
       "<table border=\"1\" class=\"dataframe\">\n",
       "  <thead>\n",
       "    <tr style=\"text-align: right;\">\n",
       "      <th></th>\n",
       "      <th>Weight_Kg</th>\n",
       "      <th>Total_Qty_Sold</th>\n",
       "      <th>Stock_On_Hand</th>\n",
       "      <th>Province_EASTERN_CAPE</th>\n",
       "      <th>Province_NATAL</th>\n",
       "      <th>Province_ORANGE_FREE_STATE</th>\n",
       "      <th>Province_TRANSVAAL</th>\n",
       "      <th>Province_WEST_COAST</th>\n",
       "      <th>Container_DT063</th>\n",
       "      <th>Container_EC120</th>\n",
       "      <th>...</th>\n",
       "      <th>Date_2020-02</th>\n",
       "      <th>Date_2020-03</th>\n",
       "      <th>Date_2020-04</th>\n",
       "      <th>Date_2020-05</th>\n",
       "      <th>Date_2020-06</th>\n",
       "      <th>Date_2020-07</th>\n",
       "      <th>Date_2020-08</th>\n",
       "      <th>Date_2020-09</th>\n",
       "      <th>Date_2020-10</th>\n",
       "      <th>avg_price_per_kg</th>\n",
       "    </tr>\n",
       "  </thead>\n",
       "  <tbody>\n",
       "    <tr>\n",
       "      <th>24</th>\n",
       "      <td>9.0</td>\n",
       "      <td>18</td>\n",
       "      <td>1506</td>\n",
       "      <td>0</td>\n",
       "      <td>0</td>\n",
       "      <td>0</td>\n",
       "      <td>0</td>\n",
       "      <td>0</td>\n",
       "      <td>0</td>\n",
       "      <td>0</td>\n",
       "      <td>...</td>\n",
       "      <td>0</td>\n",
       "      <td>0</td>\n",
       "      <td>1</td>\n",
       "      <td>0</td>\n",
       "      <td>0</td>\n",
       "      <td>0</td>\n",
       "      <td>0</td>\n",
       "      <td>0</td>\n",
       "      <td>0</td>\n",
       "      <td>6.11</td>\n",
       "    </tr>\n",
       "    <tr>\n",
       "      <th>162</th>\n",
       "      <td>12.0</td>\n",
       "      <td>23</td>\n",
       "      <td>0</td>\n",
       "      <td>0</td>\n",
       "      <td>0</td>\n",
       "      <td>0</td>\n",
       "      <td>0</td>\n",
       "      <td>0</td>\n",
       "      <td>0</td>\n",
       "      <td>1</td>\n",
       "      <td>...</td>\n",
       "      <td>0</td>\n",
       "      <td>0</td>\n",
       "      <td>1</td>\n",
       "      <td>0</td>\n",
       "      <td>0</td>\n",
       "      <td>0</td>\n",
       "      <td>0</td>\n",
       "      <td>0</td>\n",
       "      <td>0</td>\n",
       "      <td>8.67</td>\n",
       "    </tr>\n",
       "    <tr>\n",
       "      <th>278</th>\n",
       "      <td>9.0</td>\n",
       "      <td>90</td>\n",
       "      <td>220</td>\n",
       "      <td>0</td>\n",
       "      <td>0</td>\n",
       "      <td>0</td>\n",
       "      <td>0</td>\n",
       "      <td>0</td>\n",
       "      <td>0</td>\n",
       "      <td>0</td>\n",
       "      <td>...</td>\n",
       "      <td>0</td>\n",
       "      <td>0</td>\n",
       "      <td>0</td>\n",
       "      <td>0</td>\n",
       "      <td>0</td>\n",
       "      <td>0</td>\n",
       "      <td>1</td>\n",
       "      <td>0</td>\n",
       "      <td>0</td>\n",
       "      <td>6.11</td>\n",
       "    </tr>\n",
       "    <tr>\n",
       "      <th>291</th>\n",
       "      <td>400.0</td>\n",
       "      <td>3</td>\n",
       "      <td>18</td>\n",
       "      <td>0</td>\n",
       "      <td>0</td>\n",
       "      <td>0</td>\n",
       "      <td>0</td>\n",
       "      <td>0</td>\n",
       "      <td>0</td>\n",
       "      <td>0</td>\n",
       "      <td>...</td>\n",
       "      <td>0</td>\n",
       "      <td>0</td>\n",
       "      <td>0</td>\n",
       "      <td>0</td>\n",
       "      <td>0</td>\n",
       "      <td>1</td>\n",
       "      <td>0</td>\n",
       "      <td>0</td>\n",
       "      <td>0</td>\n",
       "      <td>5.67</td>\n",
       "    </tr>\n",
       "    <tr>\n",
       "      <th>589</th>\n",
       "      <td>9.0</td>\n",
       "      <td>2</td>\n",
       "      <td>358</td>\n",
       "      <td>0</td>\n",
       "      <td>0</td>\n",
       "      <td>0</td>\n",
       "      <td>0</td>\n",
       "      <td>0</td>\n",
       "      <td>0</td>\n",
       "      <td>0</td>\n",
       "      <td>...</td>\n",
       "      <td>0</td>\n",
       "      <td>0</td>\n",
       "      <td>0</td>\n",
       "      <td>1</td>\n",
       "      <td>0</td>\n",
       "      <td>0</td>\n",
       "      <td>0</td>\n",
       "      <td>0</td>\n",
       "      <td>0</td>\n",
       "      <td>5.56</td>\n",
       "    </tr>\n",
       "  </tbody>\n",
       "</table>\n",
       "<p>5 rows × 38 columns</p>\n",
       "</div>"
      ],
      "text/plain": [
       "     Weight_Kg  Total_Qty_Sold  Stock_On_Hand  Province_EASTERN_CAPE  \\\n",
       "24         9.0              18           1506                      0   \n",
       "162       12.0              23              0                      0   \n",
       "278        9.0              90            220                      0   \n",
       "291      400.0               3             18                      0   \n",
       "589        9.0               2            358                      0   \n",
       "\n",
       "     Province_NATAL  Province_ORANGE_FREE_STATE  Province_TRANSVAAL  \\\n",
       "24                0                           0                   0   \n",
       "162               0                           0                   0   \n",
       "278               0                           0                   0   \n",
       "291               0                           0                   0   \n",
       "589               0                           0                   0   \n",
       "\n",
       "     Province_WEST_COAST  Container_DT063  Container_EC120  ...  Date_2020-02  \\\n",
       "24                     0                0                0  ...             0   \n",
       "162                    0                0                1  ...             0   \n",
       "278                    0                0                0  ...             0   \n",
       "291                    0                0                0  ...             0   \n",
       "589                    0                0                0  ...             0   \n",
       "\n",
       "     Date_2020-03  Date_2020-04  Date_2020-05  Date_2020-06  Date_2020-07  \\\n",
       "24              0             1             0             0             0   \n",
       "162             0             1             0             0             0   \n",
       "278             0             0             0             0             0   \n",
       "291             0             0             0             0             1   \n",
       "589             0             0             1             0             0   \n",
       "\n",
       "     Date_2020-08  Date_2020-09  Date_2020-10  avg_price_per_kg  \n",
       "24              0             0             0              6.11  \n",
       "162             0             0             0              8.67  \n",
       "278             1             0             0              6.11  \n",
       "291             0             0             0              5.67  \n",
       "589             0             0             0              5.56  \n",
       "\n",
       "[5 rows x 38 columns]"
      ]
     },
     "execution_count": 66,
     "metadata": {},
     "output_type": "execute_result"
    }
   ],
   "source": [
    "train2.head()"
   ]
  },
  {
   "cell_type": "code",
   "execution_count": 67,
   "metadata": {
    "scrolled": true
   },
   "outputs": [
    {
     "data": {
      "text/plain": [
       "'avg_price_per_kg ~ Weight_Kg+Total_Qty_Sold+Stock_On_Hand+Province_EASTERN_CAPE+Province_NATAL+Province_ORANGE_FREE_STATE+Province_TRANSVAAL+Province_WEST_COAST+Container_DT063+Container_EC120+Container_EF120+Container_EG140+Container_IA400+Container_JE090+Container_JG110+Container_M4183+Container_M6125+Container_M9125+Size_Grade_1M+Size_Grade_1S+Size_Grade_1U+Size_Grade_1X+Size_Grade_2L+Size_Grade_2M+Size_Grade_2S+Size_Grade_2U+Size_Grade_2X'"
      ]
     },
     "execution_count": 67,
     "metadata": {},
     "output_type": "execute_result"
    }
   ],
   "source": [
    "#Generating the regression string\n",
    "formula_str = train2.columns[-1]+' ~ '+'+'.join(train2.columns[0:27]); formula_str"
   ]
  },
  {
   "cell_type": "code",
   "execution_count": 68,
   "metadata": {},
   "outputs": [],
   "source": [
    "#Constructing the model using Ordinary Least Squares regression model\n",
    "model2 = sm.ols(formula = formula_str, data = train2)\n"
   ]
  },
  {
   "cell_type": "code",
   "execution_count": 69,
   "metadata": {},
   "outputs": [],
   "source": [
    "#Fitting the OLS model we constructed above\n",
    "fitted = model2.fit()"
   ]
  },
  {
   "cell_type": "code",
   "execution_count": 70,
   "metadata": {},
   "outputs": [
    {
     "name": "stdout",
     "output_type": "stream",
     "text": [
      "                            OLS Regression Results                            \n",
      "==============================================================================\n",
      "Dep. Variable:       avg_price_per_kg   R-squared:                       0.578\n",
      "Model:                            OLS   Adj. R-squared:                  0.563\n",
      "Method:                 Least Squares   F-statistic:                     38.78\n",
      "Date:                Wed, 19 May 2021   Prob (F-statistic):           6.92e-70\n",
      "Time:                        08:41:37   Log-Likelihood:                -759.14\n",
      "No. Observations:                 440   AIC:                             1550.\n",
      "Df Residuals:                     424   BIC:                             1616.\n",
      "Df Model:                          15                                         \n",
      "Covariance Type:            nonrobust                                         \n",
      "==============================================================================================\n",
      "                                 coef    std err          t      P>|t|      [0.025      0.975]\n",
      "----------------------------------------------------------------------------------------------\n",
      "Intercept                      8.7588      0.947      9.245      0.000       6.897      10.621\n",
      "Weight_Kg                     -0.0052      0.003     -2.030      0.043      -0.010      -0.000\n",
      "Total_Qty_Sold                -0.0013      0.000     -3.328      0.001      -0.002      -0.001\n",
      "Stock_On_Hand                 -0.0004      0.000     -3.331      0.001      -0.001      -0.000\n",
      "Province_EASTERN_CAPE      -2.423e-15   2.26e-16    -10.744      0.000   -2.87e-15   -1.98e-15\n",
      "Province_NATAL             -5.378e-16   8.65e-16     -0.622      0.535   -2.24e-15    1.16e-15\n",
      "Province_ORANGE_FREE_STATE -8.855e-16   8.86e-16     -1.000      0.318   -2.63e-15    8.55e-16\n",
      "Province_TRANSVAAL         -1.601e-15   3.58e-16     -4.477      0.000    -2.3e-15   -8.98e-16\n",
      "Province_WEST_COAST        -1.065e-15   1.21e-15     -0.882      0.378   -3.44e-15    1.31e-15\n",
      "Container_DT063             -8.13e-16   3.52e-16     -2.311      0.021    -1.5e-15   -1.22e-16\n",
      "Container_EC120                2.3620      0.832      2.839      0.005       0.727       3.997\n",
      "Container_EF120                1.5543      0.848      1.833      0.067      -0.112       3.221\n",
      "Container_EG140             1.056e-15   1.65e-15      0.641      0.522   -2.18e-15    4.29e-15\n",
      "Container_IA400               -0.2486      0.102     -2.435      0.015      -0.449      -0.048\n",
      "Container_JE090                5.3046      1.163      4.561      0.000       3.018       7.591\n",
      "Container_JG110             3.906e-15   4.63e-16      8.444      0.000       3e-15    4.82e-15\n",
      "Container_M4183                0.4600      0.860      0.535      0.593      -1.230       2.150\n",
      "Container_M6125                     0          0        nan        nan           0           0\n",
      "Container_M9125               -0.1791      1.656     -0.108      0.914      -3.434       3.076\n",
      "Size_Grade_1M                 -1.2033      0.360     -3.339      0.001      -1.912      -0.495\n",
      "Size_Grade_1S                 -1.5538      0.351     -4.426      0.000      -2.244      -0.864\n",
      "Size_Grade_1U                       0          0        nan        nan           0           0\n",
      "Size_Grade_1X                  0.2708      0.240      1.128      0.260      -0.201       0.743\n",
      "Size_Grade_2L                 -7.7164      0.939     -8.214      0.000      -9.563      -5.870\n",
      "Size_Grade_2M                 -8.0004      0.935     -8.560      0.000      -9.837      -6.163\n",
      "Size_Grade_2S                 -7.6095      0.881     -8.638      0.000      -9.341      -5.878\n",
      "Size_Grade_2U                       0          0        nan        nan           0           0\n",
      "Size_Grade_2X                 -8.8472      1.142     -7.750      0.000     -11.091      -6.603\n",
      "==============================================================================\n",
      "Omnibus:                       39.876   Durbin-Watson:                   1.839\n",
      "Prob(Omnibus):                  0.000   Jarque-Bera (JB):              144.958\n",
      "Skew:                          -0.304   Prob(JB):                     3.33e-32\n",
      "Kurtosis:                       5.746   Cond. No.                     1.45e+16\n",
      "==============================================================================\n",
      "\n",
      "Notes:\n",
      "[1] Standard Errors assume that the covariance matrix of the errors is correctly specified.\n",
      "[2] The smallest eigenvalue is 8.29e-25. This might indicate that there are\n",
      "strong multicollinearity problems or that the design matrix is singular.\n"
     ]
    }
   ],
   "source": [
    "#Viewing the fitted model summary\n",
    "print(fitted.summary())"
   ]
  },
  {
   "cell_type": "code",
   "execution_count": 71,
   "metadata": {},
   "outputs": [],
   "source": [
    "from statsmodels.tools.eval_measures import rmse\n",
    "\n",
    "# fit your model which you have already done\n",
    "\n",
    "# now generate predictions\n",
    "ypred = fitted.predict(train2)\n",
    "\n",
    "# calc rmse\n",
    "#rmse = rmse(train2.columns[-1], ypred)"
   ]
  },
  {
   "cell_type": "code",
   "execution_count": 72,
   "metadata": {},
   "outputs": [
    {
     "data": {
      "text/plain": [
       "74.26917732186533"
      ]
     },
     "execution_count": 72,
     "metadata": {},
     "output_type": "execute_result"
    }
   ],
   "source": [
    "fitted.mse_model "
   ]
  },
  {
   "cell_type": "code",
   "execution_count": 73,
   "metadata": {},
   "outputs": [],
   "source": [
    "rmse = 74.26917732186531 **(1/2)"
   ]
  },
  {
   "cell_type": "code",
   "execution_count": 74,
   "metadata": {
    "scrolled": false
   },
   "outputs": [
    {
     "data": {
      "text/plain": [
       "8.617956679043202"
      ]
     },
     "execution_count": 74,
     "metadata": {},
     "output_type": "execute_result"
    }
   ],
   "source": [
    "rmse"
   ]
  },
  {
   "cell_type": "markdown",
   "metadata": {},
   "source": [
    "### Training OLS with test data"
   ]
  },
  {
   "cell_type": "code",
   "execution_count": 75,
   "metadata": {},
   "outputs": [],
   "source": [
    "#Convert categorical data to numerical data\n",
    "test=test_set.copy()\n",
    "test=pd.get_dummies(test,drop_first=True)\n",
    "\n",
    "#Replace spaces in column names with underscores\n",
    "test.columns = test.columns.str.replace(' ','_')"
   ]
  },
  {
   "cell_type": "markdown",
   "metadata": {},
   "source": [
    "#### Plot our results"
   ]
  },
  {
   "cell_type": "code",
   "execution_count": 76,
   "metadata": {},
   "outputs": [],
   "source": [
    "#Importing packages to show how our predictor variables interact with our reponse variable\n",
    "from statsmodels.graphics.regressionplots import plot_partregress_grid\n",
    "import statsmodels.api as sm\n",
    "import matplotlib.pyplot as plt\n",
    "import statsmodels.formula.api as smf"
   ]
  },
  {
   "cell_type": "code",
   "execution_count": 77,
   "metadata": {
    "scrolled": true
   },
   "outputs": [
    {
     "data": {
      "image/png": "[encoded data removed]",
      "text/plain": [
       "<Figure size 576x2160 with 28 Axes>"
      ]
     },
     "metadata": {
      "needs_background": "light"
     },
     "output_type": "display_data"
    }
   ],
   "source": [
    "#Ploting partial regression plots\n",
    "fig = plt.figure(figsize=(8, 30))\n",
    "plot_partregress_grid(fitted, fig=fig)\n",
    "plt.show()"
   ]
  },
  {
   "cell_type": "markdown",
   "metadata": {},
   "source": [
    "#### Assess our results"
   ]
  },
  {
   "cell_type": "markdown",
   "metadata": {},
   "source": [
    "Our partial regression plots show us how avg_price_per_kg which is our dependent variable interact with all our independent variables. The following independent variables seem to have a linear relationship with avg_price_per_kg: Sales_Total, Total_kg_sold and Size_Grade."
   ]
  },
  {
   "cell_type": "markdown",
   "metadata": {},
   "source": [
    "#### Testing for independence"
   ]
  },
  {
   "cell_type": "code",
   "execution_count": 78,
   "metadata": {},
   "outputs": [
    {
     "data": {
      "image/png": "[encoded data removed]",
      "text/plain": [
       "<Figure size 1008x432 with 10 Axes>"
      ]
     },
     "metadata": {
      "needs_background": "light"
     },
     "output_type": "display_data"
    }
   ],
   "source": [
    "#Ploting Residuals vs Predictor Variable Plots\n",
    "fig, axs = plt.subplots(2,5, figsize=(14,6),sharey=True)\n",
    "fig.subplots_adjust(hspace = 0.5, wspace=.2)\n",
    "fig.suptitle('Predictor variables vs. model residuals', fontsize=16)\n",
    "axs = axs.ravel()\n",
    "\n",
    "for index, column in enumerate(train2.columns):\n",
    "    if(index<=10):\n",
    "        axs[index-1].set_title(\"{}\".format(column),fontsize=12)\n",
    "        axs[index-1].scatter(x=train2[column],y=fitted.resid,color='blue',edgecolor='k')\n",
    "        axs[index-1].grid(True)\n",
    "        xmin = min(train2[column])\n",
    "        xmax = max(train2[column])\n",
    "        axs[index-1].hlines(y=0,xmin=xmin*0.9,xmax=xmax*1.1,color='red',linestyle='--',lw=3)\n",
    "        axs[index-1].set_ylabel('Residuals')"
   ]
  },
  {
   "cell_type": "markdown",
   "metadata": {},
   "source": [
    "#### Testing for homoscedasticity"
   ]
  },
  {
   "cell_type": "code",
   "execution_count": 79,
   "metadata": {},
   "outputs": [
    {
     "data": {
      "image/png": "[encoded data removed]",
      "text/plain": [
       "<Figure size 576x216 with 1 Axes>"
      ]
     },
     "metadata": {
      "needs_background": "light"
     },
     "output_type": "display_data"
    }
   ],
   "source": [
    "#plotting our fitted model vs. residuals\n",
    "plt.figure(figsize=(8,3))\n",
    "p=plt.scatter(x=fitted.fittedvalues,y=fitted.resid,edgecolor='k')\n",
    "xmin = min(fitted.fittedvalues)\n",
    "xmax = max(fitted.fittedvalues)\n",
    "plt.hlines(y=0,xmin=xmin*0.9,xmax=xmax*1.1,color='red',linestyle='--',lw=3)\n",
    "plt.xlabel(\"Fitted values\",fontsize=15)\n",
    "plt.ylabel(\"Residuals\",fontsize=15)\n",
    "plt.title(\"Fitted vs. residuals plot\",fontsize=18)\n",
    "plt.grid(True)\n",
    "plt.show()"
   ]
  },
  {
   "cell_type": "markdown",
   "metadata": {},
   "source": [
    "#### Testing for normality"
   ]
  },
  {
   "cell_type": "code",
   "execution_count": 80,
   "metadata": {},
   "outputs": [
    {
     "data": {
      "image/png": "[encoded data removed]",
      "text/plain": [
       "<Figure size 576x360 with 1 Axes>"
      ]
     },
     "metadata": {
      "needs_background": "light"
     },
     "output_type": "display_data"
    }
   ],
   "source": [
    "#Plotting Histogram of Normalized Residuals\n",
    "plt.figure(figsize=(8,5))\n",
    "plt.hist(fitted.resid_pearson,bins=8,edgecolor='k')\n",
    "plt.ylabel('Count',fontsize=15)\n",
    "plt.xlabel('Normalized residuals',fontsize=15)\n",
    "plt.title(\"Histogram of normalized residuals\",fontsize=18)\n",
    "plt.show()"
   ]
  },
  {
   "cell_type": "markdown",
   "metadata": {},
   "source": [
    "Q-Q plot of normalized residuals"
   ]
  },
  {
   "cell_type": "code",
   "execution_count": 81,
   "metadata": {},
   "outputs": [],
   "source": [
    "#Importing Q-Qplot from stats models \n",
    "from statsmodels.graphics.gofplots import qqplot"
   ]
  },
  {
   "cell_type": "code",
   "execution_count": 82,
   "metadata": {},
   "outputs": [
    {
     "data": {
      "text/plain": [
       "<Figure size 576x360 with 0 Axes>"
      ]
     },
     "metadata": {},
     "output_type": "display_data"
    },
    {
     "data": {
      "image/png": "[encoded data removed]",
      "text/plain": [
       "<Figure size 432x288 with 1 Axes>"
      ]
     },
     "metadata": {
      "needs_background": "light"
     },
     "output_type": "display_data"
    }
   ],
   "source": [
    "#Plotting a Q-Q plot of the normalized residuals\n",
    "plt.figure(figsize=(8,5))\n",
    "fig=qqplot(fitted.resid_pearson,line='45',fit='True')\n",
    "plt.xticks(fontsize=13)\n",
    "plt.yticks(fontsize=13)\n",
    "plt.xlabel(\"Theoretical quantiles\",fontsize=15)\n",
    "plt.ylabel(\"Sample quantiles\",fontsize=15)\n",
    "plt.title(\"Q-Q plot of normalized residuals\",fontsize=18)\n",
    "plt.grid(True)\n",
    "plt.show()"
   ]
  },
  {
   "cell_type": "markdown",
   "metadata": {},
   "source": [
    "#### Check for outliers in residuals <a name=\"outliers\"></a>\n",
    "Plotting Cook’s distance"
   ]
  },
  {
   "cell_type": "code",
   "execution_count": 83,
   "metadata": {},
   "outputs": [],
   "source": [
    "#Importing OLSInfluence from stats models outliers_influence\n",
    "from statsmodels.stats.outliers_influence import OLSInfluence as influence"
   ]
  },
  {
   "cell_type": "code",
   "execution_count": 84,
   "metadata": {},
   "outputs": [],
   "source": [
    "#Applying influence on our OLS model:fitted\n",
    "inf=influence(fitted)"
   ]
  },
  {
   "cell_type": "code",
   "execution_count": 85,
   "metadata": {},
   "outputs": [
    {
     "name": "stderr",
     "output_type": "stream",
     "text": [
      "C:\\Users\\stanj\\Atom\\Anacondas\\lib\\site-packages\\statsmodels\\stats\\outliers_influence.py:693: RuntimeWarning: invalid value encountered in sqrt\n",
      "  return self.resid / sigma / np.sqrt(1 - hii)\n"
     ]
    },
    {
     "data": {
      "image/png": "[encoded data removed]",
      "text/plain": [
       "<Figure size 576x360 with 1 Axes>"
      ]
     },
     "metadata": {
      "needs_background": "light"
     },
     "output_type": "display_data"
    }
   ],
   "source": [
    "#Plotting cooks distance plot for the residuals\n",
    "(c, p) = inf.cooks_distance\n",
    "plt.figure(figsize=(8,5))\n",
    "plt.title(\"Cook's distance plot for the residuals\",fontsize=16)\n",
    "plt.stem(np.arange(len(c)), c, markerfmt=\",\", use_line_collection=True)\n",
    "plt.grid(True)\n",
    "plt.show()"
   ]
  },
  {
   "cell_type": "markdown",
   "metadata": {},
   "source": [
    "### Variable Selection by Correlation and Significance"
   ]
  },
  {
   "cell_type": "code",
   "execution_count": 86,
   "metadata": {},
   "outputs": [
    {
     "data": {
      "text/html": [
       "<div>\n",
       "<style scoped>\n",
       "    .dataframe tbody tr th:only-of-type {\n",
       "        vertical-align: middle;\n",
       "    }\n",
       "\n",
       "    .dataframe tbody tr th {\n",
       "        vertical-align: top;\n",
       "    }\n",
       "\n",
       "    .dataframe thead th {\n",
       "        text-align: right;\n",
       "    }\n",
       "</style>\n",
       "<table border=\"1\" class=\"dataframe\">\n",
       "  <thead>\n",
       "    <tr style=\"text-align: right;\">\n",
       "      <th></th>\n",
       "      <th>Weight_Kg</th>\n",
       "      <th>Low_Price</th>\n",
       "      <th>High_Price</th>\n",
       "      <th>Sales_Total</th>\n",
       "      <th>Total_Qty_Sold</th>\n",
       "      <th>Total_Kg_Sold</th>\n",
       "      <th>Stock_On_Hand</th>\n",
       "      <th>avg_price_per_kg</th>\n",
       "      <th>Province_CAPE</th>\n",
       "      <th>Province_EASTERN_CAPE</th>\n",
       "      <th>...</th>\n",
       "      <th>Date_2020-01</th>\n",
       "      <th>Date_2020-02</th>\n",
       "      <th>Date_2020-03</th>\n",
       "      <th>Date_2020-04</th>\n",
       "      <th>Date_2020-05</th>\n",
       "      <th>Date_2020-06</th>\n",
       "      <th>Date_2020-07</th>\n",
       "      <th>Date_2020-08</th>\n",
       "      <th>Date_2020-09</th>\n",
       "      <th>Date_2020-10</th>\n",
       "    </tr>\n",
       "  </thead>\n",
       "  <tbody>\n",
       "    <tr>\n",
       "      <th>1</th>\n",
       "      <td>18.3</td>\n",
       "      <td>150.0</td>\n",
       "      <td>170.0</td>\n",
       "      <td>51710.0</td>\n",
       "      <td>332</td>\n",
       "      <td>6075.6</td>\n",
       "      <td>822</td>\n",
       "      <td>8.51</td>\n",
       "      <td>1</td>\n",
       "      <td>0</td>\n",
       "      <td>...</td>\n",
       "      <td>0</td>\n",
       "      <td>0</td>\n",
       "      <td>0</td>\n",
       "      <td>0</td>\n",
       "      <td>0</td>\n",
       "      <td>0</td>\n",
       "      <td>0</td>\n",
       "      <td>0</td>\n",
       "      <td>1</td>\n",
       "      <td>0</td>\n",
       "    </tr>\n",
       "    <tr>\n",
       "      <th>7</th>\n",
       "      <td>11.0</td>\n",
       "      <td>50.0</td>\n",
       "      <td>50.0</td>\n",
       "      <td>16000.0</td>\n",
       "      <td>320</td>\n",
       "      <td>3520.0</td>\n",
       "      <td>0</td>\n",
       "      <td>4.55</td>\n",
       "      <td>1</td>\n",
       "      <td>0</td>\n",
       "      <td>...</td>\n",
       "      <td>0</td>\n",
       "      <td>0</td>\n",
       "      <td>0</td>\n",
       "      <td>1</td>\n",
       "      <td>0</td>\n",
       "      <td>0</td>\n",
       "      <td>0</td>\n",
       "      <td>0</td>\n",
       "      <td>0</td>\n",
       "      <td>0</td>\n",
       "    </tr>\n",
       "    <tr>\n",
       "      <th>24</th>\n",
       "      <td>9.0</td>\n",
       "      <td>55.0</td>\n",
       "      <td>55.0</td>\n",
       "      <td>990.0</td>\n",
       "      <td>18</td>\n",
       "      <td>162.0</td>\n",
       "      <td>1506</td>\n",
       "      <td>6.11</td>\n",
       "      <td>0</td>\n",
       "      <td>0</td>\n",
       "      <td>...</td>\n",
       "      <td>0</td>\n",
       "      <td>0</td>\n",
       "      <td>0</td>\n",
       "      <td>1</td>\n",
       "      <td>0</td>\n",
       "      <td>0</td>\n",
       "      <td>0</td>\n",
       "      <td>0</td>\n",
       "      <td>0</td>\n",
       "      <td>0</td>\n",
       "    </tr>\n",
       "    <tr>\n",
       "      <th>40</th>\n",
       "      <td>18.3</td>\n",
       "      <td>80.0</td>\n",
       "      <td>120.0</td>\n",
       "      <td>32020.0</td>\n",
       "      <td>388</td>\n",
       "      <td>7100.4</td>\n",
       "      <td>443</td>\n",
       "      <td>4.51</td>\n",
       "      <td>1</td>\n",
       "      <td>0</td>\n",
       "      <td>...</td>\n",
       "      <td>0</td>\n",
       "      <td>0</td>\n",
       "      <td>0</td>\n",
       "      <td>0</td>\n",
       "      <td>1</td>\n",
       "      <td>0</td>\n",
       "      <td>0</td>\n",
       "      <td>0</td>\n",
       "      <td>0</td>\n",
       "      <td>0</td>\n",
       "    </tr>\n",
       "    <tr>\n",
       "      <th>69</th>\n",
       "      <td>400.0</td>\n",
       "      <td>1800.0</td>\n",
       "      <td>1800.0</td>\n",
       "      <td>1800.0</td>\n",
       "      <td>1</td>\n",
       "      <td>400.0</td>\n",
       "      <td>2</td>\n",
       "      <td>4.50</td>\n",
       "      <td>0</td>\n",
       "      <td>1</td>\n",
       "      <td>...</td>\n",
       "      <td>0</td>\n",
       "      <td>0</td>\n",
       "      <td>0</td>\n",
       "      <td>0</td>\n",
       "      <td>0</td>\n",
       "      <td>0</td>\n",
       "      <td>0</td>\n",
       "      <td>0</td>\n",
       "      <td>1</td>\n",
       "      <td>0</td>\n",
       "    </tr>\n",
       "  </tbody>\n",
       "</table>\n",
       "<p>5 rows × 48 columns</p>\n",
       "</div>"
      ],
      "text/plain": [
       "    Weight_Kg  Low_Price  High_Price  Sales_Total  Total_Qty_Sold  \\\n",
       "1        18.3      150.0       170.0      51710.0             332   \n",
       "7        11.0       50.0        50.0      16000.0             320   \n",
       "24        9.0       55.0        55.0        990.0              18   \n",
       "40       18.3       80.0       120.0      32020.0             388   \n",
       "69      400.0     1800.0      1800.0       1800.0               1   \n",
       "\n",
       "    Total_Kg_Sold  Stock_On_Hand  avg_price_per_kg  Province_CAPE  \\\n",
       "1          6075.6            822              8.51              1   \n",
       "7          3520.0              0              4.55              1   \n",
       "24          162.0           1506              6.11              0   \n",
       "40         7100.4            443              4.51              1   \n",
       "69          400.0              2              4.50              0   \n",
       "\n",
       "    Province_EASTERN_CAPE  ...  Date_2020-01  Date_2020-02  Date_2020-03  \\\n",
       "1                       0  ...             0             0             0   \n",
       "7                       0  ...             0             0             0   \n",
       "24                      0  ...             0             0             0   \n",
       "40                      0  ...             0             0             0   \n",
       "69                      1  ...             0             0             0   \n",
       "\n",
       "    Date_2020-04  Date_2020-05  Date_2020-06  Date_2020-07  Date_2020-08  \\\n",
       "1              0             0             0             0             0   \n",
       "7              1             0             0             0             0   \n",
       "24             1             0             0             0             0   \n",
       "40             0             1             0             0             0   \n",
       "69             0             0             0             0             0   \n",
       "\n",
       "    Date_2020-09  Date_2020-10  \n",
       "1              1             0  \n",
       "7              0             0  \n",
       "24             0             0  \n",
       "40             0             0  \n",
       "69             1             0  \n",
       "\n",
       "[5 rows x 48 columns]"
      ]
     },
     "execution_count": 86,
     "metadata": {},
     "output_type": "execute_result"
    }
   ],
   "source": [
    "train_set_dummies=train_set.copy()\n",
    "for i in train_set_dummies.index:\n",
    "    train_set_dummies.loc[i,\"Date\"]=train_set_dummies.loc[i,\"Date\"][:7]\n",
    "train_set_dummies = pd.get_dummies(train_set_dummies)\n",
    "\n",
    "# Again we make sure that all the column names have underscores instead of whitespaces\n",
    "train_set_dummies.columns = [col.replace(\" \",\"_\") for col in train_set_dummies]\n",
    "\n",
    "train_set_dummies.head()"
   ]
  },
  {
   "cell_type": "code",
   "execution_count": 87,
   "metadata": {},
   "outputs": [
    {
     "data": {
      "text/plain": [
       "(1952, 48)"
      ]
     },
     "execution_count": 87,
     "metadata": {},
     "output_type": "execute_result"
    }
   ],
   "source": [
    "train_set_dummies.shape"
   ]
  },
  {
   "cell_type": "code",
   "execution_count": 88,
   "metadata": {},
   "outputs": [],
   "source": [
    "column_titles = [col for col in train_set_dummies.columns if col!= 'avg_price_per_kg'] + ['avg_price_per_kg']\n",
    "train_set_dummies=train_set_dummies.reindex(columns=column_titles)\n"
   ]
  },
  {
   "cell_type": "code",
   "execution_count": 89,
   "metadata": {},
   "outputs": [],
   "source": [
    "# Calculate correlations between predictor variables and the response variable\n",
    "corrs = train_set_dummies.corr()['avg_price_per_kg'].sort_values(ascending=False)"
   ]
  },
  {
   "cell_type": "code",
   "execution_count": 90,
   "metadata": {},
   "outputs": [
    {
     "name": "stdout",
     "output_type": "stream",
     "text": [
      "Formula:\n",
      "\t avg_price_per_kg ~ Weight_Kg + Low_Price + High_Price + Sales_Total + Total_Qty_Sold + Total_Kg_Sold + Stock_On_Hand + Province_CAPE + Province_EASTERN_CAPE + Province_NATAL + Province_ORANGE_FREE_STATE + Province_TRANSVAAL + Province_W.CAPE-BERGRIVER_ETC + Province_WEST_COAST + Container_AC030 + Container_DT063 + Container_EC120 + Container_EF120 + Container_EG140 + Container_IA400 + Container_JE090 + Container_JG110 + Container_M4183 + Container_M6125 + Container_M9125 + Size_Grade_1L + Size_Grade_1M + Size_Grade_1S + Size_Grade_1U + Size_Grade_1X + Size_Grade_2L + Size_Grade_2M + Size_Grade_2S + Size_Grade_2U + Size_Grade_2X + Commodities_APPLE_GOLDEN_DELICIOUS + Date_2019-12 + Date_2020-01 + Date_2020-02 + Date_2020-03 + Date_2020-04 + Date_2020-05 + Date_2020-06 + Date_2020-07 + Date_2020-08 + Date_2020-09 + Date_2020-10\n"
     ]
    }
   ],
   "source": [
    "from statsmodels.formula.api import ols\n",
    "\n",
    "# Model DataFrame with all of the columns:\n",
    "dfm = train_set_dummies.copy()\n",
    "\n",
    "# The dependent variable:\n",
    "y_name = 'avg_price_per_kg'\n",
    "# The independent variable\n",
    "# (let's first try all of the columns in the model DataFrame)\n",
    "X_names = [col for col in dfm.columns if col != y_name]\n",
    "\n",
    "# Build the OLS formula string \" y ~ X \"\n",
    "formula_str = y_name+\" ~ \"+\" + \".join(X_names);\n",
    "print('Formula:\\n\\t {}'.format(formula_str))"
   ]
  },
  {
   "cell_type": "code",
   "execution_count": 91,
   "metadata": {},
   "outputs": [
    {
     "ename": "PatsyError",
     "evalue": "numbers besides '0' and '1' are only allowed with **\n    avg_price_per_kg ~ Weight_Kg + Low_Price + High_Price + Sales_Total + Total_Qty_Sold + Total_Kg_Sold + Stock_On_Hand + Province_CAPE + Province_EASTERN_CAPE + Province_NATAL + Province_ORANGE_FREE_STATE + Province_TRANSVAAL + Province_W.CAPE-BERGRIVER_ETC + Province_WEST_COAST + Container_AC030 + Container_DT063 + Container_EC120 + Container_EF120 + Container_EG140 + Container_IA400 + Container_JE090 + Container_JG110 + Container_M4183 + Container_M6125 + Container_M9125 + Size_Grade_1L + Size_Grade_1M + Size_Grade_1S + Size_Grade_1U + Size_Grade_1X + Size_Grade_2L + Size_Grade_2M + Size_Grade_2S + Size_Grade_2U + Size_Grade_2X + Commodities_APPLE_GOLDEN_DELICIOUS + Date_2019-12 + Date_2020-01 + Date_2020-02 + Date_2020-03 + Date_2020-04 + Date_2020-05 + Date_2020-06 + Date_2020-07 + Date_2020-08 + Date_2020-09 + Date_2020-10\n                                                                                                                                                                                                                                                                                                                                                                                                                                                                                                                                                                                                                                                                                                                 ^^",
     "output_type": "error",
     "traceback": [
      "\u001b[1;31m---------------------------------------------------------------------------\u001b[0m",
      "\u001b[1;31mPatsyError\u001b[0m                                Traceback (most recent call last)",
      "\u001b[1;32m<ipython-input-91-b736be3d9c2a>\u001b[0m in \u001b[0;36m<module>\u001b[1;34m\u001b[0m\n\u001b[0;32m      1\u001b[0m \u001b[1;31m# Fit the model using the model dataframe\u001b[0m\u001b[1;33m\u001b[0m\u001b[1;33m\u001b[0m\u001b[1;33m\u001b[0m\u001b[0m\n\u001b[1;32m----> 2\u001b[1;33m \u001b[0mmodel\u001b[0m\u001b[1;33m=\u001b[0m\u001b[0mols\u001b[0m\u001b[1;33m(\u001b[0m\u001b[0mformula\u001b[0m\u001b[1;33m=\u001b[0m\u001b[0mformula_str\u001b[0m\u001b[1;33m,\u001b[0m \u001b[0mdata\u001b[0m\u001b[1;33m=\u001b[0m\u001b[0mdfm\u001b[0m\u001b[1;33m)\u001b[0m\u001b[1;33m\u001b[0m\u001b[1;33m\u001b[0m\u001b[0m\n\u001b[0m\u001b[0;32m      3\u001b[0m \u001b[0mfitted\u001b[0m \u001b[1;33m=\u001b[0m \u001b[0mmodel\u001b[0m\u001b[1;33m.\u001b[0m\u001b[0mfit\u001b[0m\u001b[1;33m(\u001b[0m\u001b[1;33m)\u001b[0m\u001b[1;33m\u001b[0m\u001b[1;33m\u001b[0m\u001b[0m\n\u001b[0;32m      4\u001b[0m \u001b[1;33m\u001b[0m\u001b[0m\n\u001b[0;32m      5\u001b[0m \u001b[1;31m# Output the fitted summary\u001b[0m\u001b[1;33m\u001b[0m\u001b[1;33m\u001b[0m\u001b[1;33m\u001b[0m\u001b[0m\n",
      "\u001b[1;32m~\\Atom\\Anacondas\\lib\\site-packages\\statsmodels\\base\\model.py\u001b[0m in \u001b[0;36mfrom_formula\u001b[1;34m(cls, formula, data, subset, drop_cols, *args, **kwargs)\u001b[0m\n\u001b[0;32m    167\u001b[0m             \u001b[0mmissing\u001b[0m \u001b[1;33m=\u001b[0m \u001b[1;34m'raise'\u001b[0m\u001b[1;33m\u001b[0m\u001b[1;33m\u001b[0m\u001b[0m\n\u001b[0;32m    168\u001b[0m \u001b[1;33m\u001b[0m\u001b[0m\n\u001b[1;32m--> 169\u001b[1;33m         tmp = handle_formula_data(data, None, formula, depth=eval_env,\n\u001b[0m\u001b[0;32m    170\u001b[0m                                   missing=missing)\n\u001b[0;32m    171\u001b[0m         \u001b[1;33m(\u001b[0m\u001b[1;33m(\u001b[0m\u001b[0mendog\u001b[0m\u001b[1;33m,\u001b[0m \u001b[0mexog\u001b[0m\u001b[1;33m)\u001b[0m\u001b[1;33m,\u001b[0m \u001b[0mmissing_idx\u001b[0m\u001b[1;33m,\u001b[0m \u001b[0mdesign_info\u001b[0m\u001b[1;33m)\u001b[0m \u001b[1;33m=\u001b[0m \u001b[0mtmp\u001b[0m\u001b[1;33m\u001b[0m\u001b[1;33m\u001b[0m\u001b[0m\n",
      "\u001b[1;32m~\\Atom\\Anacondas\\lib\\site-packages\\statsmodels\\formula\\formulatools.py\u001b[0m in \u001b[0;36mhandle_formula_data\u001b[1;34m(Y, X, formula, depth, missing)\u001b[0m\n\u001b[0;32m     61\u001b[0m     \u001b[1;32melse\u001b[0m\u001b[1;33m:\u001b[0m\u001b[1;33m\u001b[0m\u001b[1;33m\u001b[0m\u001b[0m\n\u001b[0;32m     62\u001b[0m         \u001b[1;32mif\u001b[0m \u001b[0mdata_util\u001b[0m\u001b[1;33m.\u001b[0m\u001b[0m_is_using_pandas\u001b[0m\u001b[1;33m(\u001b[0m\u001b[0mY\u001b[0m\u001b[1;33m,\u001b[0m \u001b[1;32mNone\u001b[0m\u001b[1;33m)\u001b[0m\u001b[1;33m:\u001b[0m\u001b[1;33m\u001b[0m\u001b[1;33m\u001b[0m\u001b[0m\n\u001b[1;32m---> 63\u001b[1;33m             result = dmatrices(formula, Y, depth, return_type='dataframe',\n\u001b[0m\u001b[0;32m     64\u001b[0m                                NA_action=na_action)\n\u001b[0;32m     65\u001b[0m         \u001b[1;32melse\u001b[0m\u001b[1;33m:\u001b[0m\u001b[1;33m\u001b[0m\u001b[1;33m\u001b[0m\u001b[0m\n",
      "\u001b[1;32m~\\Atom\\Anacondas\\lib\\site-packages\\patsy\\highlevel.py\u001b[0m in \u001b[0;36mdmatrices\u001b[1;34m(formula_like, data, eval_env, NA_action, return_type)\u001b[0m\n\u001b[0;32m    307\u001b[0m     \"\"\"\n\u001b[0;32m    308\u001b[0m     \u001b[0meval_env\u001b[0m \u001b[1;33m=\u001b[0m \u001b[0mEvalEnvironment\u001b[0m\u001b[1;33m.\u001b[0m\u001b[0mcapture\u001b[0m\u001b[1;33m(\u001b[0m\u001b[0meval_env\u001b[0m\u001b[1;33m,\u001b[0m \u001b[0mreference\u001b[0m\u001b[1;33m=\u001b[0m\u001b[1;36m1\u001b[0m\u001b[1;33m)\u001b[0m\u001b[1;33m\u001b[0m\u001b[1;33m\u001b[0m\u001b[0m\n\u001b[1;32m--> 309\u001b[1;33m     (lhs, rhs) = _do_highlevel_design(formula_like, data, eval_env,\n\u001b[0m\u001b[0;32m    310\u001b[0m                                       NA_action, return_type)\n\u001b[0;32m    311\u001b[0m     \u001b[1;32mif\u001b[0m \u001b[0mlhs\u001b[0m\u001b[1;33m.\u001b[0m\u001b[0mshape\u001b[0m\u001b[1;33m[\u001b[0m\u001b[1;36m1\u001b[0m\u001b[1;33m]\u001b[0m \u001b[1;33m==\u001b[0m \u001b[1;36m0\u001b[0m\u001b[1;33m:\u001b[0m\u001b[1;33m\u001b[0m\u001b[1;33m\u001b[0m\u001b[0m\n",
      "\u001b[1;32m~\\Atom\\Anacondas\\lib\\site-packages\\patsy\\highlevel.py\u001b[0m in \u001b[0;36m_do_highlevel_design\u001b[1;34m(formula_like, data, eval_env, NA_action, return_type)\u001b[0m\n\u001b[0;32m    162\u001b[0m     \u001b[1;32mdef\u001b[0m \u001b[0mdata_iter_maker\u001b[0m\u001b[1;33m(\u001b[0m\u001b[1;33m)\u001b[0m\u001b[1;33m:\u001b[0m\u001b[1;33m\u001b[0m\u001b[1;33m\u001b[0m\u001b[0m\n\u001b[0;32m    163\u001b[0m         \u001b[1;32mreturn\u001b[0m \u001b[0miter\u001b[0m\u001b[1;33m(\u001b[0m\u001b[1;33m[\u001b[0m\u001b[0mdata\u001b[0m\u001b[1;33m]\u001b[0m\u001b[1;33m)\u001b[0m\u001b[1;33m\u001b[0m\u001b[1;33m\u001b[0m\u001b[0m\n\u001b[1;32m--> 164\u001b[1;33m     design_infos = _try_incr_builders(formula_like, data_iter_maker, eval_env,\n\u001b[0m\u001b[0;32m    165\u001b[0m                                       NA_action)\n\u001b[0;32m    166\u001b[0m     \u001b[1;32mif\u001b[0m \u001b[0mdesign_infos\u001b[0m \u001b[1;32mis\u001b[0m \u001b[1;32mnot\u001b[0m \u001b[1;32mNone\u001b[0m\u001b[1;33m:\u001b[0m\u001b[1;33m\u001b[0m\u001b[1;33m\u001b[0m\u001b[0m\n",
      "\u001b[1;32m~\\Atom\\Anacondas\\lib\\site-packages\\patsy\\highlevel.py\u001b[0m in \u001b[0;36m_try_incr_builders\u001b[1;34m(formula_like, data_iter_maker, eval_env, NA_action)\u001b[0m\n\u001b[0;32m     60\u001b[0m                 \"ascii-only, or else upgrade to Python 3.\")\n\u001b[0;32m     61\u001b[0m     \u001b[1;32mif\u001b[0m \u001b[0misinstance\u001b[0m\u001b[1;33m(\u001b[0m\u001b[0mformula_like\u001b[0m\u001b[1;33m,\u001b[0m \u001b[0mstr\u001b[0m\u001b[1;33m)\u001b[0m\u001b[1;33m:\u001b[0m\u001b[1;33m\u001b[0m\u001b[1;33m\u001b[0m\u001b[0m\n\u001b[1;32m---> 62\u001b[1;33m         \u001b[0mformula_like\u001b[0m \u001b[1;33m=\u001b[0m \u001b[0mModelDesc\u001b[0m\u001b[1;33m.\u001b[0m\u001b[0mfrom_formula\u001b[0m\u001b[1;33m(\u001b[0m\u001b[0mformula_like\u001b[0m\u001b[1;33m)\u001b[0m\u001b[1;33m\u001b[0m\u001b[1;33m\u001b[0m\u001b[0m\n\u001b[0m\u001b[0;32m     63\u001b[0m         \u001b[1;31m# fallthrough\u001b[0m\u001b[1;33m\u001b[0m\u001b[1;33m\u001b[0m\u001b[1;33m\u001b[0m\u001b[0m\n\u001b[0;32m     64\u001b[0m     \u001b[1;32mif\u001b[0m \u001b[0misinstance\u001b[0m\u001b[1;33m(\u001b[0m\u001b[0mformula_like\u001b[0m\u001b[1;33m,\u001b[0m \u001b[0mModelDesc\u001b[0m\u001b[1;33m)\u001b[0m\u001b[1;33m:\u001b[0m\u001b[1;33m\u001b[0m\u001b[1;33m\u001b[0m\u001b[0m\n",
      "\u001b[1;32m~\\Atom\\Anacondas\\lib\\site-packages\\patsy\\desc.py\u001b[0m in \u001b[0;36mfrom_formula\u001b[1;34m(cls, tree_or_string)\u001b[0m\n\u001b[0;32m    163\u001b[0m         \u001b[1;32melse\u001b[0m\u001b[1;33m:\u001b[0m\u001b[1;33m\u001b[0m\u001b[1;33m\u001b[0m\u001b[0m\n\u001b[0;32m    164\u001b[0m             \u001b[0mtree\u001b[0m \u001b[1;33m=\u001b[0m \u001b[0mparse_formula\u001b[0m\u001b[1;33m(\u001b[0m\u001b[0mtree_or_string\u001b[0m\u001b[1;33m)\u001b[0m\u001b[1;33m\u001b[0m\u001b[1;33m\u001b[0m\u001b[0m\n\u001b[1;32m--> 165\u001b[1;33m         \u001b[0mvalue\u001b[0m \u001b[1;33m=\u001b[0m \u001b[0mEvaluator\u001b[0m\u001b[1;33m(\u001b[0m\u001b[1;33m)\u001b[0m\u001b[1;33m.\u001b[0m\u001b[0meval\u001b[0m\u001b[1;33m(\u001b[0m\u001b[0mtree\u001b[0m\u001b[1;33m,\u001b[0m \u001b[0mrequire_evalexpr\u001b[0m\u001b[1;33m=\u001b[0m\u001b[1;32mFalse\u001b[0m\u001b[1;33m)\u001b[0m\u001b[1;33m\u001b[0m\u001b[1;33m\u001b[0m\u001b[0m\n\u001b[0m\u001b[0;32m    166\u001b[0m         \u001b[1;32massert\u001b[0m \u001b[0misinstance\u001b[0m\u001b[1;33m(\u001b[0m\u001b[0mvalue\u001b[0m\u001b[1;33m,\u001b[0m \u001b[0mcls\u001b[0m\u001b[1;33m)\u001b[0m\u001b[1;33m\u001b[0m\u001b[1;33m\u001b[0m\u001b[0m\n\u001b[0;32m    167\u001b[0m         \u001b[1;32mreturn\u001b[0m \u001b[0mvalue\u001b[0m\u001b[1;33m\u001b[0m\u001b[1;33m\u001b[0m\u001b[0m\n",
      "\u001b[1;32m~\\Atom\\Anacondas\\lib\\site-packages\\patsy\\desc.py\u001b[0m in \u001b[0;36meval\u001b[1;34m(self, tree, require_evalexpr)\u001b[0m\n\u001b[0;32m    398\u001b[0m                                 \u001b[1;34m\"'%s' operator\"\u001b[0m \u001b[1;33m%\u001b[0m \u001b[1;33m(\u001b[0m\u001b[0mtree\u001b[0m\u001b[1;33m.\u001b[0m\u001b[0mtype\u001b[0m\u001b[1;33m,\u001b[0m\u001b[1;33m)\u001b[0m\u001b[1;33m,\u001b[0m\u001b[1;33m\u001b[0m\u001b[1;33m\u001b[0m\u001b[0m\n\u001b[0;32m    399\u001b[0m                                 tree.token)\n\u001b[1;32m--> 400\u001b[1;33m         \u001b[0mresult\u001b[0m \u001b[1;33m=\u001b[0m \u001b[0mself\u001b[0m\u001b[1;33m.\u001b[0m\u001b[0m_evaluators\u001b[0m\u001b[1;33m[\u001b[0m\u001b[0mkey\u001b[0m\u001b[1;33m]\u001b[0m\u001b[1;33m(\u001b[0m\u001b[0mself\u001b[0m\u001b[1;33m,\u001b[0m \u001b[0mtree\u001b[0m\u001b[1;33m)\u001b[0m\u001b[1;33m\u001b[0m\u001b[1;33m\u001b[0m\u001b[0m\n\u001b[0m\u001b[0;32m    401\u001b[0m         \u001b[1;32mif\u001b[0m \u001b[0mrequire_evalexpr\u001b[0m \u001b[1;32mand\u001b[0m \u001b[1;32mnot\u001b[0m \u001b[0misinstance\u001b[0m\u001b[1;33m(\u001b[0m\u001b[0mresult\u001b[0m\u001b[1;33m,\u001b[0m \u001b[0mIntermediateExpr\u001b[0m\u001b[1;33m)\u001b[0m\u001b[1;33m:\u001b[0m\u001b[1;33m\u001b[0m\u001b[1;33m\u001b[0m\u001b[0m\n\u001b[0;32m    402\u001b[0m             \u001b[1;32mif\u001b[0m \u001b[0misinstance\u001b[0m\u001b[1;33m(\u001b[0m\u001b[0mresult\u001b[0m\u001b[1;33m,\u001b[0m \u001b[0mModelDesc\u001b[0m\u001b[1;33m)\u001b[0m\u001b[1;33m:\u001b[0m\u001b[1;33m\u001b[0m\u001b[1;33m\u001b[0m\u001b[0m\n",
      "\u001b[1;32m~\\Atom\\Anacondas\\lib\\site-packages\\patsy\\desc.py\u001b[0m in \u001b[0;36m_eval_any_tilde\u001b[1;34m(evaluator, tree)\u001b[0m\n\u001b[0;32m    219\u001b[0m \u001b[1;33m\u001b[0m\u001b[0m\n\u001b[0;32m    220\u001b[0m \u001b[1;32mdef\u001b[0m \u001b[0m_eval_any_tilde\u001b[0m\u001b[1;33m(\u001b[0m\u001b[0mevaluator\u001b[0m\u001b[1;33m,\u001b[0m \u001b[0mtree\u001b[0m\u001b[1;33m)\u001b[0m\u001b[1;33m:\u001b[0m\u001b[1;33m\u001b[0m\u001b[1;33m\u001b[0m\u001b[0m\n\u001b[1;32m--> 221\u001b[1;33m     \u001b[0mexprs\u001b[0m \u001b[1;33m=\u001b[0m \u001b[1;33m[\u001b[0m\u001b[0mevaluator\u001b[0m\u001b[1;33m.\u001b[0m\u001b[0meval\u001b[0m\u001b[1;33m(\u001b[0m\u001b[0marg\u001b[0m\u001b[1;33m)\u001b[0m \u001b[1;32mfor\u001b[0m \u001b[0marg\u001b[0m \u001b[1;32min\u001b[0m \u001b[0mtree\u001b[0m\u001b[1;33m.\u001b[0m\u001b[0margs\u001b[0m\u001b[1;33m]\u001b[0m\u001b[1;33m\u001b[0m\u001b[1;33m\u001b[0m\u001b[0m\n\u001b[0m\u001b[0;32m    222\u001b[0m     \u001b[1;32mif\u001b[0m \u001b[0mlen\u001b[0m\u001b[1;33m(\u001b[0m\u001b[0mexprs\u001b[0m\u001b[1;33m)\u001b[0m \u001b[1;33m==\u001b[0m \u001b[1;36m1\u001b[0m\u001b[1;33m:\u001b[0m\u001b[1;33m\u001b[0m\u001b[1;33m\u001b[0m\u001b[0m\n\u001b[0;32m    223\u001b[0m         \u001b[1;31m# Formula was like: \"~ foo\"\u001b[0m\u001b[1;33m\u001b[0m\u001b[1;33m\u001b[0m\u001b[1;33m\u001b[0m\u001b[0m\n",
      "\u001b[1;32m~\\Atom\\Anacondas\\lib\\site-packages\\patsy\\desc.py\u001b[0m in \u001b[0;36m<listcomp>\u001b[1;34m(.0)\u001b[0m\n\u001b[0;32m    219\u001b[0m \u001b[1;33m\u001b[0m\u001b[0m\n\u001b[0;32m    220\u001b[0m \u001b[1;32mdef\u001b[0m \u001b[0m_eval_any_tilde\u001b[0m\u001b[1;33m(\u001b[0m\u001b[0mevaluator\u001b[0m\u001b[1;33m,\u001b[0m \u001b[0mtree\u001b[0m\u001b[1;33m)\u001b[0m\u001b[1;33m:\u001b[0m\u001b[1;33m\u001b[0m\u001b[1;33m\u001b[0m\u001b[0m\n\u001b[1;32m--> 221\u001b[1;33m     \u001b[0mexprs\u001b[0m \u001b[1;33m=\u001b[0m \u001b[1;33m[\u001b[0m\u001b[0mevaluator\u001b[0m\u001b[1;33m.\u001b[0m\u001b[0meval\u001b[0m\u001b[1;33m(\u001b[0m\u001b[0marg\u001b[0m\u001b[1;33m)\u001b[0m \u001b[1;32mfor\u001b[0m \u001b[0marg\u001b[0m \u001b[1;32min\u001b[0m \u001b[0mtree\u001b[0m\u001b[1;33m.\u001b[0m\u001b[0margs\u001b[0m\u001b[1;33m]\u001b[0m\u001b[1;33m\u001b[0m\u001b[1;33m\u001b[0m\u001b[0m\n\u001b[0m\u001b[0;32m    222\u001b[0m     \u001b[1;32mif\u001b[0m \u001b[0mlen\u001b[0m\u001b[1;33m(\u001b[0m\u001b[0mexprs\u001b[0m\u001b[1;33m)\u001b[0m \u001b[1;33m==\u001b[0m \u001b[1;36m1\u001b[0m\u001b[1;33m:\u001b[0m\u001b[1;33m\u001b[0m\u001b[1;33m\u001b[0m\u001b[0m\n\u001b[0;32m    223\u001b[0m         \u001b[1;31m# Formula was like: \"~ foo\"\u001b[0m\u001b[1;33m\u001b[0m\u001b[1;33m\u001b[0m\u001b[1;33m\u001b[0m\u001b[0m\n",
      "\u001b[1;32m~\\Atom\\Anacondas\\lib\\site-packages\\patsy\\desc.py\u001b[0m in \u001b[0;36meval\u001b[1;34m(self, tree, require_evalexpr)\u001b[0m\n\u001b[0;32m    398\u001b[0m                                 \u001b[1;34m\"'%s' operator\"\u001b[0m \u001b[1;33m%\u001b[0m \u001b[1;33m(\u001b[0m\u001b[0mtree\u001b[0m\u001b[1;33m.\u001b[0m\u001b[0mtype\u001b[0m\u001b[1;33m,\u001b[0m\u001b[1;33m)\u001b[0m\u001b[1;33m,\u001b[0m\u001b[1;33m\u001b[0m\u001b[1;33m\u001b[0m\u001b[0m\n\u001b[0;32m    399\u001b[0m                                 tree.token)\n\u001b[1;32m--> 400\u001b[1;33m         \u001b[0mresult\u001b[0m \u001b[1;33m=\u001b[0m \u001b[0mself\u001b[0m\u001b[1;33m.\u001b[0m\u001b[0m_evaluators\u001b[0m\u001b[1;33m[\u001b[0m\u001b[0mkey\u001b[0m\u001b[1;33m]\u001b[0m\u001b[1;33m(\u001b[0m\u001b[0mself\u001b[0m\u001b[1;33m,\u001b[0m \u001b[0mtree\u001b[0m\u001b[1;33m)\u001b[0m\u001b[1;33m\u001b[0m\u001b[1;33m\u001b[0m\u001b[0m\n\u001b[0m\u001b[0;32m    401\u001b[0m         \u001b[1;32mif\u001b[0m \u001b[0mrequire_evalexpr\u001b[0m \u001b[1;32mand\u001b[0m \u001b[1;32mnot\u001b[0m \u001b[0misinstance\u001b[0m\u001b[1;33m(\u001b[0m\u001b[0mresult\u001b[0m\u001b[1;33m,\u001b[0m \u001b[0mIntermediateExpr\u001b[0m\u001b[1;33m)\u001b[0m\u001b[1;33m:\u001b[0m\u001b[1;33m\u001b[0m\u001b[1;33m\u001b[0m\u001b[0m\n\u001b[0;32m    402\u001b[0m             \u001b[1;32mif\u001b[0m \u001b[0misinstance\u001b[0m\u001b[1;33m(\u001b[0m\u001b[0mresult\u001b[0m\u001b[1;33m,\u001b[0m \u001b[0mModelDesc\u001b[0m\u001b[1;33m)\u001b[0m\u001b[1;33m:\u001b[0m\u001b[1;33m\u001b[0m\u001b[1;33m\u001b[0m\u001b[0m\n",
      "\u001b[1;32m~\\Atom\\Anacondas\\lib\\site-packages\\patsy\\desc.py\u001b[0m in \u001b[0;36m_eval_binary_minus\u001b[1;34m(evaluator, tree)\u001b[0m\n\u001b[0;32m    247\u001b[0m \u001b[1;33m\u001b[0m\u001b[0m\n\u001b[0;32m    248\u001b[0m \u001b[1;32mdef\u001b[0m \u001b[0m_eval_binary_minus\u001b[0m\u001b[1;33m(\u001b[0m\u001b[0mevaluator\u001b[0m\u001b[1;33m,\u001b[0m \u001b[0mtree\u001b[0m\u001b[1;33m)\u001b[0m\u001b[1;33m:\u001b[0m\u001b[1;33m\u001b[0m\u001b[1;33m\u001b[0m\u001b[0m\n\u001b[1;32m--> 249\u001b[1;33m     \u001b[0mleft_expr\u001b[0m \u001b[1;33m=\u001b[0m \u001b[0mevaluator\u001b[0m\u001b[1;33m.\u001b[0m\u001b[0meval\u001b[0m\u001b[1;33m(\u001b[0m\u001b[0mtree\u001b[0m\u001b[1;33m.\u001b[0m\u001b[0margs\u001b[0m\u001b[1;33m[\u001b[0m\u001b[1;36m0\u001b[0m\u001b[1;33m]\u001b[0m\u001b[1;33m)\u001b[0m\u001b[1;33m\u001b[0m\u001b[1;33m\u001b[0m\u001b[0m\n\u001b[0m\u001b[0;32m    250\u001b[0m     \u001b[1;32mif\u001b[0m \u001b[0mtree\u001b[0m\u001b[1;33m.\u001b[0m\u001b[0margs\u001b[0m\u001b[1;33m[\u001b[0m\u001b[1;36m1\u001b[0m\u001b[1;33m]\u001b[0m\u001b[1;33m.\u001b[0m\u001b[0mtype\u001b[0m \u001b[1;33m==\u001b[0m \u001b[1;34m\"ZERO\"\u001b[0m\u001b[1;33m:\u001b[0m\u001b[1;33m\u001b[0m\u001b[1;33m\u001b[0m\u001b[0m\n\u001b[0;32m    251\u001b[0m         return IntermediateExpr(True, tree.args[1], False,\n",
      "\u001b[1;32m~\\Atom\\Anacondas\\lib\\site-packages\\patsy\\desc.py\u001b[0m in \u001b[0;36meval\u001b[1;34m(self, tree, require_evalexpr)\u001b[0m\n\u001b[0;32m    398\u001b[0m                                 \u001b[1;34m\"'%s' operator\"\u001b[0m \u001b[1;33m%\u001b[0m \u001b[1;33m(\u001b[0m\u001b[0mtree\u001b[0m\u001b[1;33m.\u001b[0m\u001b[0mtype\u001b[0m\u001b[1;33m,\u001b[0m\u001b[1;33m)\u001b[0m\u001b[1;33m,\u001b[0m\u001b[1;33m\u001b[0m\u001b[1;33m\u001b[0m\u001b[0m\n\u001b[0;32m    399\u001b[0m                                 tree.token)\n\u001b[1;32m--> 400\u001b[1;33m         \u001b[0mresult\u001b[0m \u001b[1;33m=\u001b[0m \u001b[0mself\u001b[0m\u001b[1;33m.\u001b[0m\u001b[0m_evaluators\u001b[0m\u001b[1;33m[\u001b[0m\u001b[0mkey\u001b[0m\u001b[1;33m]\u001b[0m\u001b[1;33m(\u001b[0m\u001b[0mself\u001b[0m\u001b[1;33m,\u001b[0m \u001b[0mtree\u001b[0m\u001b[1;33m)\u001b[0m\u001b[1;33m\u001b[0m\u001b[1;33m\u001b[0m\u001b[0m\n\u001b[0m\u001b[0;32m    401\u001b[0m         \u001b[1;32mif\u001b[0m \u001b[0mrequire_evalexpr\u001b[0m \u001b[1;32mand\u001b[0m \u001b[1;32mnot\u001b[0m \u001b[0misinstance\u001b[0m\u001b[1;33m(\u001b[0m\u001b[0mresult\u001b[0m\u001b[1;33m,\u001b[0m \u001b[0mIntermediateExpr\u001b[0m\u001b[1;33m)\u001b[0m\u001b[1;33m:\u001b[0m\u001b[1;33m\u001b[0m\u001b[1;33m\u001b[0m\u001b[0m\n\u001b[0;32m    402\u001b[0m             \u001b[1;32mif\u001b[0m \u001b[0misinstance\u001b[0m\u001b[1;33m(\u001b[0m\u001b[0mresult\u001b[0m\u001b[1;33m,\u001b[0m \u001b[0mModelDesc\u001b[0m\u001b[1;33m)\u001b[0m\u001b[1;33m:\u001b[0m\u001b[1;33m\u001b[0m\u001b[1;33m\u001b[0m\u001b[0m\n",
      "\u001b[1;32m~\\Atom\\Anacondas\\lib\\site-packages\\patsy\\desc.py\u001b[0m in \u001b[0;36m_eval_binary_plus\u001b[1;34m(evaluator, tree)\u001b[0m\n\u001b[0;32m    231\u001b[0m \u001b[1;33m\u001b[0m\u001b[0m\n\u001b[0;32m    232\u001b[0m \u001b[1;32mdef\u001b[0m \u001b[0m_eval_binary_plus\u001b[0m\u001b[1;33m(\u001b[0m\u001b[0mevaluator\u001b[0m\u001b[1;33m,\u001b[0m \u001b[0mtree\u001b[0m\u001b[1;33m)\u001b[0m\u001b[1;33m:\u001b[0m\u001b[1;33m\u001b[0m\u001b[1;33m\u001b[0m\u001b[0m\n\u001b[1;32m--> 233\u001b[1;33m     \u001b[0mleft_expr\u001b[0m \u001b[1;33m=\u001b[0m \u001b[0mevaluator\u001b[0m\u001b[1;33m.\u001b[0m\u001b[0meval\u001b[0m\u001b[1;33m(\u001b[0m\u001b[0mtree\u001b[0m\u001b[1;33m.\u001b[0m\u001b[0margs\u001b[0m\u001b[1;33m[\u001b[0m\u001b[1;36m0\u001b[0m\u001b[1;33m]\u001b[0m\u001b[1;33m)\u001b[0m\u001b[1;33m\u001b[0m\u001b[1;33m\u001b[0m\u001b[0m\n\u001b[0m\u001b[0;32m    234\u001b[0m     \u001b[1;32mif\u001b[0m \u001b[0mtree\u001b[0m\u001b[1;33m.\u001b[0m\u001b[0margs\u001b[0m\u001b[1;33m[\u001b[0m\u001b[1;36m1\u001b[0m\u001b[1;33m]\u001b[0m\u001b[1;33m.\u001b[0m\u001b[0mtype\u001b[0m \u001b[1;33m==\u001b[0m \u001b[1;34m\"ZERO\"\u001b[0m\u001b[1;33m:\u001b[0m\u001b[1;33m\u001b[0m\u001b[1;33m\u001b[0m\u001b[0m\n\u001b[0;32m    235\u001b[0m         \u001b[1;32mreturn\u001b[0m \u001b[0mIntermediateExpr\u001b[0m\u001b[1;33m(\u001b[0m\u001b[1;32mFalse\u001b[0m\u001b[1;33m,\u001b[0m \u001b[1;32mNone\u001b[0m\u001b[1;33m,\u001b[0m \u001b[1;32mTrue\u001b[0m\u001b[1;33m,\u001b[0m \u001b[0mleft_expr\u001b[0m\u001b[1;33m.\u001b[0m\u001b[0mterms\u001b[0m\u001b[1;33m)\u001b[0m\u001b[1;33m\u001b[0m\u001b[1;33m\u001b[0m\u001b[0m\n",
      "\u001b[1;32m~\\Atom\\Anacondas\\lib\\site-packages\\patsy\\desc.py\u001b[0m in \u001b[0;36meval\u001b[1;34m(self, tree, require_evalexpr)\u001b[0m\n\u001b[0;32m    398\u001b[0m                                 \u001b[1;34m\"'%s' operator\"\u001b[0m \u001b[1;33m%\u001b[0m \u001b[1;33m(\u001b[0m\u001b[0mtree\u001b[0m\u001b[1;33m.\u001b[0m\u001b[0mtype\u001b[0m\u001b[1;33m,\u001b[0m\u001b[1;33m)\u001b[0m\u001b[1;33m,\u001b[0m\u001b[1;33m\u001b[0m\u001b[1;33m\u001b[0m\u001b[0m\n\u001b[0;32m    399\u001b[0m                                 tree.token)\n\u001b[1;32m--> 400\u001b[1;33m         \u001b[0mresult\u001b[0m \u001b[1;33m=\u001b[0m \u001b[0mself\u001b[0m\u001b[1;33m.\u001b[0m\u001b[0m_evaluators\u001b[0m\u001b[1;33m[\u001b[0m\u001b[0mkey\u001b[0m\u001b[1;33m]\u001b[0m\u001b[1;33m(\u001b[0m\u001b[0mself\u001b[0m\u001b[1;33m,\u001b[0m \u001b[0mtree\u001b[0m\u001b[1;33m)\u001b[0m\u001b[1;33m\u001b[0m\u001b[1;33m\u001b[0m\u001b[0m\n\u001b[0m\u001b[0;32m    401\u001b[0m         \u001b[1;32mif\u001b[0m \u001b[0mrequire_evalexpr\u001b[0m \u001b[1;32mand\u001b[0m \u001b[1;32mnot\u001b[0m \u001b[0misinstance\u001b[0m\u001b[1;33m(\u001b[0m\u001b[0mresult\u001b[0m\u001b[1;33m,\u001b[0m \u001b[0mIntermediateExpr\u001b[0m\u001b[1;33m)\u001b[0m\u001b[1;33m:\u001b[0m\u001b[1;33m\u001b[0m\u001b[1;33m\u001b[0m\u001b[0m\n\u001b[0;32m    402\u001b[0m             \u001b[1;32mif\u001b[0m \u001b[0misinstance\u001b[0m\u001b[1;33m(\u001b[0m\u001b[0mresult\u001b[0m\u001b[1;33m,\u001b[0m \u001b[0mModelDesc\u001b[0m\u001b[1;33m)\u001b[0m\u001b[1;33m:\u001b[0m\u001b[1;33m\u001b[0m\u001b[1;33m\u001b[0m\u001b[0m\n",
      "\u001b[1;32m~\\Atom\\Anacondas\\lib\\site-packages\\patsy\\desc.py\u001b[0m in \u001b[0;36m_eval_binary_minus\u001b[1;34m(evaluator, tree)\u001b[0m\n\u001b[0;32m    247\u001b[0m \u001b[1;33m\u001b[0m\u001b[0m\n\u001b[0;32m    248\u001b[0m \u001b[1;32mdef\u001b[0m \u001b[0m_eval_binary_minus\u001b[0m\u001b[1;33m(\u001b[0m\u001b[0mevaluator\u001b[0m\u001b[1;33m,\u001b[0m \u001b[0mtree\u001b[0m\u001b[1;33m)\u001b[0m\u001b[1;33m:\u001b[0m\u001b[1;33m\u001b[0m\u001b[1;33m\u001b[0m\u001b[0m\n\u001b[1;32m--> 249\u001b[1;33m     \u001b[0mleft_expr\u001b[0m \u001b[1;33m=\u001b[0m \u001b[0mevaluator\u001b[0m\u001b[1;33m.\u001b[0m\u001b[0meval\u001b[0m\u001b[1;33m(\u001b[0m\u001b[0mtree\u001b[0m\u001b[1;33m.\u001b[0m\u001b[0margs\u001b[0m\u001b[1;33m[\u001b[0m\u001b[1;36m0\u001b[0m\u001b[1;33m]\u001b[0m\u001b[1;33m)\u001b[0m\u001b[1;33m\u001b[0m\u001b[1;33m\u001b[0m\u001b[0m\n\u001b[0m\u001b[0;32m    250\u001b[0m     \u001b[1;32mif\u001b[0m \u001b[0mtree\u001b[0m\u001b[1;33m.\u001b[0m\u001b[0margs\u001b[0m\u001b[1;33m[\u001b[0m\u001b[1;36m1\u001b[0m\u001b[1;33m]\u001b[0m\u001b[1;33m.\u001b[0m\u001b[0mtype\u001b[0m \u001b[1;33m==\u001b[0m \u001b[1;34m\"ZERO\"\u001b[0m\u001b[1;33m:\u001b[0m\u001b[1;33m\u001b[0m\u001b[1;33m\u001b[0m\u001b[0m\n\u001b[0;32m    251\u001b[0m         return IntermediateExpr(True, tree.args[1], False,\n",
      "\u001b[1;32m~\\Atom\\Anacondas\\lib\\site-packages\\patsy\\desc.py\u001b[0m in \u001b[0;36meval\u001b[1;34m(self, tree, require_evalexpr)\u001b[0m\n\u001b[0;32m    398\u001b[0m                                 \u001b[1;34m\"'%s' operator\"\u001b[0m \u001b[1;33m%\u001b[0m \u001b[1;33m(\u001b[0m\u001b[0mtree\u001b[0m\u001b[1;33m.\u001b[0m\u001b[0mtype\u001b[0m\u001b[1;33m,\u001b[0m\u001b[1;33m)\u001b[0m\u001b[1;33m,\u001b[0m\u001b[1;33m\u001b[0m\u001b[1;33m\u001b[0m\u001b[0m\n\u001b[0;32m    399\u001b[0m                                 tree.token)\n\u001b[1;32m--> 400\u001b[1;33m         \u001b[0mresult\u001b[0m \u001b[1;33m=\u001b[0m \u001b[0mself\u001b[0m\u001b[1;33m.\u001b[0m\u001b[0m_evaluators\u001b[0m\u001b[1;33m[\u001b[0m\u001b[0mkey\u001b[0m\u001b[1;33m]\u001b[0m\u001b[1;33m(\u001b[0m\u001b[0mself\u001b[0m\u001b[1;33m,\u001b[0m \u001b[0mtree\u001b[0m\u001b[1;33m)\u001b[0m\u001b[1;33m\u001b[0m\u001b[1;33m\u001b[0m\u001b[0m\n\u001b[0m\u001b[0;32m    401\u001b[0m         \u001b[1;32mif\u001b[0m \u001b[0mrequire_evalexpr\u001b[0m \u001b[1;32mand\u001b[0m \u001b[1;32mnot\u001b[0m \u001b[0misinstance\u001b[0m\u001b[1;33m(\u001b[0m\u001b[0mresult\u001b[0m\u001b[1;33m,\u001b[0m \u001b[0mIntermediateExpr\u001b[0m\u001b[1;33m)\u001b[0m\u001b[1;33m:\u001b[0m\u001b[1;33m\u001b[0m\u001b[1;33m\u001b[0m\u001b[0m\n\u001b[0;32m    402\u001b[0m             \u001b[1;32mif\u001b[0m \u001b[0misinstance\u001b[0m\u001b[1;33m(\u001b[0m\u001b[0mresult\u001b[0m\u001b[1;33m,\u001b[0m \u001b[0mModelDesc\u001b[0m\u001b[1;33m)\u001b[0m\u001b[1;33m:\u001b[0m\u001b[1;33m\u001b[0m\u001b[1;33m\u001b[0m\u001b[0m\n",
      "\u001b[1;32m~\\Atom\\Anacondas\\lib\\site-packages\\patsy\\desc.py\u001b[0m in \u001b[0;36m_eval_binary_plus\u001b[1;34m(evaluator, tree)\u001b[0m\n\u001b[0;32m    231\u001b[0m \u001b[1;33m\u001b[0m\u001b[0m\n\u001b[0;32m    232\u001b[0m \u001b[1;32mdef\u001b[0m \u001b[0m_eval_binary_plus\u001b[0m\u001b[1;33m(\u001b[0m\u001b[0mevaluator\u001b[0m\u001b[1;33m,\u001b[0m \u001b[0mtree\u001b[0m\u001b[1;33m)\u001b[0m\u001b[1;33m:\u001b[0m\u001b[1;33m\u001b[0m\u001b[1;33m\u001b[0m\u001b[0m\n\u001b[1;32m--> 233\u001b[1;33m     \u001b[0mleft_expr\u001b[0m \u001b[1;33m=\u001b[0m \u001b[0mevaluator\u001b[0m\u001b[1;33m.\u001b[0m\u001b[0meval\u001b[0m\u001b[1;33m(\u001b[0m\u001b[0mtree\u001b[0m\u001b[1;33m.\u001b[0m\u001b[0margs\u001b[0m\u001b[1;33m[\u001b[0m\u001b[1;36m0\u001b[0m\u001b[1;33m]\u001b[0m\u001b[1;33m)\u001b[0m\u001b[1;33m\u001b[0m\u001b[1;33m\u001b[0m\u001b[0m\n\u001b[0m\u001b[0;32m    234\u001b[0m     \u001b[1;32mif\u001b[0m \u001b[0mtree\u001b[0m\u001b[1;33m.\u001b[0m\u001b[0margs\u001b[0m\u001b[1;33m[\u001b[0m\u001b[1;36m1\u001b[0m\u001b[1;33m]\u001b[0m\u001b[1;33m.\u001b[0m\u001b[0mtype\u001b[0m \u001b[1;33m==\u001b[0m \u001b[1;34m\"ZERO\"\u001b[0m\u001b[1;33m:\u001b[0m\u001b[1;33m\u001b[0m\u001b[1;33m\u001b[0m\u001b[0m\n\u001b[0;32m    235\u001b[0m         \u001b[1;32mreturn\u001b[0m \u001b[0mIntermediateExpr\u001b[0m\u001b[1;33m(\u001b[0m\u001b[1;32mFalse\u001b[0m\u001b[1;33m,\u001b[0m \u001b[1;32mNone\u001b[0m\u001b[1;33m,\u001b[0m \u001b[1;32mTrue\u001b[0m\u001b[1;33m,\u001b[0m \u001b[0mleft_expr\u001b[0m\u001b[1;33m.\u001b[0m\u001b[0mterms\u001b[0m\u001b[1;33m)\u001b[0m\u001b[1;33m\u001b[0m\u001b[1;33m\u001b[0m\u001b[0m\n",
      "\u001b[1;32m~\\Atom\\Anacondas\\lib\\site-packages\\patsy\\desc.py\u001b[0m in \u001b[0;36meval\u001b[1;34m(self, tree, require_evalexpr)\u001b[0m\n\u001b[0;32m    398\u001b[0m                                 \u001b[1;34m\"'%s' operator\"\u001b[0m \u001b[1;33m%\u001b[0m \u001b[1;33m(\u001b[0m\u001b[0mtree\u001b[0m\u001b[1;33m.\u001b[0m\u001b[0mtype\u001b[0m\u001b[1;33m,\u001b[0m\u001b[1;33m)\u001b[0m\u001b[1;33m,\u001b[0m\u001b[1;33m\u001b[0m\u001b[1;33m\u001b[0m\u001b[0m\n\u001b[0;32m    399\u001b[0m                                 tree.token)\n\u001b[1;32m--> 400\u001b[1;33m         \u001b[0mresult\u001b[0m \u001b[1;33m=\u001b[0m \u001b[0mself\u001b[0m\u001b[1;33m.\u001b[0m\u001b[0m_evaluators\u001b[0m\u001b[1;33m[\u001b[0m\u001b[0mkey\u001b[0m\u001b[1;33m]\u001b[0m\u001b[1;33m(\u001b[0m\u001b[0mself\u001b[0m\u001b[1;33m,\u001b[0m \u001b[0mtree\u001b[0m\u001b[1;33m)\u001b[0m\u001b[1;33m\u001b[0m\u001b[1;33m\u001b[0m\u001b[0m\n\u001b[0m\u001b[0;32m    401\u001b[0m         \u001b[1;32mif\u001b[0m \u001b[0mrequire_evalexpr\u001b[0m \u001b[1;32mand\u001b[0m \u001b[1;32mnot\u001b[0m \u001b[0misinstance\u001b[0m\u001b[1;33m(\u001b[0m\u001b[0mresult\u001b[0m\u001b[1;33m,\u001b[0m \u001b[0mIntermediateExpr\u001b[0m\u001b[1;33m)\u001b[0m\u001b[1;33m:\u001b[0m\u001b[1;33m\u001b[0m\u001b[1;33m\u001b[0m\u001b[0m\n\u001b[0;32m    402\u001b[0m             \u001b[1;32mif\u001b[0m \u001b[0misinstance\u001b[0m\u001b[1;33m(\u001b[0m\u001b[0mresult\u001b[0m\u001b[1;33m,\u001b[0m \u001b[0mModelDesc\u001b[0m\u001b[1;33m)\u001b[0m\u001b[1;33m:\u001b[0m\u001b[1;33m\u001b[0m\u001b[1;33m\u001b[0m\u001b[0m\n",
      "\u001b[1;32m~\\Atom\\Anacondas\\lib\\site-packages\\patsy\\desc.py\u001b[0m in \u001b[0;36m_eval_binary_minus\u001b[1;34m(evaluator, tree)\u001b[0m\n\u001b[0;32m    247\u001b[0m \u001b[1;33m\u001b[0m\u001b[0m\n\u001b[0;32m    248\u001b[0m \u001b[1;32mdef\u001b[0m \u001b[0m_eval_binary_minus\u001b[0m\u001b[1;33m(\u001b[0m\u001b[0mevaluator\u001b[0m\u001b[1;33m,\u001b[0m \u001b[0mtree\u001b[0m\u001b[1;33m)\u001b[0m\u001b[1;33m:\u001b[0m\u001b[1;33m\u001b[0m\u001b[1;33m\u001b[0m\u001b[0m\n\u001b[1;32m--> 249\u001b[1;33m     \u001b[0mleft_expr\u001b[0m \u001b[1;33m=\u001b[0m \u001b[0mevaluator\u001b[0m\u001b[1;33m.\u001b[0m\u001b[0meval\u001b[0m\u001b[1;33m(\u001b[0m\u001b[0mtree\u001b[0m\u001b[1;33m.\u001b[0m\u001b[0margs\u001b[0m\u001b[1;33m[\u001b[0m\u001b[1;36m0\u001b[0m\u001b[1;33m]\u001b[0m\u001b[1;33m)\u001b[0m\u001b[1;33m\u001b[0m\u001b[1;33m\u001b[0m\u001b[0m\n\u001b[0m\u001b[0;32m    250\u001b[0m     \u001b[1;32mif\u001b[0m \u001b[0mtree\u001b[0m\u001b[1;33m.\u001b[0m\u001b[0margs\u001b[0m\u001b[1;33m[\u001b[0m\u001b[1;36m1\u001b[0m\u001b[1;33m]\u001b[0m\u001b[1;33m.\u001b[0m\u001b[0mtype\u001b[0m \u001b[1;33m==\u001b[0m \u001b[1;34m\"ZERO\"\u001b[0m\u001b[1;33m:\u001b[0m\u001b[1;33m\u001b[0m\u001b[1;33m\u001b[0m\u001b[0m\n\u001b[0;32m    251\u001b[0m         return IntermediateExpr(True, tree.args[1], False,\n",
      "\u001b[1;32m~\\Atom\\Anacondas\\lib\\site-packages\\patsy\\desc.py\u001b[0m in \u001b[0;36meval\u001b[1;34m(self, tree, require_evalexpr)\u001b[0m\n\u001b[0;32m    398\u001b[0m                                 \u001b[1;34m\"'%s' operator\"\u001b[0m \u001b[1;33m%\u001b[0m \u001b[1;33m(\u001b[0m\u001b[0mtree\u001b[0m\u001b[1;33m.\u001b[0m\u001b[0mtype\u001b[0m\u001b[1;33m,\u001b[0m\u001b[1;33m)\u001b[0m\u001b[1;33m,\u001b[0m\u001b[1;33m\u001b[0m\u001b[1;33m\u001b[0m\u001b[0m\n\u001b[0;32m    399\u001b[0m                                 tree.token)\n\u001b[1;32m--> 400\u001b[1;33m         \u001b[0mresult\u001b[0m \u001b[1;33m=\u001b[0m \u001b[0mself\u001b[0m\u001b[1;33m.\u001b[0m\u001b[0m_evaluators\u001b[0m\u001b[1;33m[\u001b[0m\u001b[0mkey\u001b[0m\u001b[1;33m]\u001b[0m\u001b[1;33m(\u001b[0m\u001b[0mself\u001b[0m\u001b[1;33m,\u001b[0m \u001b[0mtree\u001b[0m\u001b[1;33m)\u001b[0m\u001b[1;33m\u001b[0m\u001b[1;33m\u001b[0m\u001b[0m\n\u001b[0m\u001b[0;32m    401\u001b[0m         \u001b[1;32mif\u001b[0m \u001b[0mrequire_evalexpr\u001b[0m \u001b[1;32mand\u001b[0m \u001b[1;32mnot\u001b[0m \u001b[0misinstance\u001b[0m\u001b[1;33m(\u001b[0m\u001b[0mresult\u001b[0m\u001b[1;33m,\u001b[0m \u001b[0mIntermediateExpr\u001b[0m\u001b[1;33m)\u001b[0m\u001b[1;33m:\u001b[0m\u001b[1;33m\u001b[0m\u001b[1;33m\u001b[0m\u001b[0m\n\u001b[0;32m    402\u001b[0m             \u001b[1;32mif\u001b[0m \u001b[0misinstance\u001b[0m\u001b[1;33m(\u001b[0m\u001b[0mresult\u001b[0m\u001b[1;33m,\u001b[0m \u001b[0mModelDesc\u001b[0m\u001b[1;33m)\u001b[0m\u001b[1;33m:\u001b[0m\u001b[1;33m\u001b[0m\u001b[1;33m\u001b[0m\u001b[0m\n",
      "\u001b[1;32m~\\Atom\\Anacondas\\lib\\site-packages\\patsy\\desc.py\u001b[0m in \u001b[0;36m_eval_binary_plus\u001b[1;34m(evaluator, tree)\u001b[0m\n\u001b[0;32m    231\u001b[0m \u001b[1;33m\u001b[0m\u001b[0m\n\u001b[0;32m    232\u001b[0m \u001b[1;32mdef\u001b[0m \u001b[0m_eval_binary_plus\u001b[0m\u001b[1;33m(\u001b[0m\u001b[0mevaluator\u001b[0m\u001b[1;33m,\u001b[0m \u001b[0mtree\u001b[0m\u001b[1;33m)\u001b[0m\u001b[1;33m:\u001b[0m\u001b[1;33m\u001b[0m\u001b[1;33m\u001b[0m\u001b[0m\n\u001b[1;32m--> 233\u001b[1;33m     \u001b[0mleft_expr\u001b[0m \u001b[1;33m=\u001b[0m \u001b[0mevaluator\u001b[0m\u001b[1;33m.\u001b[0m\u001b[0meval\u001b[0m\u001b[1;33m(\u001b[0m\u001b[0mtree\u001b[0m\u001b[1;33m.\u001b[0m\u001b[0margs\u001b[0m\u001b[1;33m[\u001b[0m\u001b[1;36m0\u001b[0m\u001b[1;33m]\u001b[0m\u001b[1;33m)\u001b[0m\u001b[1;33m\u001b[0m\u001b[1;33m\u001b[0m\u001b[0m\n\u001b[0m\u001b[0;32m    234\u001b[0m     \u001b[1;32mif\u001b[0m \u001b[0mtree\u001b[0m\u001b[1;33m.\u001b[0m\u001b[0margs\u001b[0m\u001b[1;33m[\u001b[0m\u001b[1;36m1\u001b[0m\u001b[1;33m]\u001b[0m\u001b[1;33m.\u001b[0m\u001b[0mtype\u001b[0m \u001b[1;33m==\u001b[0m \u001b[1;34m\"ZERO\"\u001b[0m\u001b[1;33m:\u001b[0m\u001b[1;33m\u001b[0m\u001b[1;33m\u001b[0m\u001b[0m\n\u001b[0;32m    235\u001b[0m         \u001b[1;32mreturn\u001b[0m \u001b[0mIntermediateExpr\u001b[0m\u001b[1;33m(\u001b[0m\u001b[1;32mFalse\u001b[0m\u001b[1;33m,\u001b[0m \u001b[1;32mNone\u001b[0m\u001b[1;33m,\u001b[0m \u001b[1;32mTrue\u001b[0m\u001b[1;33m,\u001b[0m \u001b[0mleft_expr\u001b[0m\u001b[1;33m.\u001b[0m\u001b[0mterms\u001b[0m\u001b[1;33m)\u001b[0m\u001b[1;33m\u001b[0m\u001b[1;33m\u001b[0m\u001b[0m\n",
      "\u001b[1;32m~\\Atom\\Anacondas\\lib\\site-packages\\patsy\\desc.py\u001b[0m in \u001b[0;36meval\u001b[1;34m(self, tree, require_evalexpr)\u001b[0m\n\u001b[0;32m    398\u001b[0m                                 \u001b[1;34m\"'%s' operator\"\u001b[0m \u001b[1;33m%\u001b[0m \u001b[1;33m(\u001b[0m\u001b[0mtree\u001b[0m\u001b[1;33m.\u001b[0m\u001b[0mtype\u001b[0m\u001b[1;33m,\u001b[0m\u001b[1;33m)\u001b[0m\u001b[1;33m,\u001b[0m\u001b[1;33m\u001b[0m\u001b[1;33m\u001b[0m\u001b[0m\n\u001b[0;32m    399\u001b[0m                                 tree.token)\n\u001b[1;32m--> 400\u001b[1;33m         \u001b[0mresult\u001b[0m \u001b[1;33m=\u001b[0m \u001b[0mself\u001b[0m\u001b[1;33m.\u001b[0m\u001b[0m_evaluators\u001b[0m\u001b[1;33m[\u001b[0m\u001b[0mkey\u001b[0m\u001b[1;33m]\u001b[0m\u001b[1;33m(\u001b[0m\u001b[0mself\u001b[0m\u001b[1;33m,\u001b[0m \u001b[0mtree\u001b[0m\u001b[1;33m)\u001b[0m\u001b[1;33m\u001b[0m\u001b[1;33m\u001b[0m\u001b[0m\n\u001b[0m\u001b[0;32m    401\u001b[0m         \u001b[1;32mif\u001b[0m \u001b[0mrequire_evalexpr\u001b[0m \u001b[1;32mand\u001b[0m \u001b[1;32mnot\u001b[0m \u001b[0misinstance\u001b[0m\u001b[1;33m(\u001b[0m\u001b[0mresult\u001b[0m\u001b[1;33m,\u001b[0m \u001b[0mIntermediateExpr\u001b[0m\u001b[1;33m)\u001b[0m\u001b[1;33m:\u001b[0m\u001b[1;33m\u001b[0m\u001b[1;33m\u001b[0m\u001b[0m\n\u001b[0;32m    402\u001b[0m             \u001b[1;32mif\u001b[0m \u001b[0misinstance\u001b[0m\u001b[1;33m(\u001b[0m\u001b[0mresult\u001b[0m\u001b[1;33m,\u001b[0m \u001b[0mModelDesc\u001b[0m\u001b[1;33m)\u001b[0m\u001b[1;33m:\u001b[0m\u001b[1;33m\u001b[0m\u001b[1;33m\u001b[0m\u001b[0m\n",
      "\u001b[1;32m~\\Atom\\Anacondas\\lib\\site-packages\\patsy\\desc.py\u001b[0m in \u001b[0;36m_eval_binary_minus\u001b[1;34m(evaluator, tree)\u001b[0m\n\u001b[0;32m    247\u001b[0m \u001b[1;33m\u001b[0m\u001b[0m\n\u001b[0;32m    248\u001b[0m \u001b[1;32mdef\u001b[0m \u001b[0m_eval_binary_minus\u001b[0m\u001b[1;33m(\u001b[0m\u001b[0mevaluator\u001b[0m\u001b[1;33m,\u001b[0m \u001b[0mtree\u001b[0m\u001b[1;33m)\u001b[0m\u001b[1;33m:\u001b[0m\u001b[1;33m\u001b[0m\u001b[1;33m\u001b[0m\u001b[0m\n\u001b[1;32m--> 249\u001b[1;33m     \u001b[0mleft_expr\u001b[0m \u001b[1;33m=\u001b[0m \u001b[0mevaluator\u001b[0m\u001b[1;33m.\u001b[0m\u001b[0meval\u001b[0m\u001b[1;33m(\u001b[0m\u001b[0mtree\u001b[0m\u001b[1;33m.\u001b[0m\u001b[0margs\u001b[0m\u001b[1;33m[\u001b[0m\u001b[1;36m0\u001b[0m\u001b[1;33m]\u001b[0m\u001b[1;33m)\u001b[0m\u001b[1;33m\u001b[0m\u001b[1;33m\u001b[0m\u001b[0m\n\u001b[0m\u001b[0;32m    250\u001b[0m     \u001b[1;32mif\u001b[0m \u001b[0mtree\u001b[0m\u001b[1;33m.\u001b[0m\u001b[0margs\u001b[0m\u001b[1;33m[\u001b[0m\u001b[1;36m1\u001b[0m\u001b[1;33m]\u001b[0m\u001b[1;33m.\u001b[0m\u001b[0mtype\u001b[0m \u001b[1;33m==\u001b[0m \u001b[1;34m\"ZERO\"\u001b[0m\u001b[1;33m:\u001b[0m\u001b[1;33m\u001b[0m\u001b[1;33m\u001b[0m\u001b[0m\n\u001b[0;32m    251\u001b[0m         return IntermediateExpr(True, tree.args[1], False,\n",
      "\u001b[1;32m~\\Atom\\Anacondas\\lib\\site-packages\\patsy\\desc.py\u001b[0m in \u001b[0;36meval\u001b[1;34m(self, tree, require_evalexpr)\u001b[0m\n\u001b[0;32m    398\u001b[0m                                 \u001b[1;34m\"'%s' operator\"\u001b[0m \u001b[1;33m%\u001b[0m \u001b[1;33m(\u001b[0m\u001b[0mtree\u001b[0m\u001b[1;33m.\u001b[0m\u001b[0mtype\u001b[0m\u001b[1;33m,\u001b[0m\u001b[1;33m)\u001b[0m\u001b[1;33m,\u001b[0m\u001b[1;33m\u001b[0m\u001b[1;33m\u001b[0m\u001b[0m\n\u001b[0;32m    399\u001b[0m                                 tree.token)\n\u001b[1;32m--> 400\u001b[1;33m         \u001b[0mresult\u001b[0m \u001b[1;33m=\u001b[0m \u001b[0mself\u001b[0m\u001b[1;33m.\u001b[0m\u001b[0m_evaluators\u001b[0m\u001b[1;33m[\u001b[0m\u001b[0mkey\u001b[0m\u001b[1;33m]\u001b[0m\u001b[1;33m(\u001b[0m\u001b[0mself\u001b[0m\u001b[1;33m,\u001b[0m \u001b[0mtree\u001b[0m\u001b[1;33m)\u001b[0m\u001b[1;33m\u001b[0m\u001b[1;33m\u001b[0m\u001b[0m\n\u001b[0m\u001b[0;32m    401\u001b[0m         \u001b[1;32mif\u001b[0m \u001b[0mrequire_evalexpr\u001b[0m \u001b[1;32mand\u001b[0m \u001b[1;32mnot\u001b[0m \u001b[0misinstance\u001b[0m\u001b[1;33m(\u001b[0m\u001b[0mresult\u001b[0m\u001b[1;33m,\u001b[0m \u001b[0mIntermediateExpr\u001b[0m\u001b[1;33m)\u001b[0m\u001b[1;33m:\u001b[0m\u001b[1;33m\u001b[0m\u001b[1;33m\u001b[0m\u001b[0m\n\u001b[0;32m    402\u001b[0m             \u001b[1;32mif\u001b[0m \u001b[0misinstance\u001b[0m\u001b[1;33m(\u001b[0m\u001b[0mresult\u001b[0m\u001b[1;33m,\u001b[0m \u001b[0mModelDesc\u001b[0m\u001b[1;33m)\u001b[0m\u001b[1;33m:\u001b[0m\u001b[1;33m\u001b[0m\u001b[1;33m\u001b[0m\u001b[0m\n",
      "\u001b[1;32m~\\Atom\\Anacondas\\lib\\site-packages\\patsy\\desc.py\u001b[0m in \u001b[0;36m_eval_binary_plus\u001b[1;34m(evaluator, tree)\u001b[0m\n\u001b[0;32m    231\u001b[0m \u001b[1;33m\u001b[0m\u001b[0m\n\u001b[0;32m    232\u001b[0m \u001b[1;32mdef\u001b[0m \u001b[0m_eval_binary_plus\u001b[0m\u001b[1;33m(\u001b[0m\u001b[0mevaluator\u001b[0m\u001b[1;33m,\u001b[0m \u001b[0mtree\u001b[0m\u001b[1;33m)\u001b[0m\u001b[1;33m:\u001b[0m\u001b[1;33m\u001b[0m\u001b[1;33m\u001b[0m\u001b[0m\n\u001b[1;32m--> 233\u001b[1;33m     \u001b[0mleft_expr\u001b[0m \u001b[1;33m=\u001b[0m \u001b[0mevaluator\u001b[0m\u001b[1;33m.\u001b[0m\u001b[0meval\u001b[0m\u001b[1;33m(\u001b[0m\u001b[0mtree\u001b[0m\u001b[1;33m.\u001b[0m\u001b[0margs\u001b[0m\u001b[1;33m[\u001b[0m\u001b[1;36m0\u001b[0m\u001b[1;33m]\u001b[0m\u001b[1;33m)\u001b[0m\u001b[1;33m\u001b[0m\u001b[1;33m\u001b[0m\u001b[0m\n\u001b[0m\u001b[0;32m    234\u001b[0m     \u001b[1;32mif\u001b[0m \u001b[0mtree\u001b[0m\u001b[1;33m.\u001b[0m\u001b[0margs\u001b[0m\u001b[1;33m[\u001b[0m\u001b[1;36m1\u001b[0m\u001b[1;33m]\u001b[0m\u001b[1;33m.\u001b[0m\u001b[0mtype\u001b[0m \u001b[1;33m==\u001b[0m \u001b[1;34m\"ZERO\"\u001b[0m\u001b[1;33m:\u001b[0m\u001b[1;33m\u001b[0m\u001b[1;33m\u001b[0m\u001b[0m\n\u001b[0;32m    235\u001b[0m         \u001b[1;32mreturn\u001b[0m \u001b[0mIntermediateExpr\u001b[0m\u001b[1;33m(\u001b[0m\u001b[1;32mFalse\u001b[0m\u001b[1;33m,\u001b[0m \u001b[1;32mNone\u001b[0m\u001b[1;33m,\u001b[0m \u001b[1;32mTrue\u001b[0m\u001b[1;33m,\u001b[0m \u001b[0mleft_expr\u001b[0m\u001b[1;33m.\u001b[0m\u001b[0mterms\u001b[0m\u001b[1;33m)\u001b[0m\u001b[1;33m\u001b[0m\u001b[1;33m\u001b[0m\u001b[0m\n",
      "\u001b[1;32m~\\Atom\\Anacondas\\lib\\site-packages\\patsy\\desc.py\u001b[0m in \u001b[0;36meval\u001b[1;34m(self, tree, require_evalexpr)\u001b[0m\n\u001b[0;32m    398\u001b[0m                                 \u001b[1;34m\"'%s' operator\"\u001b[0m \u001b[1;33m%\u001b[0m \u001b[1;33m(\u001b[0m\u001b[0mtree\u001b[0m\u001b[1;33m.\u001b[0m\u001b[0mtype\u001b[0m\u001b[1;33m,\u001b[0m\u001b[1;33m)\u001b[0m\u001b[1;33m,\u001b[0m\u001b[1;33m\u001b[0m\u001b[1;33m\u001b[0m\u001b[0m\n\u001b[0;32m    399\u001b[0m                                 tree.token)\n\u001b[1;32m--> 400\u001b[1;33m         \u001b[0mresult\u001b[0m \u001b[1;33m=\u001b[0m \u001b[0mself\u001b[0m\u001b[1;33m.\u001b[0m\u001b[0m_evaluators\u001b[0m\u001b[1;33m[\u001b[0m\u001b[0mkey\u001b[0m\u001b[1;33m]\u001b[0m\u001b[1;33m(\u001b[0m\u001b[0mself\u001b[0m\u001b[1;33m,\u001b[0m \u001b[0mtree\u001b[0m\u001b[1;33m)\u001b[0m\u001b[1;33m\u001b[0m\u001b[1;33m\u001b[0m\u001b[0m\n\u001b[0m\u001b[0;32m    401\u001b[0m         \u001b[1;32mif\u001b[0m \u001b[0mrequire_evalexpr\u001b[0m \u001b[1;32mand\u001b[0m \u001b[1;32mnot\u001b[0m \u001b[0misinstance\u001b[0m\u001b[1;33m(\u001b[0m\u001b[0mresult\u001b[0m\u001b[1;33m,\u001b[0m \u001b[0mIntermediateExpr\u001b[0m\u001b[1;33m)\u001b[0m\u001b[1;33m:\u001b[0m\u001b[1;33m\u001b[0m\u001b[1;33m\u001b[0m\u001b[0m\n\u001b[0;32m    402\u001b[0m             \u001b[1;32mif\u001b[0m \u001b[0misinstance\u001b[0m\u001b[1;33m(\u001b[0m\u001b[0mresult\u001b[0m\u001b[1;33m,\u001b[0m \u001b[0mModelDesc\u001b[0m\u001b[1;33m)\u001b[0m\u001b[1;33m:\u001b[0m\u001b[1;33m\u001b[0m\u001b[1;33m\u001b[0m\u001b[0m\n",
      "\u001b[1;32m~\\Atom\\Anacondas\\lib\\site-packages\\patsy\\desc.py\u001b[0m in \u001b[0;36m_eval_binary_minus\u001b[1;34m(evaluator, tree)\u001b[0m\n\u001b[0;32m    247\u001b[0m \u001b[1;33m\u001b[0m\u001b[0m\n\u001b[0;32m    248\u001b[0m \u001b[1;32mdef\u001b[0m \u001b[0m_eval_binary_minus\u001b[0m\u001b[1;33m(\u001b[0m\u001b[0mevaluator\u001b[0m\u001b[1;33m,\u001b[0m \u001b[0mtree\u001b[0m\u001b[1;33m)\u001b[0m\u001b[1;33m:\u001b[0m\u001b[1;33m\u001b[0m\u001b[1;33m\u001b[0m\u001b[0m\n\u001b[1;32m--> 249\u001b[1;33m     \u001b[0mleft_expr\u001b[0m \u001b[1;33m=\u001b[0m \u001b[0mevaluator\u001b[0m\u001b[1;33m.\u001b[0m\u001b[0meval\u001b[0m\u001b[1;33m(\u001b[0m\u001b[0mtree\u001b[0m\u001b[1;33m.\u001b[0m\u001b[0margs\u001b[0m\u001b[1;33m[\u001b[0m\u001b[1;36m0\u001b[0m\u001b[1;33m]\u001b[0m\u001b[1;33m)\u001b[0m\u001b[1;33m\u001b[0m\u001b[1;33m\u001b[0m\u001b[0m\n\u001b[0m\u001b[0;32m    250\u001b[0m     \u001b[1;32mif\u001b[0m \u001b[0mtree\u001b[0m\u001b[1;33m.\u001b[0m\u001b[0margs\u001b[0m\u001b[1;33m[\u001b[0m\u001b[1;36m1\u001b[0m\u001b[1;33m]\u001b[0m\u001b[1;33m.\u001b[0m\u001b[0mtype\u001b[0m \u001b[1;33m==\u001b[0m \u001b[1;34m\"ZERO\"\u001b[0m\u001b[1;33m:\u001b[0m\u001b[1;33m\u001b[0m\u001b[1;33m\u001b[0m\u001b[0m\n\u001b[0;32m    251\u001b[0m         return IntermediateExpr(True, tree.args[1], False,\n",
      "\u001b[1;32m~\\Atom\\Anacondas\\lib\\site-packages\\patsy\\desc.py\u001b[0m in \u001b[0;36meval\u001b[1;34m(self, tree, require_evalexpr)\u001b[0m\n\u001b[0;32m    398\u001b[0m                                 \u001b[1;34m\"'%s' operator\"\u001b[0m \u001b[1;33m%\u001b[0m \u001b[1;33m(\u001b[0m\u001b[0mtree\u001b[0m\u001b[1;33m.\u001b[0m\u001b[0mtype\u001b[0m\u001b[1;33m,\u001b[0m\u001b[1;33m)\u001b[0m\u001b[1;33m,\u001b[0m\u001b[1;33m\u001b[0m\u001b[1;33m\u001b[0m\u001b[0m\n\u001b[0;32m    399\u001b[0m                                 tree.token)\n\u001b[1;32m--> 400\u001b[1;33m         \u001b[0mresult\u001b[0m \u001b[1;33m=\u001b[0m \u001b[0mself\u001b[0m\u001b[1;33m.\u001b[0m\u001b[0m_evaluators\u001b[0m\u001b[1;33m[\u001b[0m\u001b[0mkey\u001b[0m\u001b[1;33m]\u001b[0m\u001b[1;33m(\u001b[0m\u001b[0mself\u001b[0m\u001b[1;33m,\u001b[0m \u001b[0mtree\u001b[0m\u001b[1;33m)\u001b[0m\u001b[1;33m\u001b[0m\u001b[1;33m\u001b[0m\u001b[0m\n\u001b[0m\u001b[0;32m    401\u001b[0m         \u001b[1;32mif\u001b[0m \u001b[0mrequire_evalexpr\u001b[0m \u001b[1;32mand\u001b[0m \u001b[1;32mnot\u001b[0m \u001b[0misinstance\u001b[0m\u001b[1;33m(\u001b[0m\u001b[0mresult\u001b[0m\u001b[1;33m,\u001b[0m \u001b[0mIntermediateExpr\u001b[0m\u001b[1;33m)\u001b[0m\u001b[1;33m:\u001b[0m\u001b[1;33m\u001b[0m\u001b[1;33m\u001b[0m\u001b[0m\n\u001b[0;32m    402\u001b[0m             \u001b[1;32mif\u001b[0m \u001b[0misinstance\u001b[0m\u001b[1;33m(\u001b[0m\u001b[0mresult\u001b[0m\u001b[1;33m,\u001b[0m \u001b[0mModelDesc\u001b[0m\u001b[1;33m)\u001b[0m\u001b[1;33m:\u001b[0m\u001b[1;33m\u001b[0m\u001b[1;33m\u001b[0m\u001b[0m\n",
      "\u001b[1;32m~\\Atom\\Anacondas\\lib\\site-packages\\patsy\\desc.py\u001b[0m in \u001b[0;36m_eval_binary_plus\u001b[1;34m(evaluator, tree)\u001b[0m\n\u001b[0;32m    231\u001b[0m \u001b[1;33m\u001b[0m\u001b[0m\n\u001b[0;32m    232\u001b[0m \u001b[1;32mdef\u001b[0m \u001b[0m_eval_binary_plus\u001b[0m\u001b[1;33m(\u001b[0m\u001b[0mevaluator\u001b[0m\u001b[1;33m,\u001b[0m \u001b[0mtree\u001b[0m\u001b[1;33m)\u001b[0m\u001b[1;33m:\u001b[0m\u001b[1;33m\u001b[0m\u001b[1;33m\u001b[0m\u001b[0m\n\u001b[1;32m--> 233\u001b[1;33m     \u001b[0mleft_expr\u001b[0m \u001b[1;33m=\u001b[0m \u001b[0mevaluator\u001b[0m\u001b[1;33m.\u001b[0m\u001b[0meval\u001b[0m\u001b[1;33m(\u001b[0m\u001b[0mtree\u001b[0m\u001b[1;33m.\u001b[0m\u001b[0margs\u001b[0m\u001b[1;33m[\u001b[0m\u001b[1;36m0\u001b[0m\u001b[1;33m]\u001b[0m\u001b[1;33m)\u001b[0m\u001b[1;33m\u001b[0m\u001b[1;33m\u001b[0m\u001b[0m\n\u001b[0m\u001b[0;32m    234\u001b[0m     \u001b[1;32mif\u001b[0m \u001b[0mtree\u001b[0m\u001b[1;33m.\u001b[0m\u001b[0margs\u001b[0m\u001b[1;33m[\u001b[0m\u001b[1;36m1\u001b[0m\u001b[1;33m]\u001b[0m\u001b[1;33m.\u001b[0m\u001b[0mtype\u001b[0m \u001b[1;33m==\u001b[0m \u001b[1;34m\"ZERO\"\u001b[0m\u001b[1;33m:\u001b[0m\u001b[1;33m\u001b[0m\u001b[1;33m\u001b[0m\u001b[0m\n\u001b[0;32m    235\u001b[0m         \u001b[1;32mreturn\u001b[0m \u001b[0mIntermediateExpr\u001b[0m\u001b[1;33m(\u001b[0m\u001b[1;32mFalse\u001b[0m\u001b[1;33m,\u001b[0m \u001b[1;32mNone\u001b[0m\u001b[1;33m,\u001b[0m \u001b[1;32mTrue\u001b[0m\u001b[1;33m,\u001b[0m \u001b[0mleft_expr\u001b[0m\u001b[1;33m.\u001b[0m\u001b[0mterms\u001b[0m\u001b[1;33m)\u001b[0m\u001b[1;33m\u001b[0m\u001b[1;33m\u001b[0m\u001b[0m\n",
      "\u001b[1;32m~\\Atom\\Anacondas\\lib\\site-packages\\patsy\\desc.py\u001b[0m in \u001b[0;36meval\u001b[1;34m(self, tree, require_evalexpr)\u001b[0m\n\u001b[0;32m    398\u001b[0m                                 \u001b[1;34m\"'%s' operator\"\u001b[0m \u001b[1;33m%\u001b[0m \u001b[1;33m(\u001b[0m\u001b[0mtree\u001b[0m\u001b[1;33m.\u001b[0m\u001b[0mtype\u001b[0m\u001b[1;33m,\u001b[0m\u001b[1;33m)\u001b[0m\u001b[1;33m,\u001b[0m\u001b[1;33m\u001b[0m\u001b[1;33m\u001b[0m\u001b[0m\n\u001b[0;32m    399\u001b[0m                                 tree.token)\n\u001b[1;32m--> 400\u001b[1;33m         \u001b[0mresult\u001b[0m \u001b[1;33m=\u001b[0m \u001b[0mself\u001b[0m\u001b[1;33m.\u001b[0m\u001b[0m_evaluators\u001b[0m\u001b[1;33m[\u001b[0m\u001b[0mkey\u001b[0m\u001b[1;33m]\u001b[0m\u001b[1;33m(\u001b[0m\u001b[0mself\u001b[0m\u001b[1;33m,\u001b[0m \u001b[0mtree\u001b[0m\u001b[1;33m)\u001b[0m\u001b[1;33m\u001b[0m\u001b[1;33m\u001b[0m\u001b[0m\n\u001b[0m\u001b[0;32m    401\u001b[0m         \u001b[1;32mif\u001b[0m \u001b[0mrequire_evalexpr\u001b[0m \u001b[1;32mand\u001b[0m \u001b[1;32mnot\u001b[0m \u001b[0misinstance\u001b[0m\u001b[1;33m(\u001b[0m\u001b[0mresult\u001b[0m\u001b[1;33m,\u001b[0m \u001b[0mIntermediateExpr\u001b[0m\u001b[1;33m)\u001b[0m\u001b[1;33m:\u001b[0m\u001b[1;33m\u001b[0m\u001b[1;33m\u001b[0m\u001b[0m\n\u001b[0;32m    402\u001b[0m             \u001b[1;32mif\u001b[0m \u001b[0misinstance\u001b[0m\u001b[1;33m(\u001b[0m\u001b[0mresult\u001b[0m\u001b[1;33m,\u001b[0m \u001b[0mModelDesc\u001b[0m\u001b[1;33m)\u001b[0m\u001b[1;33m:\u001b[0m\u001b[1;33m\u001b[0m\u001b[1;33m\u001b[0m\u001b[0m\n",
      "\u001b[1;32m~\\Atom\\Anacondas\\lib\\site-packages\\patsy\\desc.py\u001b[0m in \u001b[0;36m_eval_binary_minus\u001b[1;34m(evaluator, tree)\u001b[0m\n\u001b[0;32m    247\u001b[0m \u001b[1;33m\u001b[0m\u001b[0m\n\u001b[0;32m    248\u001b[0m \u001b[1;32mdef\u001b[0m \u001b[0m_eval_binary_minus\u001b[0m\u001b[1;33m(\u001b[0m\u001b[0mevaluator\u001b[0m\u001b[1;33m,\u001b[0m \u001b[0mtree\u001b[0m\u001b[1;33m)\u001b[0m\u001b[1;33m:\u001b[0m\u001b[1;33m\u001b[0m\u001b[1;33m\u001b[0m\u001b[0m\n\u001b[1;32m--> 249\u001b[1;33m     \u001b[0mleft_expr\u001b[0m \u001b[1;33m=\u001b[0m \u001b[0mevaluator\u001b[0m\u001b[1;33m.\u001b[0m\u001b[0meval\u001b[0m\u001b[1;33m(\u001b[0m\u001b[0mtree\u001b[0m\u001b[1;33m.\u001b[0m\u001b[0margs\u001b[0m\u001b[1;33m[\u001b[0m\u001b[1;36m0\u001b[0m\u001b[1;33m]\u001b[0m\u001b[1;33m)\u001b[0m\u001b[1;33m\u001b[0m\u001b[1;33m\u001b[0m\u001b[0m\n\u001b[0m\u001b[0;32m    250\u001b[0m     \u001b[1;32mif\u001b[0m \u001b[0mtree\u001b[0m\u001b[1;33m.\u001b[0m\u001b[0margs\u001b[0m\u001b[1;33m[\u001b[0m\u001b[1;36m1\u001b[0m\u001b[1;33m]\u001b[0m\u001b[1;33m.\u001b[0m\u001b[0mtype\u001b[0m \u001b[1;33m==\u001b[0m \u001b[1;34m\"ZERO\"\u001b[0m\u001b[1;33m:\u001b[0m\u001b[1;33m\u001b[0m\u001b[1;33m\u001b[0m\u001b[0m\n\u001b[0;32m    251\u001b[0m         return IntermediateExpr(True, tree.args[1], False,\n",
      "\u001b[1;32m~\\Atom\\Anacondas\\lib\\site-packages\\patsy\\desc.py\u001b[0m in \u001b[0;36meval\u001b[1;34m(self, tree, require_evalexpr)\u001b[0m\n\u001b[0;32m    398\u001b[0m                                 \u001b[1;34m\"'%s' operator\"\u001b[0m \u001b[1;33m%\u001b[0m \u001b[1;33m(\u001b[0m\u001b[0mtree\u001b[0m\u001b[1;33m.\u001b[0m\u001b[0mtype\u001b[0m\u001b[1;33m,\u001b[0m\u001b[1;33m)\u001b[0m\u001b[1;33m,\u001b[0m\u001b[1;33m\u001b[0m\u001b[1;33m\u001b[0m\u001b[0m\n\u001b[0;32m    399\u001b[0m                                 tree.token)\n\u001b[1;32m--> 400\u001b[1;33m         \u001b[0mresult\u001b[0m \u001b[1;33m=\u001b[0m \u001b[0mself\u001b[0m\u001b[1;33m.\u001b[0m\u001b[0m_evaluators\u001b[0m\u001b[1;33m[\u001b[0m\u001b[0mkey\u001b[0m\u001b[1;33m]\u001b[0m\u001b[1;33m(\u001b[0m\u001b[0mself\u001b[0m\u001b[1;33m,\u001b[0m \u001b[0mtree\u001b[0m\u001b[1;33m)\u001b[0m\u001b[1;33m\u001b[0m\u001b[1;33m\u001b[0m\u001b[0m\n\u001b[0m\u001b[0;32m    401\u001b[0m         \u001b[1;32mif\u001b[0m \u001b[0mrequire_evalexpr\u001b[0m \u001b[1;32mand\u001b[0m \u001b[1;32mnot\u001b[0m \u001b[0misinstance\u001b[0m\u001b[1;33m(\u001b[0m\u001b[0mresult\u001b[0m\u001b[1;33m,\u001b[0m \u001b[0mIntermediateExpr\u001b[0m\u001b[1;33m)\u001b[0m\u001b[1;33m:\u001b[0m\u001b[1;33m\u001b[0m\u001b[1;33m\u001b[0m\u001b[0m\n\u001b[0;32m    402\u001b[0m             \u001b[1;32mif\u001b[0m \u001b[0misinstance\u001b[0m\u001b[1;33m(\u001b[0m\u001b[0mresult\u001b[0m\u001b[1;33m,\u001b[0m \u001b[0mModelDesc\u001b[0m\u001b[1;33m)\u001b[0m\u001b[1;33m:\u001b[0m\u001b[1;33m\u001b[0m\u001b[1;33m\u001b[0m\u001b[0m\n",
      "\u001b[1;32m~\\Atom\\Anacondas\\lib\\site-packages\\patsy\\desc.py\u001b[0m in \u001b[0;36m_eval_binary_plus\u001b[1;34m(evaluator, tree)\u001b[0m\n\u001b[0;32m    231\u001b[0m \u001b[1;33m\u001b[0m\u001b[0m\n\u001b[0;32m    232\u001b[0m \u001b[1;32mdef\u001b[0m \u001b[0m_eval_binary_plus\u001b[0m\u001b[1;33m(\u001b[0m\u001b[0mevaluator\u001b[0m\u001b[1;33m,\u001b[0m \u001b[0mtree\u001b[0m\u001b[1;33m)\u001b[0m\u001b[1;33m:\u001b[0m\u001b[1;33m\u001b[0m\u001b[1;33m\u001b[0m\u001b[0m\n\u001b[1;32m--> 233\u001b[1;33m     \u001b[0mleft_expr\u001b[0m \u001b[1;33m=\u001b[0m \u001b[0mevaluator\u001b[0m\u001b[1;33m.\u001b[0m\u001b[0meval\u001b[0m\u001b[1;33m(\u001b[0m\u001b[0mtree\u001b[0m\u001b[1;33m.\u001b[0m\u001b[0margs\u001b[0m\u001b[1;33m[\u001b[0m\u001b[1;36m0\u001b[0m\u001b[1;33m]\u001b[0m\u001b[1;33m)\u001b[0m\u001b[1;33m\u001b[0m\u001b[1;33m\u001b[0m\u001b[0m\n\u001b[0m\u001b[0;32m    234\u001b[0m     \u001b[1;32mif\u001b[0m \u001b[0mtree\u001b[0m\u001b[1;33m.\u001b[0m\u001b[0margs\u001b[0m\u001b[1;33m[\u001b[0m\u001b[1;36m1\u001b[0m\u001b[1;33m]\u001b[0m\u001b[1;33m.\u001b[0m\u001b[0mtype\u001b[0m \u001b[1;33m==\u001b[0m \u001b[1;34m\"ZERO\"\u001b[0m\u001b[1;33m:\u001b[0m\u001b[1;33m\u001b[0m\u001b[1;33m\u001b[0m\u001b[0m\n\u001b[0;32m    235\u001b[0m         \u001b[1;32mreturn\u001b[0m \u001b[0mIntermediateExpr\u001b[0m\u001b[1;33m(\u001b[0m\u001b[1;32mFalse\u001b[0m\u001b[1;33m,\u001b[0m \u001b[1;32mNone\u001b[0m\u001b[1;33m,\u001b[0m \u001b[1;32mTrue\u001b[0m\u001b[1;33m,\u001b[0m \u001b[0mleft_expr\u001b[0m\u001b[1;33m.\u001b[0m\u001b[0mterms\u001b[0m\u001b[1;33m)\u001b[0m\u001b[1;33m\u001b[0m\u001b[1;33m\u001b[0m\u001b[0m\n",
      "\u001b[1;32m~\\Atom\\Anacondas\\lib\\site-packages\\patsy\\desc.py\u001b[0m in \u001b[0;36meval\u001b[1;34m(self, tree, require_evalexpr)\u001b[0m\n\u001b[0;32m    398\u001b[0m                                 \u001b[1;34m\"'%s' operator\"\u001b[0m \u001b[1;33m%\u001b[0m \u001b[1;33m(\u001b[0m\u001b[0mtree\u001b[0m\u001b[1;33m.\u001b[0m\u001b[0mtype\u001b[0m\u001b[1;33m,\u001b[0m\u001b[1;33m)\u001b[0m\u001b[1;33m,\u001b[0m\u001b[1;33m\u001b[0m\u001b[1;33m\u001b[0m\u001b[0m\n\u001b[0;32m    399\u001b[0m                                 tree.token)\n\u001b[1;32m--> 400\u001b[1;33m         \u001b[0mresult\u001b[0m \u001b[1;33m=\u001b[0m \u001b[0mself\u001b[0m\u001b[1;33m.\u001b[0m\u001b[0m_evaluators\u001b[0m\u001b[1;33m[\u001b[0m\u001b[0mkey\u001b[0m\u001b[1;33m]\u001b[0m\u001b[1;33m(\u001b[0m\u001b[0mself\u001b[0m\u001b[1;33m,\u001b[0m \u001b[0mtree\u001b[0m\u001b[1;33m)\u001b[0m\u001b[1;33m\u001b[0m\u001b[1;33m\u001b[0m\u001b[0m\n\u001b[0m\u001b[0;32m    401\u001b[0m         \u001b[1;32mif\u001b[0m \u001b[0mrequire_evalexpr\u001b[0m \u001b[1;32mand\u001b[0m \u001b[1;32mnot\u001b[0m \u001b[0misinstance\u001b[0m\u001b[1;33m(\u001b[0m\u001b[0mresult\u001b[0m\u001b[1;33m,\u001b[0m \u001b[0mIntermediateExpr\u001b[0m\u001b[1;33m)\u001b[0m\u001b[1;33m:\u001b[0m\u001b[1;33m\u001b[0m\u001b[1;33m\u001b[0m\u001b[0m\n\u001b[0;32m    402\u001b[0m             \u001b[1;32mif\u001b[0m \u001b[0misinstance\u001b[0m\u001b[1;33m(\u001b[0m\u001b[0mresult\u001b[0m\u001b[1;33m,\u001b[0m \u001b[0mModelDesc\u001b[0m\u001b[1;33m)\u001b[0m\u001b[1;33m:\u001b[0m\u001b[1;33m\u001b[0m\u001b[1;33m\u001b[0m\u001b[0m\n",
      "\u001b[1;32m~\\Atom\\Anacondas\\lib\\site-packages\\patsy\\desc.py\u001b[0m in \u001b[0;36m_eval_binary_minus\u001b[1;34m(evaluator, tree)\u001b[0m\n\u001b[0;32m    247\u001b[0m \u001b[1;33m\u001b[0m\u001b[0m\n\u001b[0;32m    248\u001b[0m \u001b[1;32mdef\u001b[0m \u001b[0m_eval_binary_minus\u001b[0m\u001b[1;33m(\u001b[0m\u001b[0mevaluator\u001b[0m\u001b[1;33m,\u001b[0m \u001b[0mtree\u001b[0m\u001b[1;33m)\u001b[0m\u001b[1;33m:\u001b[0m\u001b[1;33m\u001b[0m\u001b[1;33m\u001b[0m\u001b[0m\n\u001b[1;32m--> 249\u001b[1;33m     \u001b[0mleft_expr\u001b[0m \u001b[1;33m=\u001b[0m \u001b[0mevaluator\u001b[0m\u001b[1;33m.\u001b[0m\u001b[0meval\u001b[0m\u001b[1;33m(\u001b[0m\u001b[0mtree\u001b[0m\u001b[1;33m.\u001b[0m\u001b[0margs\u001b[0m\u001b[1;33m[\u001b[0m\u001b[1;36m0\u001b[0m\u001b[1;33m]\u001b[0m\u001b[1;33m)\u001b[0m\u001b[1;33m\u001b[0m\u001b[1;33m\u001b[0m\u001b[0m\n\u001b[0m\u001b[0;32m    250\u001b[0m     \u001b[1;32mif\u001b[0m \u001b[0mtree\u001b[0m\u001b[1;33m.\u001b[0m\u001b[0margs\u001b[0m\u001b[1;33m[\u001b[0m\u001b[1;36m1\u001b[0m\u001b[1;33m]\u001b[0m\u001b[1;33m.\u001b[0m\u001b[0mtype\u001b[0m \u001b[1;33m==\u001b[0m \u001b[1;34m\"ZERO\"\u001b[0m\u001b[1;33m:\u001b[0m\u001b[1;33m\u001b[0m\u001b[1;33m\u001b[0m\u001b[0m\n\u001b[0;32m    251\u001b[0m         return IntermediateExpr(True, tree.args[1], False,\n",
      "\u001b[1;32m~\\Atom\\Anacondas\\lib\\site-packages\\patsy\\desc.py\u001b[0m in \u001b[0;36meval\u001b[1;34m(self, tree, require_evalexpr)\u001b[0m\n\u001b[0;32m    398\u001b[0m                                 \u001b[1;34m\"'%s' operator\"\u001b[0m \u001b[1;33m%\u001b[0m \u001b[1;33m(\u001b[0m\u001b[0mtree\u001b[0m\u001b[1;33m.\u001b[0m\u001b[0mtype\u001b[0m\u001b[1;33m,\u001b[0m\u001b[1;33m)\u001b[0m\u001b[1;33m,\u001b[0m\u001b[1;33m\u001b[0m\u001b[1;33m\u001b[0m\u001b[0m\n\u001b[0;32m    399\u001b[0m                                 tree.token)\n\u001b[1;32m--> 400\u001b[1;33m         \u001b[0mresult\u001b[0m \u001b[1;33m=\u001b[0m \u001b[0mself\u001b[0m\u001b[1;33m.\u001b[0m\u001b[0m_evaluators\u001b[0m\u001b[1;33m[\u001b[0m\u001b[0mkey\u001b[0m\u001b[1;33m]\u001b[0m\u001b[1;33m(\u001b[0m\u001b[0mself\u001b[0m\u001b[1;33m,\u001b[0m \u001b[0mtree\u001b[0m\u001b[1;33m)\u001b[0m\u001b[1;33m\u001b[0m\u001b[1;33m\u001b[0m\u001b[0m\n\u001b[0m\u001b[0;32m    401\u001b[0m         \u001b[1;32mif\u001b[0m \u001b[0mrequire_evalexpr\u001b[0m \u001b[1;32mand\u001b[0m \u001b[1;32mnot\u001b[0m \u001b[0misinstance\u001b[0m\u001b[1;33m(\u001b[0m\u001b[0mresult\u001b[0m\u001b[1;33m,\u001b[0m \u001b[0mIntermediateExpr\u001b[0m\u001b[1;33m)\u001b[0m\u001b[1;33m:\u001b[0m\u001b[1;33m\u001b[0m\u001b[1;33m\u001b[0m\u001b[0m\n\u001b[0;32m    402\u001b[0m             \u001b[1;32mif\u001b[0m \u001b[0misinstance\u001b[0m\u001b[1;33m(\u001b[0m\u001b[0mresult\u001b[0m\u001b[1;33m,\u001b[0m \u001b[0mModelDesc\u001b[0m\u001b[1;33m)\u001b[0m\u001b[1;33m:\u001b[0m\u001b[1;33m\u001b[0m\u001b[1;33m\u001b[0m\u001b[0m\n",
      "\u001b[1;32m~\\Atom\\Anacondas\\lib\\site-packages\\patsy\\desc.py\u001b[0m in \u001b[0;36m_eval_binary_plus\u001b[1;34m(evaluator, tree)\u001b[0m\n\u001b[0;32m    231\u001b[0m \u001b[1;33m\u001b[0m\u001b[0m\n\u001b[0;32m    232\u001b[0m \u001b[1;32mdef\u001b[0m \u001b[0m_eval_binary_plus\u001b[0m\u001b[1;33m(\u001b[0m\u001b[0mevaluator\u001b[0m\u001b[1;33m,\u001b[0m \u001b[0mtree\u001b[0m\u001b[1;33m)\u001b[0m\u001b[1;33m:\u001b[0m\u001b[1;33m\u001b[0m\u001b[1;33m\u001b[0m\u001b[0m\n\u001b[1;32m--> 233\u001b[1;33m     \u001b[0mleft_expr\u001b[0m \u001b[1;33m=\u001b[0m \u001b[0mevaluator\u001b[0m\u001b[1;33m.\u001b[0m\u001b[0meval\u001b[0m\u001b[1;33m(\u001b[0m\u001b[0mtree\u001b[0m\u001b[1;33m.\u001b[0m\u001b[0margs\u001b[0m\u001b[1;33m[\u001b[0m\u001b[1;36m0\u001b[0m\u001b[1;33m]\u001b[0m\u001b[1;33m)\u001b[0m\u001b[1;33m\u001b[0m\u001b[1;33m\u001b[0m\u001b[0m\n\u001b[0m\u001b[0;32m    234\u001b[0m     \u001b[1;32mif\u001b[0m \u001b[0mtree\u001b[0m\u001b[1;33m.\u001b[0m\u001b[0margs\u001b[0m\u001b[1;33m[\u001b[0m\u001b[1;36m1\u001b[0m\u001b[1;33m]\u001b[0m\u001b[1;33m.\u001b[0m\u001b[0mtype\u001b[0m \u001b[1;33m==\u001b[0m \u001b[1;34m\"ZERO\"\u001b[0m\u001b[1;33m:\u001b[0m\u001b[1;33m\u001b[0m\u001b[1;33m\u001b[0m\u001b[0m\n\u001b[0;32m    235\u001b[0m         \u001b[1;32mreturn\u001b[0m \u001b[0mIntermediateExpr\u001b[0m\u001b[1;33m(\u001b[0m\u001b[1;32mFalse\u001b[0m\u001b[1;33m,\u001b[0m \u001b[1;32mNone\u001b[0m\u001b[1;33m,\u001b[0m \u001b[1;32mTrue\u001b[0m\u001b[1;33m,\u001b[0m \u001b[0mleft_expr\u001b[0m\u001b[1;33m.\u001b[0m\u001b[0mterms\u001b[0m\u001b[1;33m)\u001b[0m\u001b[1;33m\u001b[0m\u001b[1;33m\u001b[0m\u001b[0m\n",
      "\u001b[1;32m~\\Atom\\Anacondas\\lib\\site-packages\\patsy\\desc.py\u001b[0m in \u001b[0;36meval\u001b[1;34m(self, tree, require_evalexpr)\u001b[0m\n\u001b[0;32m    398\u001b[0m                                 \u001b[1;34m\"'%s' operator\"\u001b[0m \u001b[1;33m%\u001b[0m \u001b[1;33m(\u001b[0m\u001b[0mtree\u001b[0m\u001b[1;33m.\u001b[0m\u001b[0mtype\u001b[0m\u001b[1;33m,\u001b[0m\u001b[1;33m)\u001b[0m\u001b[1;33m,\u001b[0m\u001b[1;33m\u001b[0m\u001b[1;33m\u001b[0m\u001b[0m\n\u001b[0;32m    399\u001b[0m                                 tree.token)\n\u001b[1;32m--> 400\u001b[1;33m         \u001b[0mresult\u001b[0m \u001b[1;33m=\u001b[0m \u001b[0mself\u001b[0m\u001b[1;33m.\u001b[0m\u001b[0m_evaluators\u001b[0m\u001b[1;33m[\u001b[0m\u001b[0mkey\u001b[0m\u001b[1;33m]\u001b[0m\u001b[1;33m(\u001b[0m\u001b[0mself\u001b[0m\u001b[1;33m,\u001b[0m \u001b[0mtree\u001b[0m\u001b[1;33m)\u001b[0m\u001b[1;33m\u001b[0m\u001b[1;33m\u001b[0m\u001b[0m\n\u001b[0m\u001b[0;32m    401\u001b[0m         \u001b[1;32mif\u001b[0m \u001b[0mrequire_evalexpr\u001b[0m \u001b[1;32mand\u001b[0m \u001b[1;32mnot\u001b[0m \u001b[0misinstance\u001b[0m\u001b[1;33m(\u001b[0m\u001b[0mresult\u001b[0m\u001b[1;33m,\u001b[0m \u001b[0mIntermediateExpr\u001b[0m\u001b[1;33m)\u001b[0m\u001b[1;33m:\u001b[0m\u001b[1;33m\u001b[0m\u001b[1;33m\u001b[0m\u001b[0m\n\u001b[0;32m    402\u001b[0m             \u001b[1;32mif\u001b[0m \u001b[0misinstance\u001b[0m\u001b[1;33m(\u001b[0m\u001b[0mresult\u001b[0m\u001b[1;33m,\u001b[0m \u001b[0mModelDesc\u001b[0m\u001b[1;33m)\u001b[0m\u001b[1;33m:\u001b[0m\u001b[1;33m\u001b[0m\u001b[1;33m\u001b[0m\u001b[0m\n",
      "\u001b[1;32m~\\Atom\\Anacondas\\lib\\site-packages\\patsy\\desc.py\u001b[0m in \u001b[0;36m_eval_binary_minus\u001b[1;34m(evaluator, tree)\u001b[0m\n\u001b[0;32m    247\u001b[0m \u001b[1;33m\u001b[0m\u001b[0m\n\u001b[0;32m    248\u001b[0m \u001b[1;32mdef\u001b[0m \u001b[0m_eval_binary_minus\u001b[0m\u001b[1;33m(\u001b[0m\u001b[0mevaluator\u001b[0m\u001b[1;33m,\u001b[0m \u001b[0mtree\u001b[0m\u001b[1;33m)\u001b[0m\u001b[1;33m:\u001b[0m\u001b[1;33m\u001b[0m\u001b[1;33m\u001b[0m\u001b[0m\n\u001b[1;32m--> 249\u001b[1;33m     \u001b[0mleft_expr\u001b[0m \u001b[1;33m=\u001b[0m \u001b[0mevaluator\u001b[0m\u001b[1;33m.\u001b[0m\u001b[0meval\u001b[0m\u001b[1;33m(\u001b[0m\u001b[0mtree\u001b[0m\u001b[1;33m.\u001b[0m\u001b[0margs\u001b[0m\u001b[1;33m[\u001b[0m\u001b[1;36m0\u001b[0m\u001b[1;33m]\u001b[0m\u001b[1;33m)\u001b[0m\u001b[1;33m\u001b[0m\u001b[1;33m\u001b[0m\u001b[0m\n\u001b[0m\u001b[0;32m    250\u001b[0m     \u001b[1;32mif\u001b[0m \u001b[0mtree\u001b[0m\u001b[1;33m.\u001b[0m\u001b[0margs\u001b[0m\u001b[1;33m[\u001b[0m\u001b[1;36m1\u001b[0m\u001b[1;33m]\u001b[0m\u001b[1;33m.\u001b[0m\u001b[0mtype\u001b[0m \u001b[1;33m==\u001b[0m \u001b[1;34m\"ZERO\"\u001b[0m\u001b[1;33m:\u001b[0m\u001b[1;33m\u001b[0m\u001b[1;33m\u001b[0m\u001b[0m\n\u001b[0;32m    251\u001b[0m         return IntermediateExpr(True, tree.args[1], False,\n",
      "\u001b[1;32m~\\Atom\\Anacondas\\lib\\site-packages\\patsy\\desc.py\u001b[0m in \u001b[0;36meval\u001b[1;34m(self, tree, require_evalexpr)\u001b[0m\n\u001b[0;32m    398\u001b[0m                                 \u001b[1;34m\"'%s' operator\"\u001b[0m \u001b[1;33m%\u001b[0m \u001b[1;33m(\u001b[0m\u001b[0mtree\u001b[0m\u001b[1;33m.\u001b[0m\u001b[0mtype\u001b[0m\u001b[1;33m,\u001b[0m\u001b[1;33m)\u001b[0m\u001b[1;33m,\u001b[0m\u001b[1;33m\u001b[0m\u001b[1;33m\u001b[0m\u001b[0m\n\u001b[0;32m    399\u001b[0m                                 tree.token)\n\u001b[1;32m--> 400\u001b[1;33m         \u001b[0mresult\u001b[0m \u001b[1;33m=\u001b[0m \u001b[0mself\u001b[0m\u001b[1;33m.\u001b[0m\u001b[0m_evaluators\u001b[0m\u001b[1;33m[\u001b[0m\u001b[0mkey\u001b[0m\u001b[1;33m]\u001b[0m\u001b[1;33m(\u001b[0m\u001b[0mself\u001b[0m\u001b[1;33m,\u001b[0m \u001b[0mtree\u001b[0m\u001b[1;33m)\u001b[0m\u001b[1;33m\u001b[0m\u001b[1;33m\u001b[0m\u001b[0m\n\u001b[0m\u001b[0;32m    401\u001b[0m         \u001b[1;32mif\u001b[0m \u001b[0mrequire_evalexpr\u001b[0m \u001b[1;32mand\u001b[0m \u001b[1;32mnot\u001b[0m \u001b[0misinstance\u001b[0m\u001b[1;33m(\u001b[0m\u001b[0mresult\u001b[0m\u001b[1;33m,\u001b[0m \u001b[0mIntermediateExpr\u001b[0m\u001b[1;33m)\u001b[0m\u001b[1;33m:\u001b[0m\u001b[1;33m\u001b[0m\u001b[1;33m\u001b[0m\u001b[0m\n\u001b[0;32m    402\u001b[0m             \u001b[1;32mif\u001b[0m \u001b[0misinstance\u001b[0m\u001b[1;33m(\u001b[0m\u001b[0mresult\u001b[0m\u001b[1;33m,\u001b[0m \u001b[0mModelDesc\u001b[0m\u001b[1;33m)\u001b[0m\u001b[1;33m:\u001b[0m\u001b[1;33m\u001b[0m\u001b[1;33m\u001b[0m\u001b[0m\n",
      "\u001b[1;32m~\\Atom\\Anacondas\\lib\\site-packages\\patsy\\desc.py\u001b[0m in \u001b[0;36m_eval_binary_plus\u001b[1;34m(evaluator, tree)\u001b[0m\n\u001b[0;32m    231\u001b[0m \u001b[1;33m\u001b[0m\u001b[0m\n\u001b[0;32m    232\u001b[0m \u001b[1;32mdef\u001b[0m \u001b[0m_eval_binary_plus\u001b[0m\u001b[1;33m(\u001b[0m\u001b[0mevaluator\u001b[0m\u001b[1;33m,\u001b[0m \u001b[0mtree\u001b[0m\u001b[1;33m)\u001b[0m\u001b[1;33m:\u001b[0m\u001b[1;33m\u001b[0m\u001b[1;33m\u001b[0m\u001b[0m\n\u001b[1;32m--> 233\u001b[1;33m     \u001b[0mleft_expr\u001b[0m \u001b[1;33m=\u001b[0m \u001b[0mevaluator\u001b[0m\u001b[1;33m.\u001b[0m\u001b[0meval\u001b[0m\u001b[1;33m(\u001b[0m\u001b[0mtree\u001b[0m\u001b[1;33m.\u001b[0m\u001b[0margs\u001b[0m\u001b[1;33m[\u001b[0m\u001b[1;36m0\u001b[0m\u001b[1;33m]\u001b[0m\u001b[1;33m)\u001b[0m\u001b[1;33m\u001b[0m\u001b[1;33m\u001b[0m\u001b[0m\n\u001b[0m\u001b[0;32m    234\u001b[0m     \u001b[1;32mif\u001b[0m \u001b[0mtree\u001b[0m\u001b[1;33m.\u001b[0m\u001b[0margs\u001b[0m\u001b[1;33m[\u001b[0m\u001b[1;36m1\u001b[0m\u001b[1;33m]\u001b[0m\u001b[1;33m.\u001b[0m\u001b[0mtype\u001b[0m \u001b[1;33m==\u001b[0m \u001b[1;34m\"ZERO\"\u001b[0m\u001b[1;33m:\u001b[0m\u001b[1;33m\u001b[0m\u001b[1;33m\u001b[0m\u001b[0m\n\u001b[0;32m    235\u001b[0m         \u001b[1;32mreturn\u001b[0m \u001b[0mIntermediateExpr\u001b[0m\u001b[1;33m(\u001b[0m\u001b[1;32mFalse\u001b[0m\u001b[1;33m,\u001b[0m \u001b[1;32mNone\u001b[0m\u001b[1;33m,\u001b[0m \u001b[1;32mTrue\u001b[0m\u001b[1;33m,\u001b[0m \u001b[0mleft_expr\u001b[0m\u001b[1;33m.\u001b[0m\u001b[0mterms\u001b[0m\u001b[1;33m)\u001b[0m\u001b[1;33m\u001b[0m\u001b[1;33m\u001b[0m\u001b[0m\n",
      "\u001b[1;32m~\\Atom\\Anacondas\\lib\\site-packages\\patsy\\desc.py\u001b[0m in \u001b[0;36meval\u001b[1;34m(self, tree, require_evalexpr)\u001b[0m\n\u001b[0;32m    398\u001b[0m                                 \u001b[1;34m\"'%s' operator\"\u001b[0m \u001b[1;33m%\u001b[0m \u001b[1;33m(\u001b[0m\u001b[0mtree\u001b[0m\u001b[1;33m.\u001b[0m\u001b[0mtype\u001b[0m\u001b[1;33m,\u001b[0m\u001b[1;33m)\u001b[0m\u001b[1;33m,\u001b[0m\u001b[1;33m\u001b[0m\u001b[1;33m\u001b[0m\u001b[0m\n\u001b[0;32m    399\u001b[0m                                 tree.token)\n\u001b[1;32m--> 400\u001b[1;33m         \u001b[0mresult\u001b[0m \u001b[1;33m=\u001b[0m \u001b[0mself\u001b[0m\u001b[1;33m.\u001b[0m\u001b[0m_evaluators\u001b[0m\u001b[1;33m[\u001b[0m\u001b[0mkey\u001b[0m\u001b[1;33m]\u001b[0m\u001b[1;33m(\u001b[0m\u001b[0mself\u001b[0m\u001b[1;33m,\u001b[0m \u001b[0mtree\u001b[0m\u001b[1;33m)\u001b[0m\u001b[1;33m\u001b[0m\u001b[1;33m\u001b[0m\u001b[0m\n\u001b[0m\u001b[0;32m    401\u001b[0m         \u001b[1;32mif\u001b[0m \u001b[0mrequire_evalexpr\u001b[0m \u001b[1;32mand\u001b[0m \u001b[1;32mnot\u001b[0m \u001b[0misinstance\u001b[0m\u001b[1;33m(\u001b[0m\u001b[0mresult\u001b[0m\u001b[1;33m,\u001b[0m \u001b[0mIntermediateExpr\u001b[0m\u001b[1;33m)\u001b[0m\u001b[1;33m:\u001b[0m\u001b[1;33m\u001b[0m\u001b[1;33m\u001b[0m\u001b[0m\n\u001b[0;32m    402\u001b[0m             \u001b[1;32mif\u001b[0m \u001b[0misinstance\u001b[0m\u001b[1;33m(\u001b[0m\u001b[0mresult\u001b[0m\u001b[1;33m,\u001b[0m \u001b[0mModelDesc\u001b[0m\u001b[1;33m)\u001b[0m\u001b[1;33m:\u001b[0m\u001b[1;33m\u001b[0m\u001b[1;33m\u001b[0m\u001b[0m\n",
      "\u001b[1;32m~\\Atom\\Anacondas\\lib\\site-packages\\patsy\\desc.py\u001b[0m in \u001b[0;36m_eval_binary_minus\u001b[1;34m(evaluator, tree)\u001b[0m\n\u001b[0;32m    247\u001b[0m \u001b[1;33m\u001b[0m\u001b[0m\n\u001b[0;32m    248\u001b[0m \u001b[1;32mdef\u001b[0m \u001b[0m_eval_binary_minus\u001b[0m\u001b[1;33m(\u001b[0m\u001b[0mevaluator\u001b[0m\u001b[1;33m,\u001b[0m \u001b[0mtree\u001b[0m\u001b[1;33m)\u001b[0m\u001b[1;33m:\u001b[0m\u001b[1;33m\u001b[0m\u001b[1;33m\u001b[0m\u001b[0m\n\u001b[1;32m--> 249\u001b[1;33m     \u001b[0mleft_expr\u001b[0m \u001b[1;33m=\u001b[0m \u001b[0mevaluator\u001b[0m\u001b[1;33m.\u001b[0m\u001b[0meval\u001b[0m\u001b[1;33m(\u001b[0m\u001b[0mtree\u001b[0m\u001b[1;33m.\u001b[0m\u001b[0margs\u001b[0m\u001b[1;33m[\u001b[0m\u001b[1;36m0\u001b[0m\u001b[1;33m]\u001b[0m\u001b[1;33m)\u001b[0m\u001b[1;33m\u001b[0m\u001b[1;33m\u001b[0m\u001b[0m\n\u001b[0m\u001b[0;32m    250\u001b[0m     \u001b[1;32mif\u001b[0m \u001b[0mtree\u001b[0m\u001b[1;33m.\u001b[0m\u001b[0margs\u001b[0m\u001b[1;33m[\u001b[0m\u001b[1;36m1\u001b[0m\u001b[1;33m]\u001b[0m\u001b[1;33m.\u001b[0m\u001b[0mtype\u001b[0m \u001b[1;33m==\u001b[0m \u001b[1;34m\"ZERO\"\u001b[0m\u001b[1;33m:\u001b[0m\u001b[1;33m\u001b[0m\u001b[1;33m\u001b[0m\u001b[0m\n\u001b[0;32m    251\u001b[0m         return IntermediateExpr(True, tree.args[1], False,\n",
      "\u001b[1;32m~\\Atom\\Anacondas\\lib\\site-packages\\patsy\\desc.py\u001b[0m in \u001b[0;36meval\u001b[1;34m(self, tree, require_evalexpr)\u001b[0m\n\u001b[0;32m    398\u001b[0m                                 \u001b[1;34m\"'%s' operator\"\u001b[0m \u001b[1;33m%\u001b[0m \u001b[1;33m(\u001b[0m\u001b[0mtree\u001b[0m\u001b[1;33m.\u001b[0m\u001b[0mtype\u001b[0m\u001b[1;33m,\u001b[0m\u001b[1;33m)\u001b[0m\u001b[1;33m,\u001b[0m\u001b[1;33m\u001b[0m\u001b[1;33m\u001b[0m\u001b[0m\n\u001b[0;32m    399\u001b[0m                                 tree.token)\n\u001b[1;32m--> 400\u001b[1;33m         \u001b[0mresult\u001b[0m \u001b[1;33m=\u001b[0m \u001b[0mself\u001b[0m\u001b[1;33m.\u001b[0m\u001b[0m_evaluators\u001b[0m\u001b[1;33m[\u001b[0m\u001b[0mkey\u001b[0m\u001b[1;33m]\u001b[0m\u001b[1;33m(\u001b[0m\u001b[0mself\u001b[0m\u001b[1;33m,\u001b[0m \u001b[0mtree\u001b[0m\u001b[1;33m)\u001b[0m\u001b[1;33m\u001b[0m\u001b[1;33m\u001b[0m\u001b[0m\n\u001b[0m\u001b[0;32m    401\u001b[0m         \u001b[1;32mif\u001b[0m \u001b[0mrequire_evalexpr\u001b[0m \u001b[1;32mand\u001b[0m \u001b[1;32mnot\u001b[0m \u001b[0misinstance\u001b[0m\u001b[1;33m(\u001b[0m\u001b[0mresult\u001b[0m\u001b[1;33m,\u001b[0m \u001b[0mIntermediateExpr\u001b[0m\u001b[1;33m)\u001b[0m\u001b[1;33m:\u001b[0m\u001b[1;33m\u001b[0m\u001b[1;33m\u001b[0m\u001b[0m\n\u001b[0;32m    402\u001b[0m             \u001b[1;32mif\u001b[0m \u001b[0misinstance\u001b[0m\u001b[1;33m(\u001b[0m\u001b[0mresult\u001b[0m\u001b[1;33m,\u001b[0m \u001b[0mModelDesc\u001b[0m\u001b[1;33m)\u001b[0m\u001b[1;33m:\u001b[0m\u001b[1;33m\u001b[0m\u001b[1;33m\u001b[0m\u001b[0m\n",
      "\u001b[1;32m~\\Atom\\Anacondas\\lib\\site-packages\\patsy\\desc.py\u001b[0m in \u001b[0;36m_eval_binary_plus\u001b[1;34m(evaluator, tree)\u001b[0m\n\u001b[0;32m    231\u001b[0m \u001b[1;33m\u001b[0m\u001b[0m\n\u001b[0;32m    232\u001b[0m \u001b[1;32mdef\u001b[0m \u001b[0m_eval_binary_plus\u001b[0m\u001b[1;33m(\u001b[0m\u001b[0mevaluator\u001b[0m\u001b[1;33m,\u001b[0m \u001b[0mtree\u001b[0m\u001b[1;33m)\u001b[0m\u001b[1;33m:\u001b[0m\u001b[1;33m\u001b[0m\u001b[1;33m\u001b[0m\u001b[0m\n\u001b[1;32m--> 233\u001b[1;33m     \u001b[0mleft_expr\u001b[0m \u001b[1;33m=\u001b[0m \u001b[0mevaluator\u001b[0m\u001b[1;33m.\u001b[0m\u001b[0meval\u001b[0m\u001b[1;33m(\u001b[0m\u001b[0mtree\u001b[0m\u001b[1;33m.\u001b[0m\u001b[0margs\u001b[0m\u001b[1;33m[\u001b[0m\u001b[1;36m0\u001b[0m\u001b[1;33m]\u001b[0m\u001b[1;33m)\u001b[0m\u001b[1;33m\u001b[0m\u001b[1;33m\u001b[0m\u001b[0m\n\u001b[0m\u001b[0;32m    234\u001b[0m     \u001b[1;32mif\u001b[0m \u001b[0mtree\u001b[0m\u001b[1;33m.\u001b[0m\u001b[0margs\u001b[0m\u001b[1;33m[\u001b[0m\u001b[1;36m1\u001b[0m\u001b[1;33m]\u001b[0m\u001b[1;33m.\u001b[0m\u001b[0mtype\u001b[0m \u001b[1;33m==\u001b[0m \u001b[1;34m\"ZERO\"\u001b[0m\u001b[1;33m:\u001b[0m\u001b[1;33m\u001b[0m\u001b[1;33m\u001b[0m\u001b[0m\n\u001b[0;32m    235\u001b[0m         \u001b[1;32mreturn\u001b[0m \u001b[0mIntermediateExpr\u001b[0m\u001b[1;33m(\u001b[0m\u001b[1;32mFalse\u001b[0m\u001b[1;33m,\u001b[0m \u001b[1;32mNone\u001b[0m\u001b[1;33m,\u001b[0m \u001b[1;32mTrue\u001b[0m\u001b[1;33m,\u001b[0m \u001b[0mleft_expr\u001b[0m\u001b[1;33m.\u001b[0m\u001b[0mterms\u001b[0m\u001b[1;33m)\u001b[0m\u001b[1;33m\u001b[0m\u001b[1;33m\u001b[0m\u001b[0m\n",
      "\u001b[1;32m~\\Atom\\Anacondas\\lib\\site-packages\\patsy\\desc.py\u001b[0m in \u001b[0;36meval\u001b[1;34m(self, tree, require_evalexpr)\u001b[0m\n\u001b[0;32m    398\u001b[0m                                 \u001b[1;34m\"'%s' operator\"\u001b[0m \u001b[1;33m%\u001b[0m \u001b[1;33m(\u001b[0m\u001b[0mtree\u001b[0m\u001b[1;33m.\u001b[0m\u001b[0mtype\u001b[0m\u001b[1;33m,\u001b[0m\u001b[1;33m)\u001b[0m\u001b[1;33m,\u001b[0m\u001b[1;33m\u001b[0m\u001b[1;33m\u001b[0m\u001b[0m\n\u001b[0;32m    399\u001b[0m                                 tree.token)\n\u001b[1;32m--> 400\u001b[1;33m         \u001b[0mresult\u001b[0m \u001b[1;33m=\u001b[0m \u001b[0mself\u001b[0m\u001b[1;33m.\u001b[0m\u001b[0m_evaluators\u001b[0m\u001b[1;33m[\u001b[0m\u001b[0mkey\u001b[0m\u001b[1;33m]\u001b[0m\u001b[1;33m(\u001b[0m\u001b[0mself\u001b[0m\u001b[1;33m,\u001b[0m \u001b[0mtree\u001b[0m\u001b[1;33m)\u001b[0m\u001b[1;33m\u001b[0m\u001b[1;33m\u001b[0m\u001b[0m\n\u001b[0m\u001b[0;32m    401\u001b[0m         \u001b[1;32mif\u001b[0m \u001b[0mrequire_evalexpr\u001b[0m \u001b[1;32mand\u001b[0m \u001b[1;32mnot\u001b[0m \u001b[0misinstance\u001b[0m\u001b[1;33m(\u001b[0m\u001b[0mresult\u001b[0m\u001b[1;33m,\u001b[0m \u001b[0mIntermediateExpr\u001b[0m\u001b[1;33m)\u001b[0m\u001b[1;33m:\u001b[0m\u001b[1;33m\u001b[0m\u001b[1;33m\u001b[0m\u001b[0m\n\u001b[0;32m    402\u001b[0m             \u001b[1;32mif\u001b[0m \u001b[0misinstance\u001b[0m\u001b[1;33m(\u001b[0m\u001b[0mresult\u001b[0m\u001b[1;33m,\u001b[0m \u001b[0mModelDesc\u001b[0m\u001b[1;33m)\u001b[0m\u001b[1;33m:\u001b[0m\u001b[1;33m\u001b[0m\u001b[1;33m\u001b[0m\u001b[0m\n",
      "\u001b[1;32m~\\Atom\\Anacondas\\lib\\site-packages\\patsy\\desc.py\u001b[0m in \u001b[0;36m_eval_binary_minus\u001b[1;34m(evaluator, tree)\u001b[0m\n\u001b[0;32m    247\u001b[0m \u001b[1;33m\u001b[0m\u001b[0m\n\u001b[0;32m    248\u001b[0m \u001b[1;32mdef\u001b[0m \u001b[0m_eval_binary_minus\u001b[0m\u001b[1;33m(\u001b[0m\u001b[0mevaluator\u001b[0m\u001b[1;33m,\u001b[0m \u001b[0mtree\u001b[0m\u001b[1;33m)\u001b[0m\u001b[1;33m:\u001b[0m\u001b[1;33m\u001b[0m\u001b[1;33m\u001b[0m\u001b[0m\n\u001b[1;32m--> 249\u001b[1;33m     \u001b[0mleft_expr\u001b[0m \u001b[1;33m=\u001b[0m \u001b[0mevaluator\u001b[0m\u001b[1;33m.\u001b[0m\u001b[0meval\u001b[0m\u001b[1;33m(\u001b[0m\u001b[0mtree\u001b[0m\u001b[1;33m.\u001b[0m\u001b[0margs\u001b[0m\u001b[1;33m[\u001b[0m\u001b[1;36m0\u001b[0m\u001b[1;33m]\u001b[0m\u001b[1;33m)\u001b[0m\u001b[1;33m\u001b[0m\u001b[1;33m\u001b[0m\u001b[0m\n\u001b[0m\u001b[0;32m    250\u001b[0m     \u001b[1;32mif\u001b[0m \u001b[0mtree\u001b[0m\u001b[1;33m.\u001b[0m\u001b[0margs\u001b[0m\u001b[1;33m[\u001b[0m\u001b[1;36m1\u001b[0m\u001b[1;33m]\u001b[0m\u001b[1;33m.\u001b[0m\u001b[0mtype\u001b[0m \u001b[1;33m==\u001b[0m \u001b[1;34m\"ZERO\"\u001b[0m\u001b[1;33m:\u001b[0m\u001b[1;33m\u001b[0m\u001b[1;33m\u001b[0m\u001b[0m\n\u001b[0;32m    251\u001b[0m         return IntermediateExpr(True, tree.args[1], False,\n",
      "\u001b[1;32m~\\Atom\\Anacondas\\lib\\site-packages\\patsy\\desc.py\u001b[0m in \u001b[0;36meval\u001b[1;34m(self, tree, require_evalexpr)\u001b[0m\n\u001b[0;32m    398\u001b[0m                                 \u001b[1;34m\"'%s' operator\"\u001b[0m \u001b[1;33m%\u001b[0m \u001b[1;33m(\u001b[0m\u001b[0mtree\u001b[0m\u001b[1;33m.\u001b[0m\u001b[0mtype\u001b[0m\u001b[1;33m,\u001b[0m\u001b[1;33m)\u001b[0m\u001b[1;33m,\u001b[0m\u001b[1;33m\u001b[0m\u001b[1;33m\u001b[0m\u001b[0m\n\u001b[0;32m    399\u001b[0m                                 tree.token)\n\u001b[1;32m--> 400\u001b[1;33m         \u001b[0mresult\u001b[0m \u001b[1;33m=\u001b[0m \u001b[0mself\u001b[0m\u001b[1;33m.\u001b[0m\u001b[0m_evaluators\u001b[0m\u001b[1;33m[\u001b[0m\u001b[0mkey\u001b[0m\u001b[1;33m]\u001b[0m\u001b[1;33m(\u001b[0m\u001b[0mself\u001b[0m\u001b[1;33m,\u001b[0m \u001b[0mtree\u001b[0m\u001b[1;33m)\u001b[0m\u001b[1;33m\u001b[0m\u001b[1;33m\u001b[0m\u001b[0m\n\u001b[0m\u001b[0;32m    401\u001b[0m         \u001b[1;32mif\u001b[0m \u001b[0mrequire_evalexpr\u001b[0m \u001b[1;32mand\u001b[0m \u001b[1;32mnot\u001b[0m \u001b[0misinstance\u001b[0m\u001b[1;33m(\u001b[0m\u001b[0mresult\u001b[0m\u001b[1;33m,\u001b[0m \u001b[0mIntermediateExpr\u001b[0m\u001b[1;33m)\u001b[0m\u001b[1;33m:\u001b[0m\u001b[1;33m\u001b[0m\u001b[1;33m\u001b[0m\u001b[0m\n\u001b[0;32m    402\u001b[0m             \u001b[1;32mif\u001b[0m \u001b[0misinstance\u001b[0m\u001b[1;33m(\u001b[0m\u001b[0mresult\u001b[0m\u001b[1;33m,\u001b[0m \u001b[0mModelDesc\u001b[0m\u001b[1;33m)\u001b[0m\u001b[1;33m:\u001b[0m\u001b[1;33m\u001b[0m\u001b[1;33m\u001b[0m\u001b[0m\n",
      "\u001b[1;32m~\\Atom\\Anacondas\\lib\\site-packages\\patsy\\desc.py\u001b[0m in \u001b[0;36m_eval_binary_plus\u001b[1;34m(evaluator, tree)\u001b[0m\n\u001b[0;32m    231\u001b[0m \u001b[1;33m\u001b[0m\u001b[0m\n\u001b[0;32m    232\u001b[0m \u001b[1;32mdef\u001b[0m \u001b[0m_eval_binary_plus\u001b[0m\u001b[1;33m(\u001b[0m\u001b[0mevaluator\u001b[0m\u001b[1;33m,\u001b[0m \u001b[0mtree\u001b[0m\u001b[1;33m)\u001b[0m\u001b[1;33m:\u001b[0m\u001b[1;33m\u001b[0m\u001b[1;33m\u001b[0m\u001b[0m\n\u001b[1;32m--> 233\u001b[1;33m     \u001b[0mleft_expr\u001b[0m \u001b[1;33m=\u001b[0m \u001b[0mevaluator\u001b[0m\u001b[1;33m.\u001b[0m\u001b[0meval\u001b[0m\u001b[1;33m(\u001b[0m\u001b[0mtree\u001b[0m\u001b[1;33m.\u001b[0m\u001b[0margs\u001b[0m\u001b[1;33m[\u001b[0m\u001b[1;36m0\u001b[0m\u001b[1;33m]\u001b[0m\u001b[1;33m)\u001b[0m\u001b[1;33m\u001b[0m\u001b[1;33m\u001b[0m\u001b[0m\n\u001b[0m\u001b[0;32m    234\u001b[0m     \u001b[1;32mif\u001b[0m \u001b[0mtree\u001b[0m\u001b[1;33m.\u001b[0m\u001b[0margs\u001b[0m\u001b[1;33m[\u001b[0m\u001b[1;36m1\u001b[0m\u001b[1;33m]\u001b[0m\u001b[1;33m.\u001b[0m\u001b[0mtype\u001b[0m \u001b[1;33m==\u001b[0m \u001b[1;34m\"ZERO\"\u001b[0m\u001b[1;33m:\u001b[0m\u001b[1;33m\u001b[0m\u001b[1;33m\u001b[0m\u001b[0m\n\u001b[0;32m    235\u001b[0m         \u001b[1;32mreturn\u001b[0m \u001b[0mIntermediateExpr\u001b[0m\u001b[1;33m(\u001b[0m\u001b[1;32mFalse\u001b[0m\u001b[1;33m,\u001b[0m \u001b[1;32mNone\u001b[0m\u001b[1;33m,\u001b[0m \u001b[1;32mTrue\u001b[0m\u001b[1;33m,\u001b[0m \u001b[0mleft_expr\u001b[0m\u001b[1;33m.\u001b[0m\u001b[0mterms\u001b[0m\u001b[1;33m)\u001b[0m\u001b[1;33m\u001b[0m\u001b[1;33m\u001b[0m\u001b[0m\n",
      "\u001b[1;32m~\\Atom\\Anacondas\\lib\\site-packages\\patsy\\desc.py\u001b[0m in \u001b[0;36meval\u001b[1;34m(self, tree, require_evalexpr)\u001b[0m\n\u001b[0;32m    398\u001b[0m                                 \u001b[1;34m\"'%s' operator\"\u001b[0m \u001b[1;33m%\u001b[0m \u001b[1;33m(\u001b[0m\u001b[0mtree\u001b[0m\u001b[1;33m.\u001b[0m\u001b[0mtype\u001b[0m\u001b[1;33m,\u001b[0m\u001b[1;33m)\u001b[0m\u001b[1;33m,\u001b[0m\u001b[1;33m\u001b[0m\u001b[1;33m\u001b[0m\u001b[0m\n\u001b[0;32m    399\u001b[0m                                 tree.token)\n\u001b[1;32m--> 400\u001b[1;33m         \u001b[0mresult\u001b[0m \u001b[1;33m=\u001b[0m \u001b[0mself\u001b[0m\u001b[1;33m.\u001b[0m\u001b[0m_evaluators\u001b[0m\u001b[1;33m[\u001b[0m\u001b[0mkey\u001b[0m\u001b[1;33m]\u001b[0m\u001b[1;33m(\u001b[0m\u001b[0mself\u001b[0m\u001b[1;33m,\u001b[0m \u001b[0mtree\u001b[0m\u001b[1;33m)\u001b[0m\u001b[1;33m\u001b[0m\u001b[1;33m\u001b[0m\u001b[0m\n\u001b[0m\u001b[0;32m    401\u001b[0m         \u001b[1;32mif\u001b[0m \u001b[0mrequire_evalexpr\u001b[0m \u001b[1;32mand\u001b[0m \u001b[1;32mnot\u001b[0m \u001b[0misinstance\u001b[0m\u001b[1;33m(\u001b[0m\u001b[0mresult\u001b[0m\u001b[1;33m,\u001b[0m \u001b[0mIntermediateExpr\u001b[0m\u001b[1;33m)\u001b[0m\u001b[1;33m:\u001b[0m\u001b[1;33m\u001b[0m\u001b[1;33m\u001b[0m\u001b[0m\n\u001b[0;32m    402\u001b[0m             \u001b[1;32mif\u001b[0m \u001b[0misinstance\u001b[0m\u001b[1;33m(\u001b[0m\u001b[0mresult\u001b[0m\u001b[1;33m,\u001b[0m \u001b[0mModelDesc\u001b[0m\u001b[1;33m)\u001b[0m\u001b[1;33m:\u001b[0m\u001b[1;33m\u001b[0m\u001b[1;33m\u001b[0m\u001b[0m\n",
      "\u001b[1;32m~\\Atom\\Anacondas\\lib\\site-packages\\patsy\\desc.py\u001b[0m in \u001b[0;36m_eval_binary_minus\u001b[1;34m(evaluator, tree)\u001b[0m\n\u001b[0;32m    254\u001b[0m         \u001b[1;32mreturn\u001b[0m \u001b[0mIntermediateExpr\u001b[0m\u001b[1;33m(\u001b[0m\u001b[1;32mFalse\u001b[0m\u001b[1;33m,\u001b[0m \u001b[1;32mNone\u001b[0m\u001b[1;33m,\u001b[0m \u001b[1;32mTrue\u001b[0m\u001b[1;33m,\u001b[0m \u001b[0mleft_expr\u001b[0m\u001b[1;33m.\u001b[0m\u001b[0mterms\u001b[0m\u001b[1;33m)\u001b[0m\u001b[1;33m\u001b[0m\u001b[1;33m\u001b[0m\u001b[0m\n\u001b[0;32m    255\u001b[0m     \u001b[1;32melse\u001b[0m\u001b[1;33m:\u001b[0m\u001b[1;33m\u001b[0m\u001b[1;33m\u001b[0m\u001b[0m\n\u001b[1;32m--> 256\u001b[1;33m         \u001b[0mright_expr\u001b[0m \u001b[1;33m=\u001b[0m \u001b[0mevaluator\u001b[0m\u001b[1;33m.\u001b[0m\u001b[0meval\u001b[0m\u001b[1;33m(\u001b[0m\u001b[0mtree\u001b[0m\u001b[1;33m.\u001b[0m\u001b[0margs\u001b[0m\u001b[1;33m[\u001b[0m\u001b[1;36m1\u001b[0m\u001b[1;33m]\u001b[0m\u001b[1;33m)\u001b[0m\u001b[1;33m\u001b[0m\u001b[1;33m\u001b[0m\u001b[0m\n\u001b[0m\u001b[0;32m    257\u001b[0m         terms = [term for term in left_expr.terms\n\u001b[0;32m    258\u001b[0m                  if term not in right_expr.terms]\n",
      "\u001b[1;32m~\\Atom\\Anacondas\\lib\\site-packages\\patsy\\desc.py\u001b[0m in \u001b[0;36meval\u001b[1;34m(self, tree, require_evalexpr)\u001b[0m\n\u001b[0;32m    398\u001b[0m                                 \u001b[1;34m\"'%s' operator\"\u001b[0m \u001b[1;33m%\u001b[0m \u001b[1;33m(\u001b[0m\u001b[0mtree\u001b[0m\u001b[1;33m.\u001b[0m\u001b[0mtype\u001b[0m\u001b[1;33m,\u001b[0m\u001b[1;33m)\u001b[0m\u001b[1;33m,\u001b[0m\u001b[1;33m\u001b[0m\u001b[1;33m\u001b[0m\u001b[0m\n\u001b[0;32m    399\u001b[0m                                 tree.token)\n\u001b[1;32m--> 400\u001b[1;33m         \u001b[0mresult\u001b[0m \u001b[1;33m=\u001b[0m \u001b[0mself\u001b[0m\u001b[1;33m.\u001b[0m\u001b[0m_evaluators\u001b[0m\u001b[1;33m[\u001b[0m\u001b[0mkey\u001b[0m\u001b[1;33m]\u001b[0m\u001b[1;33m(\u001b[0m\u001b[0mself\u001b[0m\u001b[1;33m,\u001b[0m \u001b[0mtree\u001b[0m\u001b[1;33m)\u001b[0m\u001b[1;33m\u001b[0m\u001b[1;33m\u001b[0m\u001b[0m\n\u001b[0m\u001b[0;32m    401\u001b[0m         \u001b[1;32mif\u001b[0m \u001b[0mrequire_evalexpr\u001b[0m \u001b[1;32mand\u001b[0m \u001b[1;32mnot\u001b[0m \u001b[0misinstance\u001b[0m\u001b[1;33m(\u001b[0m\u001b[0mresult\u001b[0m\u001b[1;33m,\u001b[0m \u001b[0mIntermediateExpr\u001b[0m\u001b[1;33m)\u001b[0m\u001b[1;33m:\u001b[0m\u001b[1;33m\u001b[0m\u001b[1;33m\u001b[0m\u001b[0m\n\u001b[0;32m    402\u001b[0m             \u001b[1;32mif\u001b[0m \u001b[0misinstance\u001b[0m\u001b[1;33m(\u001b[0m\u001b[0mresult\u001b[0m\u001b[1;33m,\u001b[0m \u001b[0mModelDesc\u001b[0m\u001b[1;33m)\u001b[0m\u001b[1;33m:\u001b[0m\u001b[1;33m\u001b[0m\u001b[1;33m\u001b[0m\u001b[0m\n",
      "\u001b[1;32m~\\Atom\\Anacondas\\lib\\site-packages\\patsy\\desc.py\u001b[0m in \u001b[0;36m_eval_number\u001b[1;34m(evaluator, tree)\u001b[0m\n\u001b[0;32m    352\u001b[0m \u001b[1;33m\u001b[0m\u001b[0m\n\u001b[0;32m    353\u001b[0m \u001b[1;32mdef\u001b[0m \u001b[0m_eval_number\u001b[0m\u001b[1;33m(\u001b[0m\u001b[0mevaluator\u001b[0m\u001b[1;33m,\u001b[0m \u001b[0mtree\u001b[0m\u001b[1;33m)\u001b[0m\u001b[1;33m:\u001b[0m\u001b[1;33m\u001b[0m\u001b[1;33m\u001b[0m\u001b[0m\n\u001b[1;32m--> 354\u001b[1;33m     raise PatsyError(\"numbers besides '0' and '1' are \"\n\u001b[0m\u001b[0;32m    355\u001b[0m                         \"only allowed with **\", tree)\n\u001b[0;32m    356\u001b[0m \u001b[1;33m\u001b[0m\u001b[0m\n",
      "\u001b[1;31mPatsyError\u001b[0m: numbers besides '0' and '1' are only allowed with **\n    avg_price_per_kg ~ Weight_Kg + Low_Price + High_Price + Sales_Total + Total_Qty_Sold + Total_Kg_Sold + Stock_On_Hand + Province_CAPE + Province_EASTERN_CAPE + Province_NATAL + Province_ORANGE_FREE_STATE + Province_TRANSVAAL + Province_W.CAPE-BERGRIVER_ETC + Province_WEST_COAST + Container_AC030 + Container_DT063 + Container_EC120 + Container_EF120 + Container_EG140 + Container_IA400 + Container_JE090 + Container_JG110 + Container_M4183 + Container_M6125 + Container_M9125 + Size_Grade_1L + Size_Grade_1M + Size_Grade_1S + Size_Grade_1U + Size_Grade_1X + Size_Grade_2L + Size_Grade_2M + Size_Grade_2S + Size_Grade_2U + Size_Grade_2X + Commodities_APPLE_GOLDEN_DELICIOUS + Date_2019-12 + Date_2020-01 + Date_2020-02 + Date_2020-03 + Date_2020-04 + Date_2020-05 + Date_2020-06 + Date_2020-07 + Date_2020-08 + Date_2020-09 + Date_2020-10\n                                                                                                                                                                                                                                                                                                                                                                                                                                                                                                                                                                                                                                                                                                                 ^^"
     ]
    }
   ],
   "source": [
    "# Fit the model using the model dataframe\n",
    "model=ols(formula=formula_str, data=dfm)\n",
    "fitted = model.fit()\n",
    "\n",
    "# Output the fitted summary\n",
    "print(fitted.summary())"
   ]
  },
  {
   "cell_type": "markdown",
   "metadata": {},
   "source": [
    "#Consider the size of the condition number and the range of the coefficients and expected errors vs absolute size of the coefficients themselves.\n",
    "1. The condition number is large, 6.56e+05.\n"
   ]
  },
  {
   "cell_type": "markdown",
   "metadata": {},
   "source": [
    "We will Store the correlation coefficeints and p-values in a separate DataFrame for reference."
   ]
  },
  {
   "cell_type": "code",
   "execution_count": null,
   "metadata": {},
   "outputs": [],
   "source": [
    "from scipy.stats import pearsonr\n",
    "\n",
    "# Build a dictionary of correlation coefficients and p-values\n",
    "dict_cp = {}\n",
    "\n",
    "column_titles = [col for col in corrs.index if col!= '']\n",
    "for col in column_titles:\n",
    "    p_val = round(pearsonr(df_dummies[col], df_dummies['avg_price_per_kg'])[1],6)\n",
    "    dict_cp[col] = {'Correlation_Coefficient':corrs[col],\n",
    "                    'P_Value':p_val}\n",
    "\n",
    "train_set_cp = pd.DataFrame(dict_cp).T\n",
    "train_set_cp_sorted = train_set_cp.sort_values('P_Value')\n",
    "train_set_cp_sorted[train_set_cp_sorted['P_Value']<0.1]"
   ]
  },
  {
   "cell_type": "markdown",
   "metadata": {},
   "source": [
    " We now Put the variable with a significant correlation in a separate dataframe (look at the P-values)"
   ]
  },
  {
   "cell_type": "code",
   "execution_count": null,
   "metadata": {},
   "outputs": [],
   "source": [
    "# The dependent variable remains the same:\n",
    "y_data = train_set_dummies[y_name]  # y_name = 'Loan_Size'\n",
    "\n",
    "# Model building - Independent Variable (IV) DataFrame\n",
    "X_names = list(train_set_cp[train_set_cp['P_Value'] < 0.05].index)\n",
    "X_data = train_set_dummies[X_names]"
   ]
  },
  {
   "cell_type": "markdown",
   "metadata": {},
   "source": [
    "Then we look for predictor variable pairs with high correlation to each other and drop appropriate variables."
   ]
  },
  {
   "cell_type": "code",
   "execution_count": null,
   "metadata": {},
   "outputs": [],
   "source": [
    "# Create the correlation matrix\n",
    "corr = X_data.corr()\n",
    "\n",
    "# Find rows and columnd where correlation coefficients > 0.9 or <-0.9\n",
    "corr[np.abs(corr) > 0.9]"
   ]
  },
  {
   "cell_type": "code",
   "execution_count": null,
   "metadata": {},
   "outputs": [],
   "source": [
    "# As before, we create the correlation matrix\n",
    "# and find rows and columnd where correlation coefficients > 0.9 or <-0.9\n",
    "corr = X_data.corr()\n",
    "r, c = np.where(np.abs(corr) > 0.9)\n",
    "\n",
    "# We are only interested in the off diagonal entries:\n",
    "off_diagonal = np.where(r != c)\n",
    "\n",
    "# Show the correlation matrix rows and columns where we have highly correlated off diagonal entries:\n",
    "corr.iloc[r[off_diagonal], c[off_diagonal]]"
   ]
  },
  {
   "cell_type": "code",
   "execution_count": null,
   "metadata": {},
   "outputs": [],
   "source": [
    "# Lets take a new subset of our potential independent variables\n",
    "\n",
    "X_remove = ['High_Price']\n",
    "X_remove = ['Low_Price']\n",
    "X_corr_names = [col for col in X_names if col not in X_remove]\n",
    "\n",
    "# Create our new OLS formula based-upon our smaller subset\n",
    "formula_str = y_name+' ~ '+' + '.join(X_corr_names);\n",
    "print('Formula:\\n\\t{}'.format(formula_str))"
   ]
  },
  {
   "cell_type": "markdown",
   "metadata": {},
   "source": [
    "### 5.4. Multivariate regression model uing sklearn.SVR"
   ]
  },
  {
   "cell_type": "markdown",
   "metadata": {},
   "source": [
    "### 5.5. Multivariate regression model using sklearn.decisiontreeregressor"
   ]
  },
  {
   "cell_type": "markdown",
   "metadata": {},
   "source": [
    "### 5.6. Making use of Heterogeneous Ensembles - Voting Method"
   ]
  },
  {
   "cell_type": "markdown",
   "metadata": {},
   "source": [
    "## 7. Conclusion <a name=\"conclude\"></a>"
   ]
  },
  {
   "cell_type": "markdown",
   "metadata": {},
   "source": [
    "### What we accomplished. \n",
    "### What we learnt.\n"
   ]
  },
  {
   "cell_type": "code",
   "execution_count": null,
   "metadata": {},
   "outputs": [],
   "source": []
  }
 ],
 "metadata": {
  "kernelspec": {
   "display_name": "Python 3",
   "language": "python",
   "name": "python3"
  },
  "language_info": {
   "codemirror_mode": {
    "name": "ipython",
    "version": 3
   },
   "file_extension": ".py",
   "mimetype": "text/x-python",
   "name": "python",
   "nbconvert_exporter": "python",
   "pygments_lexer": "ipython3",
   "version": "3.8.5"
  }
 },
 "nbformat": 4,
 "nbformat_minor": 2
}
